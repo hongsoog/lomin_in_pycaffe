{
 "cells": [
  {
   "cell_type": "markdown",
   "id": "6db791e7",
   "metadata": {},
   "source": [
    "# For displaying image in cell\n",
    "\n",
    "* [How to show PIL Image in ipython notebook](https://stackoverflow.com/questions/26649716/how-to-show-pil-image-in-ipython-notebook)"
   ]
  },
  {
   "cell_type": "code",
   "execution_count": 1,
   "id": "8008ed7f",
   "metadata": {},
   "outputs": [],
   "source": [
    "import matplotlib.pyplot as plt\n",
    "from PIL import Image\n",
    "\n",
    "%matplotlib inline"
   ]
  },
  {
   "cell_type": "markdown",
   "id": "3bf69f57",
   "metadata": {},
   "source": [
    "# import for pytorch and caffe"
   ]
  },
  {
   "cell_type": "markdown",
   "id": "b540ed76",
   "metadata": {},
   "source": [
    "## import for pytorch"
   ]
  },
  {
   "cell_type": "code",
   "execution_count": 2,
   "id": "f7afc2f0",
   "metadata": {},
   "outputs": [],
   "source": [
    "import os\n",
    "import argparse\n",
    "from pprint import pprint\n",
    "from glob import glob\n",
    "from tqdm import tqdm\n",
    "\n",
    "from PIL import Image, ImageDraw\n",
    "\n",
    "import torch\n",
    "from torchviz import make_dot\n",
    "from torchvision import models\n",
    "from pprint import pprint\n",
    "\n",
    "import numpy as np\n",
    "\n",
    "from maskrcnn_benchmark.config import cfg\n",
    "from maskrcnn_benchmark.data.transforms import build_transforms\n",
    "from maskrcnn_benchmark.modeling.detector import build_detection_model\n",
    "from maskrcnn_benchmark.utils.checkpoint import DetectronCheckpointer\n",
    "from maskrcnn_benchmark.structures.bounding_box import BoxList\n",
    "from maskrcnn_benchmark.structures.image_list import to_image_list\n",
    "from maskrcnn_benchmark.utils.label_catalog import LabelCatalog\n",
    "from maskrcnn_benchmark.utils.converter import Converter"
   ]
  },
  {
   "cell_type": "markdown",
   "id": "cb0529ac",
   "metadata": {},
   "source": [
    "## import caffe"
   ]
  },
  {
   "cell_type": "code",
   "execution_count": 3,
   "id": "db8966ad",
   "metadata": {},
   "outputs": [],
   "source": [
    "import caffe"
   ]
  },
  {
   "cell_type": "markdown",
   "id": "35783766",
   "metadata": {},
   "source": [
    "## version check"
   ]
  },
  {
   "cell_type": "code",
   "execution_count": 4,
   "id": "1811a76e",
   "metadata": {},
   "outputs": [
    {
     "name": "stdout",
     "output_type": "stream",
     "text": [
      "1.0.0\n"
     ]
    }
   ],
   "source": [
    "print(caffe.__version__)\n"
   ]
  },
  {
   "cell_type": "code",
   "execution_count": 5,
   "id": "e4b3fcb6",
   "metadata": {},
   "outputs": [
    {
     "name": "stdout",
     "output_type": "stream",
     "text": [
      "1.4.0\n"
     ]
    }
   ],
   "source": [
    "print(torch.__version__)"
   ]
  },
  {
   "cell_type": "markdown",
   "id": "9999d52c",
   "metadata": {},
   "source": [
    "# Detection Model in PyTorch"
   ]
  },
  {
   "cell_type": "code",
   "execution_count": 38,
   "id": "ae3d083c",
   "metadata": {},
   "outputs": [],
   "source": [
    "# for debugging image transformation result and image padding result\n",
    "# https://stackoverflow.com/questions/423379/using-global-variables-in-a-function\n",
    "image_tensor = None\n",
    "image_list = None\n",
    "\n",
    "class DetectionDemo(object):\n",
    "    #--------------------------------\n",
    "    # __init__(cfg, weight, is_recognition=False)\n",
    "    #--------------------------------\n",
    "    def __init__(self, cfg, weight, is_recognition=False):\n",
    "        self.is_recognition = is_recognition\n",
    "        self.cfg = cfg.clone()\n",
    "        self.device = torch.device(cfg.MODEL.DEVICE)\n",
    "        #self.device = torch.device(\"cpu\")\n",
    "        self.model =  build_detection_model(self.cfg)\n",
    "        \n",
    "         # set to evaluation mode for interference\n",
    "        self.model.eval()\n",
    "        \n",
    "        self.model.to(self.device)\n",
    "       \n",
    "        checkpointer = DetectronCheckpointer(cfg, self.model, save_dir='/dev/null')\n",
    "        _ = checkpointer.load(weight)\n",
    "\n",
    "        # build_transforms defined in maskrcnn_benchmark.data.transforms/*.py\n",
    "        self.transforms = build_transforms(self.cfg, self.is_recognition)\n",
    "        self.cpu_device = torch.device(\"cpu\")\n",
    "        self.score_thresh = self.cfg.TEST.SCORE_THRESHOLD\n",
    "        \n",
    "    #--------------------------------\n",
    "    # run_on_pil(image_origin)\n",
    "    #--------------------------------\n",
    "    def run_on_pil_image(self, image_origin):\n",
    "        # pil_image defined in __main__\n",
    "        \n",
    "        prediction = self.compute_prediction(pil_image)\n",
    "        prediction = self.filter_by_score(prediction)\n",
    "        prediction = prediction.resize(image_origin.size)\n",
    "        result = self.parse_result(prediction)\n",
    "        return result\n",
    "\n",
    "\n",
    "    #--------------------------------\n",
    "    # compute_predicion(image)\n",
    "    #--------------------------------\n",
    "    def compute_prediction(self, image):\n",
    "\n",
    "        # store results in global variable for debugging in JL\n",
    "        global image_tensor, image_list\n",
    "        image_tensor = self.transforms(image)\n",
    "\n",
    "        image_list = to_image_list(image_tensor, self.cfg.DATALOADER.SIZE_DIVISIBILITY).to(self.device)\n",
    "\n",
    "        torch.save(self.model, \"./detection_model_v2.pth\")\n",
    "        torch.save(self.model.backbone, \"./detection_model_v2_backbone.pth\")\n",
    "        torch.save(self.model.backbone.body, \"./detection_model_v2_backbone_body.pth\")\n",
    "        torch.save(self.model.backbone.fpn, \"./detection_model_v2_backbone_fpn.pth\")\n",
    "\n",
    "        with torch.no_grad():\n",
    "            pred = self.model(image_list)\n",
    "            pred = pred[0].to(self.cpu_device)\n",
    "\n",
    "        \"\"\"\n",
    "        model_param_dict = dict(self.model.named_parameters())\n",
    "        print(\"-\"*80)\n",
    "\n",
    "        for key, value in model_param_dict.items():\n",
    "            print(key)\n",
    "            print(value)\n",
    "            print(\"-\"*80)\n",
    "        \"\"\"\n",
    "\n",
    "        # make_dot(self.model(image_list), params=model_param_dict).render(f\"detection_model_{version}\", format=\"png\")\n",
    "        # https: // github.com / szagoruyko / pytorchviz / blob / master / examples.ipynb\n",
    "        \"\"\"\n",
    "        with torch.onnx.set_training(self.model.backbone, False):\n",
    "            trace, _ = torch.jit._get_trace_graph(self.model, args(image_list))\n",
    "        make_dot_from_trace(trace).render(f\"detection_mode_{version}_structure\", format=\"png\")\n",
    "        \"\"\"\n",
    "        return pred\n",
    "\n",
    "\n",
    "    #--------------------------------\n",
    "    # filter_by_score(predition)\n",
    "    #--------------------------------\n",
    "    def filter_by_score(self, prediction):\n",
    "        filter_thres = prediction.get_field('scores') > self.score_thresh\n",
    "        return prediction[filter_thres]\n",
    "\n",
    "    #--------------------------------\n",
    "    # parse_result(pred)\n",
    "    #--------------------------------\n",
    "    def parse_result(self, pred):\n",
    "        bbox = pred.bbox.numpy().tolist()\n",
    "        scores = pred.get_field('scores').numpy().tolist()\n",
    "        #labels = pred.get_field('labels').numpy().tolist()\n",
    "        return dict(\n",
    "            bboxes=bbox,     # list of [x1, y1, x2, y2]\n",
    "            #labels=labels,  # no interest on label\n",
    "            scores=scores,\n",
    "        )\n",
    "\n",
    "\n",
    "# detection model conf and weidht file names\n",
    "detect_model = {\n",
    "        \"v1\" :\n",
    "        {\n",
    "            \"config_file\" : \"config_det_v1_200723_001_180k.yaml\",\n",
    "            \"weight_file\" : \"model_det_v1_200723_001_180k.pth\"\n",
    "\n",
    "        },\n",
    "        \"v2\" :\n",
    "        {\n",
    "            \"config_file\" : \"config_det_v2_200924_002_180k.yaml\",\n",
    "            \"weight_file\" : \"model_det_v2_200924_002_180k.pth\"\n",
    "        }\n",
    "}\n"
   ]
  },
  {
   "cell_type": "markdown",
   "id": "16edd4f9",
   "metadata": {},
   "source": [
    "## set detection model version"
   ]
  },
  {
   "cell_type": "code",
   "execution_count": 39,
   "id": "91f6754a",
   "metadata": {},
   "outputs": [],
   "source": [
    "version = \"v2\""
   ]
  },
  {
   "cell_type": "code",
   "execution_count": 40,
   "id": "536c4779",
   "metadata": {},
   "outputs": [],
   "source": [
    "# set model conf file path and mode weight file path\n",
    "# prefixed by ./model/[detection|recognition]\n",
    "config_file = os.path.join('./model/detection', detect_model[version][\"config_file\"])\n",
    "weight_file = os.path.join('./model/detection', detect_model[version][\"weight_file\"])"
   ]
  },
  {
   "cell_type": "code",
   "execution_count": 41,
   "id": "bc8e92e6",
   "metadata": {},
   "outputs": [
    {
     "name": "stdout",
     "output_type": "stream",
     "text": [
      "config file path: ./model/detection/config_det_v2_200924_002_180k.yaml\n",
      "weight file path: ./model/detection/model_det_v2_200924_002_180k.pth\n"
     ]
    }
   ],
   "source": [
    "# print cfg file path and weight file path (DEBUG)\n",
    "print(f\"config file path: {config_file}\")\n",
    "print(f\"weight file path: {weight_file}\")"
   ]
  },
  {
   "cell_type": "code",
   "execution_count": 42,
   "id": "0073a725",
   "metadata": {},
   "outputs": [],
   "source": [
    " # clone project level config and merge with experiment config\n",
    "cfg = cfg.clone()\n",
    "cfg.merge_from_file(config_file)"
   ]
  },
  {
   "cell_type": "markdown",
   "id": "5afa85ad",
   "metadata": {},
   "source": [
    "## Detection Model V2 configuration"
   ]
  },
  {
   "cell_type": "code",
   "execution_count": 43,
   "id": "6cbf634c",
   "metadata": {
    "collapsed": true,
    "jupyter": {
     "outputs_hidden": true
    }
   },
   "outputs": [
    {
     "name": "stdout",
     "output_type": "stream",
     "text": [
      "DATALOADER:\n",
      "  SIZE_DIVISIBILITY: 32\n",
      "INPUT:\n",
      "  FIXED_SIZE: (-1, -1)\n",
      "  MAX_SIZE_TEST: 640\n",
      "  MIN_SIZE_TEST: 480\n",
      "  PIXEL_MEAN: [102.9801, 115.9465, 122.7717]\n",
      "  PIXEL_STD: [1.0, 1.0, 1.0]\n",
      "  RESIZE_MODE: keep_ratio\n",
      "  TARGET_INTERPOLATION: bilinear\n",
      "  TO_BGR255: True\n",
      "  TO_N1P1: False\n",
      "MODEL:\n",
      "  BACKBONE:\n",
      "    CONV_BODY: R-50-FPN-RETINANET\n",
      "    FREEZE_CONV_BODY_AT: 2\n",
      "  DEVICE: cuda\n",
      "  FPN:\n",
      "    USE_GN: False\n",
      "    USE_RELU: False\n",
      "  GROUP_NORM:\n",
      "    DIM_PER_GP: -1\n",
      "    EPSILON: 1e-05\n",
      "    NUM_GROUPS: 32\n",
      "  MASK_ON: False\n",
      "  META_ARCHITECTURE: GeneralizedRCNN\n",
      "  RECOGNITION: False\n",
      "  RESNETS:\n",
      "    BACKBONE_OUT_CHANNELS: 1024\n",
      "    DEFORMABLE_GROUPS: 1\n",
      "    NUM_GROUPS: 1\n",
      "    RES2_OUT_CHANNELS: 256\n",
      "    RES5_DILATION: 1\n",
      "    STAGE_WITH_DCN: (False, False, False, False)\n",
      "    STEM_FUNC: StemWithFixedBatchNorm\n",
      "    STEM_OUT_CHANNELS: 64\n",
      "    STRIDE_IN_1X1: True\n",
      "    TRANS_FUNC: BottleneckWithFixedBatchNorm\n",
      "    WIDTH_PER_GROUP: 64\n",
      "    WITH_MODULATED_DCN: False\n",
      "  RETINANET:\n",
      "    ANCHOR_SIZES: (32, 64, 128, 256, 512)\n",
      "    ANCHOR_STRIDES: (8, 16, 32, 64, 128)\n",
      "    ASPECT_RATIOS: (0.5, 1.0, 2.0)\n",
      "    BBOX_REG_BETA: 0.11\n",
      "    BBOX_REG_WEIGHT: 4.0\n",
      "    BG_IOU_THRESHOLD: 0.4\n",
      "    FG_IOU_THRESHOLD: 0.5\n",
      "    INFERENCE_TH: 0.05\n",
      "    LOSS_ALPHA: 0.25\n",
      "    LOSS_GAMMA: 2.0\n",
      "    NMS_TH: 0.4\n",
      "    NUM_CLASSES: 2\n",
      "    NUM_CONVS: 4\n",
      "    OCTAVE: 2.0\n",
      "    PRE_NMS_TOP_N: 1000\n",
      "    PRIOR_PROB: 0.01\n",
      "    SCALES_PER_OCTAVE: 3\n",
      "    STRADDLE_THRESH: -1\n",
      "    USE_C5: True\n",
      "  RETINANET_ON: True\n",
      "  RPN:\n",
      "    ANCHOR_SIZES: (32, 64, 128, 256, 512)\n",
      "    ANCHOR_STRIDE: (4, 8, 16, 32, 64)\n",
      "    ASPECT_RATIOS: (0.5, 1.0, 2.0)\n",
      "    BATCH_SIZE_PER_IMAGE: 256\n",
      "    BG_IOU_THRESHOLD: 0.4\n",
      "    FG_IOU_THRESHOLD: 0.5\n",
      "    FPN_POST_NMS_PER_BATCH: True\n",
      "    FPN_POST_NMS_TOP_N_TEST: 1000\n",
      "    FPN_POST_NMS_TOP_N_TRAIN: 2000\n",
      "    MIN_SIZE: 0\n",
      "    NMS_THRESH: 0.7\n",
      "    POSITIVE_FRACTION: 0.5\n",
      "    POST_NMS_TOP_N_TEST: 1000\n",
      "    POST_NMS_TOP_N_TRAIN: 2000\n",
      "    PRE_NMS_TOP_N_TEST: 1000\n",
      "    PRE_NMS_TOP_N_TRAIN: 2000\n",
      "    RPN_HEAD: SingleConvRPNHead\n",
      "    STRADDLE_THRESH: 0\n",
      "    USE_FPN: True\n",
      "  RPN_ONLY: True\n",
      "  TEXT_RECOGNIZER:\n",
      "    BATCH_MAX_LENGTH: 25\n",
      "    CHARACTER: ('num', 'eng_cap', 'eng_low', 'kor_2350')\n",
      "    CNN_CHANNELS: 512\n",
      "    CNN_NUM_POOLING: 4\n",
      "    OUTCONV_KS: (1, 1)\n",
      "    TRANSFORMER_DECODER_MODULE_NO: -1\n",
      "    TRANSFORMER_ENCODER_MODULE_NO: -1\n",
      "    TRANSFORMER_FSIZE: 512\n",
      "    TRANSFORMER_MODULE_NO: 6\n",
      "    TRANSFORMER_NO_RECURRENT_PATH: False\n",
      "    USE_PROJECTION: False\n",
      "  TIMM:\n",
      "    BACKBONE_OUT_CHANNELS: 256\n",
      "    OUT_INDICES: (2, 3, 4)\n",
      "    USE_PRETRAINED: True\n",
      "TEST:\n",
      "  DETECTIONS_PER_IMG: 100\n",
      "  EXPECTED_RESULTS: []\n",
      "  EXPECTED_RESULTS_SIGMA_TOL: 4\n",
      "  IMS_PER_BATCH: 8\n",
      "  NMS_THRESH: 0.5\n",
      "  SCORE_THRESHOLD: 0.3\n"
     ]
    }
   ],
   "source": [
    "print(cfg)"
   ]
  },
  {
   "cell_type": "code",
   "execution_count": 44,
   "id": "05fb8d9e",
   "metadata": {},
   "outputs": [],
   "source": [
    "# Detection model object creation\n",
    "demo = DetectionDemo(cfg, weight_file)"
   ]
  },
  {
   "cell_type": "markdown",
   "id": "e4562268",
   "metadata": {},
   "source": [
    "## Accessing with model object\n",
    "\n",
    "모델 오브젝트인 demo를 사용하여 다음과 같이 model 및 model을 구성하는 `nn.Module` 서브 클래스들을 접근할 수 있다.\n",
    ">  dot '.'을 입력하고 TAB을 눌러서 자동 확장으로 확인할 수 있다.\n",
    "* demo.model\n",
    "* demo.model.backbone\n",
    "* demo.model.backbone.body\n",
    "* demo.model.backbone.body.stem\n",
    "* demo.model.backbone.body.stem.conv1.weigth\n",
    "* demo.model.backbone.body.stem.conv1.bias\n"
   ]
  },
  {
   "cell_type": "markdown",
   "id": "804172fc",
   "metadata": {},
   "source": [
    "## detection v2 model structure\n",
    "\n",
    "detection v2 model의 전체 구조는 다음과 같이 feature extraction을 위한 2개의 네트워크(backbone net와 region proposal net)으로 구성되어 있다.\n",
    "* backbone : body + rpn\n",
    "  * body : resnet50\n",
    "  * frn : feature pyramid net\n",
    "* rpn : region proposal net  "
   ]
  },
  {
   "cell_type": "code",
   "execution_count": 45,
   "id": "19a824b5",
   "metadata": {},
   "outputs": [
    {
     "name": "stdout",
     "output_type": "stream",
     "text": [
      "GeneralizedRCNN(\n",
      "  (backbone): Sequential(\n",
      "    (body): ResNet(\n",
      "      (stem): StemWithFixedBatchNorm(\n",
      "        (conv1): Conv2d(3, 64, kernel_size=(7, 7), stride=(2, 2), padding=(3, 3), bias=False)\n",
      "        (bn1): FrozenBatchNorm2d()\n",
      "      )\n",
      "      (layer1): Sequential(\n",
      "        (0): BottleneckWithFixedBatchNorm(\n",
      "          (downsample): Sequential(\n",
      "            (0): Conv2d(64, 256, kernel_size=(1, 1), stride=(1, 1), bias=False)\n",
      "            (1): FrozenBatchNorm2d()\n",
      "          )\n",
      "          (conv1): Conv2d(64, 64, kernel_size=(1, 1), stride=(1, 1), bias=False)\n",
      "          (bn1): FrozenBatchNorm2d()\n",
      "          (conv2): Conv2d(64, 64, kernel_size=(3, 3), stride=(1, 1), padding=(1, 1), bias=False)\n",
      "          (bn2): FrozenBatchNorm2d()\n",
      "          (conv3): Conv2d(64, 256, kernel_size=(1, 1), stride=(1, 1), bias=False)\n",
      "          (bn3): FrozenBatchNorm2d()\n",
      "        )\n",
      "        (1): BottleneckWithFixedBatchNorm(\n",
      "          (conv1): Conv2d(256, 64, kernel_size=(1, 1), stride=(1, 1), bias=False)\n",
      "          (bn1): FrozenBatchNorm2d()\n",
      "          (conv2): Conv2d(64, 64, kernel_size=(3, 3), stride=(1, 1), padding=(1, 1), bias=False)\n",
      "          (bn2): FrozenBatchNorm2d()\n",
      "          (conv3): Conv2d(64, 256, kernel_size=(1, 1), stride=(1, 1), bias=False)\n",
      "          (bn3): FrozenBatchNorm2d()\n",
      "        )\n",
      "        (2): BottleneckWithFixedBatchNorm(\n",
      "          (conv1): Conv2d(256, 64, kernel_size=(1, 1), stride=(1, 1), bias=False)\n",
      "          (bn1): FrozenBatchNorm2d()\n",
      "          (conv2): Conv2d(64, 64, kernel_size=(3, 3), stride=(1, 1), padding=(1, 1), bias=False)\n",
      "          (bn2): FrozenBatchNorm2d()\n",
      "          (conv3): Conv2d(64, 256, kernel_size=(1, 1), stride=(1, 1), bias=False)\n",
      "          (bn3): FrozenBatchNorm2d()\n",
      "        )\n",
      "      )\n",
      "      (layer2): Sequential(\n",
      "        (0): BottleneckWithFixedBatchNorm(\n",
      "          (downsample): Sequential(\n",
      "            (0): Conv2d(256, 512, kernel_size=(1, 1), stride=(2, 2), bias=False)\n",
      "            (1): FrozenBatchNorm2d()\n",
      "          )\n",
      "          (conv1): Conv2d(256, 128, kernel_size=(1, 1), stride=(2, 2), bias=False)\n",
      "          (bn1): FrozenBatchNorm2d()\n",
      "          (conv2): Conv2d(128, 128, kernel_size=(3, 3), stride=(1, 1), padding=(1, 1), bias=False)\n",
      "          (bn2): FrozenBatchNorm2d()\n",
      "          (conv3): Conv2d(128, 512, kernel_size=(1, 1), stride=(1, 1), bias=False)\n",
      "          (bn3): FrozenBatchNorm2d()\n",
      "        )\n",
      "        (1): BottleneckWithFixedBatchNorm(\n",
      "          (conv1): Conv2d(512, 128, kernel_size=(1, 1), stride=(1, 1), bias=False)\n",
      "          (bn1): FrozenBatchNorm2d()\n",
      "          (conv2): Conv2d(128, 128, kernel_size=(3, 3), stride=(1, 1), padding=(1, 1), bias=False)\n",
      "          (bn2): FrozenBatchNorm2d()\n",
      "          (conv3): Conv2d(128, 512, kernel_size=(1, 1), stride=(1, 1), bias=False)\n",
      "          (bn3): FrozenBatchNorm2d()\n",
      "        )\n",
      "        (2): BottleneckWithFixedBatchNorm(\n",
      "          (conv1): Conv2d(512, 128, kernel_size=(1, 1), stride=(1, 1), bias=False)\n",
      "          (bn1): FrozenBatchNorm2d()\n",
      "          (conv2): Conv2d(128, 128, kernel_size=(3, 3), stride=(1, 1), padding=(1, 1), bias=False)\n",
      "          (bn2): FrozenBatchNorm2d()\n",
      "          (conv3): Conv2d(128, 512, kernel_size=(1, 1), stride=(1, 1), bias=False)\n",
      "          (bn3): FrozenBatchNorm2d()\n",
      "        )\n",
      "        (3): BottleneckWithFixedBatchNorm(\n",
      "          (conv1): Conv2d(512, 128, kernel_size=(1, 1), stride=(1, 1), bias=False)\n",
      "          (bn1): FrozenBatchNorm2d()\n",
      "          (conv2): Conv2d(128, 128, kernel_size=(3, 3), stride=(1, 1), padding=(1, 1), bias=False)\n",
      "          (bn2): FrozenBatchNorm2d()\n",
      "          (conv3): Conv2d(128, 512, kernel_size=(1, 1), stride=(1, 1), bias=False)\n",
      "          (bn3): FrozenBatchNorm2d()\n",
      "        )\n",
      "      )\n",
      "      (layer3): Sequential(\n",
      "        (0): BottleneckWithFixedBatchNorm(\n",
      "          (downsample): Sequential(\n",
      "            (0): Conv2d(512, 1024, kernel_size=(1, 1), stride=(2, 2), bias=False)\n",
      "            (1): FrozenBatchNorm2d()\n",
      "          )\n",
      "          (conv1): Conv2d(512, 256, kernel_size=(1, 1), stride=(2, 2), bias=False)\n",
      "          (bn1): FrozenBatchNorm2d()\n",
      "          (conv2): Conv2d(256, 256, kernel_size=(3, 3), stride=(1, 1), padding=(1, 1), bias=False)\n",
      "          (bn2): FrozenBatchNorm2d()\n",
      "          (conv3): Conv2d(256, 1024, kernel_size=(1, 1), stride=(1, 1), bias=False)\n",
      "          (bn3): FrozenBatchNorm2d()\n",
      "        )\n",
      "        (1): BottleneckWithFixedBatchNorm(\n",
      "          (conv1): Conv2d(1024, 256, kernel_size=(1, 1), stride=(1, 1), bias=False)\n",
      "          (bn1): FrozenBatchNorm2d()\n",
      "          (conv2): Conv2d(256, 256, kernel_size=(3, 3), stride=(1, 1), padding=(1, 1), bias=False)\n",
      "          (bn2): FrozenBatchNorm2d()\n",
      "          (conv3): Conv2d(256, 1024, kernel_size=(1, 1), stride=(1, 1), bias=False)\n",
      "          (bn3): FrozenBatchNorm2d()\n",
      "        )\n",
      "        (2): BottleneckWithFixedBatchNorm(\n",
      "          (conv1): Conv2d(1024, 256, kernel_size=(1, 1), stride=(1, 1), bias=False)\n",
      "          (bn1): FrozenBatchNorm2d()\n",
      "          (conv2): Conv2d(256, 256, kernel_size=(3, 3), stride=(1, 1), padding=(1, 1), bias=False)\n",
      "          (bn2): FrozenBatchNorm2d()\n",
      "          (conv3): Conv2d(256, 1024, kernel_size=(1, 1), stride=(1, 1), bias=False)\n",
      "          (bn3): FrozenBatchNorm2d()\n",
      "        )\n",
      "        (3): BottleneckWithFixedBatchNorm(\n",
      "          (conv1): Conv2d(1024, 256, kernel_size=(1, 1), stride=(1, 1), bias=False)\n",
      "          (bn1): FrozenBatchNorm2d()\n",
      "          (conv2): Conv2d(256, 256, kernel_size=(3, 3), stride=(1, 1), padding=(1, 1), bias=False)\n",
      "          (bn2): FrozenBatchNorm2d()\n",
      "          (conv3): Conv2d(256, 1024, kernel_size=(1, 1), stride=(1, 1), bias=False)\n",
      "          (bn3): FrozenBatchNorm2d()\n",
      "        )\n",
      "        (4): BottleneckWithFixedBatchNorm(\n",
      "          (conv1): Conv2d(1024, 256, kernel_size=(1, 1), stride=(1, 1), bias=False)\n",
      "          (bn1): FrozenBatchNorm2d()\n",
      "          (conv2): Conv2d(256, 256, kernel_size=(3, 3), stride=(1, 1), padding=(1, 1), bias=False)\n",
      "          (bn2): FrozenBatchNorm2d()\n",
      "          (conv3): Conv2d(256, 1024, kernel_size=(1, 1), stride=(1, 1), bias=False)\n",
      "          (bn3): FrozenBatchNorm2d()\n",
      "        )\n",
      "        (5): BottleneckWithFixedBatchNorm(\n",
      "          (conv1): Conv2d(1024, 256, kernel_size=(1, 1), stride=(1, 1), bias=False)\n",
      "          (bn1): FrozenBatchNorm2d()\n",
      "          (conv2): Conv2d(256, 256, kernel_size=(3, 3), stride=(1, 1), padding=(1, 1), bias=False)\n",
      "          (bn2): FrozenBatchNorm2d()\n",
      "          (conv3): Conv2d(256, 1024, kernel_size=(1, 1), stride=(1, 1), bias=False)\n",
      "          (bn3): FrozenBatchNorm2d()\n",
      "        )\n",
      "      )\n",
      "      (layer4): Sequential(\n",
      "        (0): BottleneckWithFixedBatchNorm(\n",
      "          (downsample): Sequential(\n",
      "            (0): Conv2d(1024, 2048, kernel_size=(1, 1), stride=(2, 2), bias=False)\n",
      "            (1): FrozenBatchNorm2d()\n",
      "          )\n",
      "          (conv1): Conv2d(1024, 512, kernel_size=(1, 1), stride=(2, 2), bias=False)\n",
      "          (bn1): FrozenBatchNorm2d()\n",
      "          (conv2): Conv2d(512, 512, kernel_size=(3, 3), stride=(1, 1), padding=(1, 1), bias=False)\n",
      "          (bn2): FrozenBatchNorm2d()\n",
      "          (conv3): Conv2d(512, 2048, kernel_size=(1, 1), stride=(1, 1), bias=False)\n",
      "          (bn3): FrozenBatchNorm2d()\n",
      "        )\n",
      "        (1): BottleneckWithFixedBatchNorm(\n",
      "          (conv1): Conv2d(2048, 512, kernel_size=(1, 1), stride=(1, 1), bias=False)\n",
      "          (bn1): FrozenBatchNorm2d()\n",
      "          (conv2): Conv2d(512, 512, kernel_size=(3, 3), stride=(1, 1), padding=(1, 1), bias=False)\n",
      "          (bn2): FrozenBatchNorm2d()\n",
      "          (conv3): Conv2d(512, 2048, kernel_size=(1, 1), stride=(1, 1), bias=False)\n",
      "          (bn3): FrozenBatchNorm2d()\n",
      "        )\n",
      "        (2): BottleneckWithFixedBatchNorm(\n",
      "          (conv1): Conv2d(2048, 512, kernel_size=(1, 1), stride=(1, 1), bias=False)\n",
      "          (bn1): FrozenBatchNorm2d()\n",
      "          (conv2): Conv2d(512, 512, kernel_size=(3, 3), stride=(1, 1), padding=(1, 1), bias=False)\n",
      "          (bn2): FrozenBatchNorm2d()\n",
      "          (conv3): Conv2d(512, 2048, kernel_size=(1, 1), stride=(1, 1), bias=False)\n",
      "          (bn3): FrozenBatchNorm2d()\n",
      "        )\n",
      "      )\n",
      "    )\n",
      "    (fpn): FPN(\n",
      "      (fpn_inner2): Conv2d(512, 1024, kernel_size=(1, 1), stride=(1, 1))\n",
      "      (fpn_layer2): Conv2d(1024, 1024, kernel_size=(3, 3), stride=(1, 1), padding=(1, 1))\n",
      "      (fpn_inner3): Conv2d(1024, 1024, kernel_size=(1, 1), stride=(1, 1))\n",
      "      (fpn_layer3): Conv2d(1024, 1024, kernel_size=(3, 3), stride=(1, 1), padding=(1, 1))\n",
      "      (fpn_inner4): Conv2d(2048, 1024, kernel_size=(1, 1), stride=(1, 1))\n",
      "      (fpn_layer4): Conv2d(1024, 1024, kernel_size=(3, 3), stride=(1, 1), padding=(1, 1))\n",
      "      (top_blocks): LastLevelP6P7(\n",
      "        (p6): Conv2d(2048, 1024, kernel_size=(3, 3), stride=(2, 2), padding=(1, 1))\n",
      "        (p7): Conv2d(1024, 1024, kernel_size=(3, 3), stride=(2, 2), padding=(1, 1))\n",
      "      )\n",
      "    )\n",
      "  )\n",
      "  (rpn): RetinaNetModule(\n",
      "    (anchor_generator): AnchorGenerator(\n",
      "      (cell_anchors): BufferList()\n",
      "    )\n",
      "    (head): RetinaNetHead(\n",
      "      (cls_tower): Sequential(\n",
      "        (0): Conv2d(1024, 1024, kernel_size=(3, 3), stride=(1, 1), padding=(1, 1))\n",
      "        (1): ReLU()\n",
      "        (2): Conv2d(1024, 1024, kernel_size=(3, 3), stride=(1, 1), padding=(1, 1))\n",
      "        (3): ReLU()\n",
      "        (4): Conv2d(1024, 1024, kernel_size=(3, 3), stride=(1, 1), padding=(1, 1))\n",
      "        (5): ReLU()\n",
      "        (6): Conv2d(1024, 1024, kernel_size=(3, 3), stride=(1, 1), padding=(1, 1))\n",
      "        (7): ReLU()\n",
      "      )\n",
      "      (bbox_tower): Sequential(\n",
      "        (0): Conv2d(1024, 1024, kernel_size=(3, 3), stride=(1, 1), padding=(1, 1))\n",
      "        (1): ReLU()\n",
      "        (2): Conv2d(1024, 1024, kernel_size=(3, 3), stride=(1, 1), padding=(1, 1))\n",
      "        (3): ReLU()\n",
      "        (4): Conv2d(1024, 1024, kernel_size=(3, 3), stride=(1, 1), padding=(1, 1))\n",
      "        (5): ReLU()\n",
      "        (6): Conv2d(1024, 1024, kernel_size=(3, 3), stride=(1, 1), padding=(1, 1))\n",
      "        (7): ReLU()\n",
      "      )\n",
      "      (cls_logits): Conv2d(1024, 9, kernel_size=(3, 3), stride=(1, 1), padding=(1, 1))\n",
      "      (bbox_pred): Conv2d(1024, 36, kernel_size=(3, 3), stride=(1, 1), padding=(1, 1))\n",
      "    )\n",
      "    (box_selector_test): RetinaNetPostProcessor()\n",
      "  )\n",
      ")\n"
     ]
    }
   ],
   "source": [
    "print(demo.model)"
   ]
  },
  {
   "cell_type": "markdown",
   "id": "c35a2733",
   "metadata": {},
   "source": [
    "### backbone network : body + fpn\n",
    "\n",
    "계층 구조별로 dot으로 구분하면서 레이어의 정보를 확인할 수 있다. \n",
    "아래의 예제는 `demo.model.backbone.body.stem.conv1` 레이어의 입력 파라메터를 확인하는 예이다.\n",
    "> dot '.'을 입력하고 TAB을 눌러서 자동 확장으로 확인할 수 있다.\n",
    "\n"
   ]
  },
  {
   "cell_type": "code",
   "execution_count": 46,
   "id": "ab43889e",
   "metadata": {},
   "outputs": [
    {
     "name": "stdout",
     "output_type": "stream",
     "text": [
      "demo.model.backbone.body.stem.conv1: Conv2d(3, 64, kernel_size=(7, 7), stride=(2, 2), padding=(3, 3), bias=False)\n",
      "demo.model.backbone.body.stem.conv1.in_channels: 3\n",
      "demo.model.backbone.body.stem.conv1.out_channels: 64\n",
      "demo.model.backbone.body.stem.conv1.kernel_size: (7, 7)\n",
      "demo.model.backbone.body.stem.conv1.stride: (2, 2)\n",
      "demo.model.backbone.body.stem.conv1.padding: (3, 3)\n",
      "demo.model.backbone.body.stem.conv1.bias: None\n"
     ]
    }
   ],
   "source": [
    "print(f\"demo.model.backbone.body.stem.conv1: {demo.model.backbone.body.stem.conv1}\")\n",
    "print(f\"demo.model.backbone.body.stem.conv1.in_channels: {demo.model.backbone.body.stem.conv1.in_channels}\" )\n",
    "print(f\"demo.model.backbone.body.stem.conv1.out_channels: {demo.model.backbone.body.stem.conv1.out_channels}\" )\n",
    "print(f\"demo.model.backbone.body.stem.conv1.kernel_size: {demo.model.backbone.body.stem.conv1.kernel_size}\")\n",
    "print(f\"demo.model.backbone.body.stem.conv1.stride: {demo.model.backbone.body.stem.conv1.stride}\")\n",
    "print(f\"demo.model.backbone.body.stem.conv1.padding: {demo.model.backbone.body.stem.conv1.padding}\")\n",
    "print(f\"demo.model.backbone.body.stem.conv1.bias: {demo.model.backbone.body.stem.conv1.bias}\")"
   ]
  },
  {
   "cell_type": "markdown",
   "id": "05968050",
   "metadata": {},
   "source": [
    "#### body : Resnet50"
   ]
  },
  {
   "cell_type": "code",
   "execution_count": 47,
   "id": "99dfb16c",
   "metadata": {
    "collapsed": true,
    "jupyter": {
     "outputs_hidden": true
    }
   },
   "outputs": [
    {
     "name": "stdout",
     "output_type": "stream",
     "text": [
      "ResNet(\n",
      "  (stem): StemWithFixedBatchNorm(\n",
      "    (conv1): Conv2d(3, 64, kernel_size=(7, 7), stride=(2, 2), padding=(3, 3), bias=False)\n",
      "    (bn1): FrozenBatchNorm2d()\n",
      "  )\n",
      "  (layer1): Sequential(\n",
      "    (0): BottleneckWithFixedBatchNorm(\n",
      "      (downsample): Sequential(\n",
      "        (0): Conv2d(64, 256, kernel_size=(1, 1), stride=(1, 1), bias=False)\n",
      "        (1): FrozenBatchNorm2d()\n",
      "      )\n",
      "      (conv1): Conv2d(64, 64, kernel_size=(1, 1), stride=(1, 1), bias=False)\n",
      "      (bn1): FrozenBatchNorm2d()\n",
      "      (conv2): Conv2d(64, 64, kernel_size=(3, 3), stride=(1, 1), padding=(1, 1), bias=False)\n",
      "      (bn2): FrozenBatchNorm2d()\n",
      "      (conv3): Conv2d(64, 256, kernel_size=(1, 1), stride=(1, 1), bias=False)\n",
      "      (bn3): FrozenBatchNorm2d()\n",
      "    )\n",
      "    (1): BottleneckWithFixedBatchNorm(\n",
      "      (conv1): Conv2d(256, 64, kernel_size=(1, 1), stride=(1, 1), bias=False)\n",
      "      (bn1): FrozenBatchNorm2d()\n",
      "      (conv2): Conv2d(64, 64, kernel_size=(3, 3), stride=(1, 1), padding=(1, 1), bias=False)\n",
      "      (bn2): FrozenBatchNorm2d()\n",
      "      (conv3): Conv2d(64, 256, kernel_size=(1, 1), stride=(1, 1), bias=False)\n",
      "      (bn3): FrozenBatchNorm2d()\n",
      "    )\n",
      "    (2): BottleneckWithFixedBatchNorm(\n",
      "      (conv1): Conv2d(256, 64, kernel_size=(1, 1), stride=(1, 1), bias=False)\n",
      "      (bn1): FrozenBatchNorm2d()\n",
      "      (conv2): Conv2d(64, 64, kernel_size=(3, 3), stride=(1, 1), padding=(1, 1), bias=False)\n",
      "      (bn2): FrozenBatchNorm2d()\n",
      "      (conv3): Conv2d(64, 256, kernel_size=(1, 1), stride=(1, 1), bias=False)\n",
      "      (bn3): FrozenBatchNorm2d()\n",
      "    )\n",
      "  )\n",
      "  (layer2): Sequential(\n",
      "    (0): BottleneckWithFixedBatchNorm(\n",
      "      (downsample): Sequential(\n",
      "        (0): Conv2d(256, 512, kernel_size=(1, 1), stride=(2, 2), bias=False)\n",
      "        (1): FrozenBatchNorm2d()\n",
      "      )\n",
      "      (conv1): Conv2d(256, 128, kernel_size=(1, 1), stride=(2, 2), bias=False)\n",
      "      (bn1): FrozenBatchNorm2d()\n",
      "      (conv2): Conv2d(128, 128, kernel_size=(3, 3), stride=(1, 1), padding=(1, 1), bias=False)\n",
      "      (bn2): FrozenBatchNorm2d()\n",
      "      (conv3): Conv2d(128, 512, kernel_size=(1, 1), stride=(1, 1), bias=False)\n",
      "      (bn3): FrozenBatchNorm2d()\n",
      "    )\n",
      "    (1): BottleneckWithFixedBatchNorm(\n",
      "      (conv1): Conv2d(512, 128, kernel_size=(1, 1), stride=(1, 1), bias=False)\n",
      "      (bn1): FrozenBatchNorm2d()\n",
      "      (conv2): Conv2d(128, 128, kernel_size=(3, 3), stride=(1, 1), padding=(1, 1), bias=False)\n",
      "      (bn2): FrozenBatchNorm2d()\n",
      "      (conv3): Conv2d(128, 512, kernel_size=(1, 1), stride=(1, 1), bias=False)\n",
      "      (bn3): FrozenBatchNorm2d()\n",
      "    )\n",
      "    (2): BottleneckWithFixedBatchNorm(\n",
      "      (conv1): Conv2d(512, 128, kernel_size=(1, 1), stride=(1, 1), bias=False)\n",
      "      (bn1): FrozenBatchNorm2d()\n",
      "      (conv2): Conv2d(128, 128, kernel_size=(3, 3), stride=(1, 1), padding=(1, 1), bias=False)\n",
      "      (bn2): FrozenBatchNorm2d()\n",
      "      (conv3): Conv2d(128, 512, kernel_size=(1, 1), stride=(1, 1), bias=False)\n",
      "      (bn3): FrozenBatchNorm2d()\n",
      "    )\n",
      "    (3): BottleneckWithFixedBatchNorm(\n",
      "      (conv1): Conv2d(512, 128, kernel_size=(1, 1), stride=(1, 1), bias=False)\n",
      "      (bn1): FrozenBatchNorm2d()\n",
      "      (conv2): Conv2d(128, 128, kernel_size=(3, 3), stride=(1, 1), padding=(1, 1), bias=False)\n",
      "      (bn2): FrozenBatchNorm2d()\n",
      "      (conv3): Conv2d(128, 512, kernel_size=(1, 1), stride=(1, 1), bias=False)\n",
      "      (bn3): FrozenBatchNorm2d()\n",
      "    )\n",
      "  )\n",
      "  (layer3): Sequential(\n",
      "    (0): BottleneckWithFixedBatchNorm(\n",
      "      (downsample): Sequential(\n",
      "        (0): Conv2d(512, 1024, kernel_size=(1, 1), stride=(2, 2), bias=False)\n",
      "        (1): FrozenBatchNorm2d()\n",
      "      )\n",
      "      (conv1): Conv2d(512, 256, kernel_size=(1, 1), stride=(2, 2), bias=False)\n",
      "      (bn1): FrozenBatchNorm2d()\n",
      "      (conv2): Conv2d(256, 256, kernel_size=(3, 3), stride=(1, 1), padding=(1, 1), bias=False)\n",
      "      (bn2): FrozenBatchNorm2d()\n",
      "      (conv3): Conv2d(256, 1024, kernel_size=(1, 1), stride=(1, 1), bias=False)\n",
      "      (bn3): FrozenBatchNorm2d()\n",
      "    )\n",
      "    (1): BottleneckWithFixedBatchNorm(\n",
      "      (conv1): Conv2d(1024, 256, kernel_size=(1, 1), stride=(1, 1), bias=False)\n",
      "      (bn1): FrozenBatchNorm2d()\n",
      "      (conv2): Conv2d(256, 256, kernel_size=(3, 3), stride=(1, 1), padding=(1, 1), bias=False)\n",
      "      (bn2): FrozenBatchNorm2d()\n",
      "      (conv3): Conv2d(256, 1024, kernel_size=(1, 1), stride=(1, 1), bias=False)\n",
      "      (bn3): FrozenBatchNorm2d()\n",
      "    )\n",
      "    (2): BottleneckWithFixedBatchNorm(\n",
      "      (conv1): Conv2d(1024, 256, kernel_size=(1, 1), stride=(1, 1), bias=False)\n",
      "      (bn1): FrozenBatchNorm2d()\n",
      "      (conv2): Conv2d(256, 256, kernel_size=(3, 3), stride=(1, 1), padding=(1, 1), bias=False)\n",
      "      (bn2): FrozenBatchNorm2d()\n",
      "      (conv3): Conv2d(256, 1024, kernel_size=(1, 1), stride=(1, 1), bias=False)\n",
      "      (bn3): FrozenBatchNorm2d()\n",
      "    )\n",
      "    (3): BottleneckWithFixedBatchNorm(\n",
      "      (conv1): Conv2d(1024, 256, kernel_size=(1, 1), stride=(1, 1), bias=False)\n",
      "      (bn1): FrozenBatchNorm2d()\n",
      "      (conv2): Conv2d(256, 256, kernel_size=(3, 3), stride=(1, 1), padding=(1, 1), bias=False)\n",
      "      (bn2): FrozenBatchNorm2d()\n",
      "      (conv3): Conv2d(256, 1024, kernel_size=(1, 1), stride=(1, 1), bias=False)\n",
      "      (bn3): FrozenBatchNorm2d()\n",
      "    )\n",
      "    (4): BottleneckWithFixedBatchNorm(\n",
      "      (conv1): Conv2d(1024, 256, kernel_size=(1, 1), stride=(1, 1), bias=False)\n",
      "      (bn1): FrozenBatchNorm2d()\n",
      "      (conv2): Conv2d(256, 256, kernel_size=(3, 3), stride=(1, 1), padding=(1, 1), bias=False)\n",
      "      (bn2): FrozenBatchNorm2d()\n",
      "      (conv3): Conv2d(256, 1024, kernel_size=(1, 1), stride=(1, 1), bias=False)\n",
      "      (bn3): FrozenBatchNorm2d()\n",
      "    )\n",
      "    (5): BottleneckWithFixedBatchNorm(\n",
      "      (conv1): Conv2d(1024, 256, kernel_size=(1, 1), stride=(1, 1), bias=False)\n",
      "      (bn1): FrozenBatchNorm2d()\n",
      "      (conv2): Conv2d(256, 256, kernel_size=(3, 3), stride=(1, 1), padding=(1, 1), bias=False)\n",
      "      (bn2): FrozenBatchNorm2d()\n",
      "      (conv3): Conv2d(256, 1024, kernel_size=(1, 1), stride=(1, 1), bias=False)\n",
      "      (bn3): FrozenBatchNorm2d()\n",
      "    )\n",
      "  )\n",
      "  (layer4): Sequential(\n",
      "    (0): BottleneckWithFixedBatchNorm(\n",
      "      (downsample): Sequential(\n",
      "        (0): Conv2d(1024, 2048, kernel_size=(1, 1), stride=(2, 2), bias=False)\n",
      "        (1): FrozenBatchNorm2d()\n",
      "      )\n",
      "      (conv1): Conv2d(1024, 512, kernel_size=(1, 1), stride=(2, 2), bias=False)\n",
      "      (bn1): FrozenBatchNorm2d()\n",
      "      (conv2): Conv2d(512, 512, kernel_size=(3, 3), stride=(1, 1), padding=(1, 1), bias=False)\n",
      "      (bn2): FrozenBatchNorm2d()\n",
      "      (conv3): Conv2d(512, 2048, kernel_size=(1, 1), stride=(1, 1), bias=False)\n",
      "      (bn3): FrozenBatchNorm2d()\n",
      "    )\n",
      "    (1): BottleneckWithFixedBatchNorm(\n",
      "      (conv1): Conv2d(2048, 512, kernel_size=(1, 1), stride=(1, 1), bias=False)\n",
      "      (bn1): FrozenBatchNorm2d()\n",
      "      (conv2): Conv2d(512, 512, kernel_size=(3, 3), stride=(1, 1), padding=(1, 1), bias=False)\n",
      "      (bn2): FrozenBatchNorm2d()\n",
      "      (conv3): Conv2d(512, 2048, kernel_size=(1, 1), stride=(1, 1), bias=False)\n",
      "      (bn3): FrozenBatchNorm2d()\n",
      "    )\n",
      "    (2): BottleneckWithFixedBatchNorm(\n",
      "      (conv1): Conv2d(2048, 512, kernel_size=(1, 1), stride=(1, 1), bias=False)\n",
      "      (bn1): FrozenBatchNorm2d()\n",
      "      (conv2): Conv2d(512, 512, kernel_size=(3, 3), stride=(1, 1), padding=(1, 1), bias=False)\n",
      "      (bn2): FrozenBatchNorm2d()\n",
      "      (conv3): Conv2d(512, 2048, kernel_size=(1, 1), stride=(1, 1), bias=False)\n",
      "      (bn3): FrozenBatchNorm2d()\n",
      "    )\n",
      "  )\n",
      ")\n"
     ]
    }
   ],
   "source": [
    "print(demo.model.backbone.body)"
   ]
  },
  {
   "cell_type": "markdown",
   "id": "b4235b68",
   "metadata": {},
   "source": [
    "#### fpn: feature pyramid net"
   ]
  },
  {
   "cell_type": "code",
   "execution_count": 48,
   "id": "bdd49c09",
   "metadata": {
    "collapsed": true,
    "jupyter": {
     "outputs_hidden": true
    }
   },
   "outputs": [
    {
     "name": "stdout",
     "output_type": "stream",
     "text": [
      "FPN(\n",
      "  (fpn_inner2): Conv2d(512, 1024, kernel_size=(1, 1), stride=(1, 1))\n",
      "  (fpn_layer2): Conv2d(1024, 1024, kernel_size=(3, 3), stride=(1, 1), padding=(1, 1))\n",
      "  (fpn_inner3): Conv2d(1024, 1024, kernel_size=(1, 1), stride=(1, 1))\n",
      "  (fpn_layer3): Conv2d(1024, 1024, kernel_size=(3, 3), stride=(1, 1), padding=(1, 1))\n",
      "  (fpn_inner4): Conv2d(2048, 1024, kernel_size=(1, 1), stride=(1, 1))\n",
      "  (fpn_layer4): Conv2d(1024, 1024, kernel_size=(3, 3), stride=(1, 1), padding=(1, 1))\n",
      "  (top_blocks): LastLevelP6P7(\n",
      "    (p6): Conv2d(2048, 1024, kernel_size=(3, 3), stride=(2, 2), padding=(1, 1))\n",
      "    (p7): Conv2d(1024, 1024, kernel_size=(3, 3), stride=(2, 2), padding=(1, 1))\n",
      "  )\n",
      ")\n"
     ]
    }
   ],
   "source": [
    "print(demo.model.backbone.fpn)"
   ]
  },
  {
   "cell_type": "markdown",
   "id": "b562590a",
   "metadata": {},
   "source": [
    "### rpn network : region proposal"
   ]
  },
  {
   "cell_type": "code",
   "execution_count": 49,
   "id": "d4a5733c",
   "metadata": {
    "collapsed": true,
    "jupyter": {
     "outputs_hidden": true
    }
   },
   "outputs": [
    {
     "name": "stdout",
     "output_type": "stream",
     "text": [
      "RetinaNetModule(\n",
      "  (anchor_generator): AnchorGenerator(\n",
      "    (cell_anchors): BufferList()\n",
      "  )\n",
      "  (head): RetinaNetHead(\n",
      "    (cls_tower): Sequential(\n",
      "      (0): Conv2d(1024, 1024, kernel_size=(3, 3), stride=(1, 1), padding=(1, 1))\n",
      "      (1): ReLU()\n",
      "      (2): Conv2d(1024, 1024, kernel_size=(3, 3), stride=(1, 1), padding=(1, 1))\n",
      "      (3): ReLU()\n",
      "      (4): Conv2d(1024, 1024, kernel_size=(3, 3), stride=(1, 1), padding=(1, 1))\n",
      "      (5): ReLU()\n",
      "      (6): Conv2d(1024, 1024, kernel_size=(3, 3), stride=(1, 1), padding=(1, 1))\n",
      "      (7): ReLU()\n",
      "    )\n",
      "    (bbox_tower): Sequential(\n",
      "      (0): Conv2d(1024, 1024, kernel_size=(3, 3), stride=(1, 1), padding=(1, 1))\n",
      "      (1): ReLU()\n",
      "      (2): Conv2d(1024, 1024, kernel_size=(3, 3), stride=(1, 1), padding=(1, 1))\n",
      "      (3): ReLU()\n",
      "      (4): Conv2d(1024, 1024, kernel_size=(3, 3), stride=(1, 1), padding=(1, 1))\n",
      "      (5): ReLU()\n",
      "      (6): Conv2d(1024, 1024, kernel_size=(3, 3), stride=(1, 1), padding=(1, 1))\n",
      "      (7): ReLU()\n",
      "    )\n",
      "    (cls_logits): Conv2d(1024, 9, kernel_size=(3, 3), stride=(1, 1), padding=(1, 1))\n",
      "    (bbox_pred): Conv2d(1024, 36, kernel_size=(3, 3), stride=(1, 1), padding=(1, 1))\n",
      "  )\n",
      "  (box_selector_test): RetinaNetPostProcessor()\n",
      ")\n"
     ]
    }
   ],
   "source": [
    "print(demo.model.rpn)\n"
   ]
  },
  {
   "cell_type": "markdown",
   "id": "9c12f35b",
   "metadata": {},
   "source": [
    "## Test with Detection Model V2"
   ]
  },
  {
   "cell_type": "code",
   "execution_count": 50,
   "id": "6fad7706",
   "metadata": {},
   "outputs": [
    {
     "name": "stdout",
     "output_type": "stream",
     "text": [
      "[<maskrcnn_benchmark.data.transforms.transforms.Resize object at 0x7ff12b29cb70>, <maskrcnn_benchmark.data.transforms.transforms.ToTensor object at 0x7ff12b29c080>, <maskrcnn_benchmark.data.transforms.transforms.Normalize object at 0x7ff12b29cba8>]\n",
      "mean: [102.9801, 115.9465, 122.7717], std: [1.0, 1.0, 1.0] after from RGB to BGR\n",
      "in to_image_list 2, type(batched_imgs): <class 'torch.Tensor'>\n",
      "in to_image_list 2, batched_imgs.shape: torch.Size([1, 3, 480, 576])\n",
      "in to_image_list 2, image_sizes: [torch.Size([480, 561])]\n",
      "images.image_sizes: [torch.Size([480, 561])]\n",
      "images.tensors.shape: torch.Size([1, 3, 480, 576])\n"
     ]
    },
    {
     "name": "stderr",
     "output_type": "stream",
     "text": [
      "/home/kimkk/miniconda3/envs/lomin/lib/python3.6/site-packages/torch/jit/__init__.py:1044: TracerWarning: Output nr 1. of the traced function does not match the corresponding output of the Python function. Detailed error:\n",
      "Not within tolerance rtol=1e-05 atol=1e-05 at input[0, 719, 27, 57] (0.06862227618694305 vs. 0.06861035525798798) and 1 other locations (0.00%)\n",
      "  check_tolerance, _force_outplace, True, _module_class)\n"
     ]
    }
   ],
   "source": [
    "image_file_path = \"./sample_images/detection/1594202471809.jpg\"\n",
    "#image_file_path = \"./sample_images/detection/1596537103856.jpeg\"\n",
    "#image_file_path = \"./sample_images/video_frames/frame000000.png\"\n",
    "\n",
    "\n",
    "# open image file as PIL.Image\n",
    "pil_image = Image.open(image_file_path).convert('RGB')\n",
    "org_pil_image = np.array(pil_image)\n",
    "\n",
    "prediction = demo.run_on_pil_image(pil_image)\n",
    "#pprint(prediction)"
   ]
  },
  {
   "cell_type": "markdown",
   "id": "9bbcce6d",
   "metadata": {},
   "source": [
    "---\n",
    "**TraceWarning: Output nr 1. of ...**\n",
    "* (https://github.com/pytorch/pytorch/issues/23999)\n",
    "* [How to avoid that traced function does not match the corresponding output of the Python function?](https://discuss.pytorch.org/t/how-to-avoid-that-traced-function-does-not-match-the-corresponding-output-of-the-python-function/44674)"
   ]
  },
  {
   "cell_type": "raw",
   "id": "b9be39ff",
   "metadata": {},
   "source": [
    "image_file_path = \"./sample_images/detection/1594202471809.jpg\"\n",
    "#image_file_path = \"./sample_images/detection/1596537103856.jpeg\"\n",
    "\n",
    "# open image file as PIL.Image\n",
    "pil_image = Image.open(image_file_path).convert('RGB')\n",
    "org_pil_image = np.array(pil_image)\n",
    "\n",
    "prediction = demo.run_on_pil_image(pil_image)\n",
    "#pprint(prediction)"
   ]
  },
  {
   "cell_type": "raw",
   "id": "d6f3160e",
   "metadata": {},
   "source": [
    "#image_file_path = \"./sample_images/detection/1594202471809.jpg\"\n",
    "#image_file_path = \"./sample_images/detection/1596537103856.jpeg\"\n",
    "image_file_path = \"./sample_images/video_frames/frame000000.png\"\n",
    "\n",
    "\n",
    "# open image file as PIL.Image\n",
    "pil_image = Image.open(image_file_path).convert('RGB')\n",
    "org_pil_image = np.array(pil_image)\n",
    "\n",
    "prediction = demo.run_on_pil_image(pil_image)\n",
    "#pprint(prediction)"
   ]
  },
  {
   "cell_type": "markdown",
   "id": "3ec448ff",
   "metadata": {},
   "source": [
    "## Notes on Detection Model V2\n"
   ]
  },
  {
   "cell_type": "markdown",
   "id": "48c8dab8",
   "metadata": {},
   "source": [
    "### Input image transform\n",
    "\n",
    "입력으로 주어지는 이미지는 PIL.Image를 사용하여 `RGB`모드로 오픈하며, 다음과 같은 3가지 transform을 거친다. 이 과정은 [maskrcnn_benchmark/data/transforms/transforms.py](https://github.com/facebookresearch/maskrcnn-benchmark/blob/master/maskrcnn_benchmark/data/transforms/transforms.py)에서 구현한다.\n",
    "\n",
    "**1. Resize**\n",
    "> 주어진 입력 이미지를 detection 모델의 입력으로 사용할 수 있도록, aspect ratio를 보존하면서 resize한다.\n",
    "> resize할 크기는 [get_size()](https://github.com/facebookresearch/maskrcnn-benchmark/blob/57eec25b75144d9fb1a6857f32553e1574177daf/maskrcnn_benchmark/data/transforms/transforms.py#L35)함수로 결정한다.\n",
    "> 기본적인 알고리즘은 \n",
    "> * 1) w, h 중 작은 값을 480으로 aspect ratio를 유지하면서 w' h'으로 resize한 후, \n",
    "> * 2) w', h'중 큰 값이 640보다 크다면 640으로 aspect resize\n",
    ">\n",
    "> **resize된 크기는 다시 to_image_list에서 W, H가 32의 배수가 되도록 모자라는 부분을 zero pixel로 패딩해준후 모델의 입력으로 사용한다.**\n",
    "\n",
    "**2. ToTensor** \n",
    "> Normalize 처리를 위하여 이미지를 tensor (ndarray)로 변환한다.\n",
    "\n",
    "**3. Normalize**\n",
    "> tensor에 대하여 Channel Order를 `RGB`에서 `BGR`로 변경하고 픽셀값에 255를 곱해준다.\n",
    "> 각 픽셀에 대하여 mean을 빼주고, std로 나누어 주는 normalization을 수행한다. \n",
    "> * mean은 `cfg.INPUT.PIXEL_MEAN`: [102.9801, 115.9465, 122.7717]으로 지정된 고정값\n",
    "> * std는 `cfg.INPUT.PIXEL_STD`: [1.0, 1.0, 1.0]으로 지정된 고정값\n",
    "    \n",
    "model별 configuration은 yaml 파일 포맷으로 설정한다.\n",
    "* detection v1 model : model/detetction/config_det_v1_200723_001_180k.yaml\n",
    "* detection v2 model : model/detetction/config_det_v2_200924_002_180k.yaml\n",
    "\n",
    "테스트 이미지로 \"./sample_images/detection/1594202471809.jpg\" 를 사용한 경우를 가지고 설명을 계속한다."
   ]
  },
  {
   "cell_type": "code",
   "execution_count": 19,
   "id": "d4551505",
   "metadata": {},
   "outputs": [
    {
     "name": "stdout",
     "output_type": "stream",
     "text": [
      "./sample_images/detection/1594202471809.jpg JPEG 512x438 512x438+0+0 8-bit Grayscale Gray 256c 25.2KB 0.000u 0:00.000\n"
     ]
    }
   ],
   "source": [
    "!identify ./sample_images/detection/1594202471809.jpg"
   ]
  },
  {
   "cell_type": "markdown",
   "id": "93877ee4",
   "metadata": {},
   "source": [
    "![test image](./sample_images/detection/1594202471809.jpg)"
   ]
  },
  {
   "cell_type": "markdown",
   "id": "8bcdf298",
   "metadata": {},
   "source": [
    "테스트 이미지로 사용한 1594202471809.jpg의 shape는 **RGB** channelr order의 `(C, H, W)=(3, 438, 512)`로 \n",
    "* input tranformation을 통해 **BGR** channel order의 `(C, H, W) = (3, 480, 561)`의 tesnor로 변환된다.\n",
    "\n"
   ]
  },
  {
   "cell_type": "markdown",
   "id": "955649c5",
   "metadata": {},
   "source": [
    "### to_image_list\n",
    "\n",
    "Tensor로 transform된 이미지의 (C, H, W) 에 대하여 `cfg.DATALOADER.SIZE_DIVISABILITY : 32`을 사용하여 아래와 같이 H,W를 32 배수가 되도록 설정해준다.\n",
    "\n",
    "$ \\text{H'} = \\text{int} [ \\text{ceil} ( \\text{H} / 32 ) * 32  ] $\n",
    "\n",
    "$ \\text{W'} = \\text{int} [ \\text{ceil} ( \\text{W} / 32 ) * 32  ] $\n",
    "\n",
    "\n",
    "예를 들어, tensor shape가 $(\\text{C, H, W}) = (3, 480, 561)$ 이라면 $(\\text{C, H', W'}) = (3, 480, 576)$이 된다.\n",
    "\n",
    "* $ \\text{H'} = \\lceil 480 / 32 \\rceil \\times 32  = \\lceil 15 \\rceil \\times 32 = 15 \\times 32 = 480 $\n",
    "\n",
    "* $ \\text{W'} = \\lceil 516 / 32 \\rceil \\times 32  = \\lceil 17.53 \\rceil \\times 32 = 18 \\times 32 =576 $\n",
    "\n",
    "Height와 Width를 32의 배수가 되도록 크기를 계산하고 나면, $\\text{batch_shape} = (\\text{1, C, H', W'})$ 형태의 모든 픽셀값이 0인 `batched_image`를 생성하고, \n",
    "```python\n",
    "# bached_imag.shape = (1, 3, 480, 576) with all piex value is zero\n",
    "batched_img = tensors[0].new(*batch_shape).zero_()\n",
    "```\n",
    "\n",
    "원래 이미지에 대한 tensor (**img**)를 아래와 같은 코드를 사용하여 **batched_iamge**위에 overlay해준다.\n",
    "```python\n",
    "batch_image[: img.shape[0], : img.shape[1], : img.shape[2]].copy_(img)\n",
    "```\n",
    "\n",
    "정리 \n",
    "\n",
    "| image/tensor   | type                           |shape = (C, H, W)   |\n",
    "|:---------------|:-------------------------------|:--------------------|\n",
    "| input image    | PIL image of **RGB** ch. order | (3, 438, 512)      |\n",
    "| transformed image tensor    | tensor of **BGR** ch. order | (3, 480, 561)      |\n",
    "| batch image tensor | tensor of **BGR** ch. order |  (3, 480, 576) with black pixel padded |"
   ]
  },
  {
   "cell_type": "markdown",
   "id": "8951c3a5",
   "metadata": {},
   "source": [
    "----\n",
    "\n",
    "#### input image \n",
    "\n",
    "* [How to show PIL Image in ipython notebook](https://stackoverflow.com/a/26649884/4773896)\n",
    "* [How to Display a Matplotlib RGB Image](https://www.pyimagesearch.com/2014/11/03/display-matplotlib-rgb-image/)\n",
    "\n",
    "matplot.pyplot는 OpenCV를 사용한다. OpenCV는 RGB ch. order가 아닌 BGR ch. order를 사용한다. 따라서 RGB channel order tensor 또는 numpy를 `plt.imshow()` 함수로 디스플레이하면 색상이 이상하게 표시된다.\n",
    "이 경우, 아래와 같이 BGR2RGB\n"
   ]
  },
  {
   "cell_type": "code",
   "execution_count": 20,
   "id": "bf0bf4af",
   "metadata": {},
   "outputs": [
    {
     "name": "stdout",
     "output_type": "stream",
     "text": [
      "pil_image height: 438, width: 512\n"
     ]
    }
   ],
   "source": [
    "print(f\"pil_image height: {pil_image.height}, width: {pil_image.width}\")"
   ]
  },
  {
   "cell_type": "code",
   "execution_count": 21,
   "id": "ed8184e0",
   "metadata": {},
   "outputs": [
    {
     "data": {
      "text/plain": [
       "<matplotlib.image.AxesImage at 0x7ff1341ea978>"
      ]
     },
     "execution_count": 21,
     "metadata": {},
     "output_type": "execute_result"
    },
    {
     "data": {
      "image/png": "[encoded data removed]",
      "text/plain": [
       "<Figure size 432x288 with 1 Axes>"
      ]
     },
     "metadata": {
      "needs_background": "light"
     },
     "output_type": "display_data"
    }
   ],
   "source": [
    "plt.imshow(pil_image)"
   ]
  },
  {
   "cell_type": "markdown",
   "id": "88f02c6a",
   "metadata": {},
   "source": [
    "----\n",
    "\n",
    "#### image tensor after transform\n",
    "* [What is the best way to “UnNormalize” a Tensor?](https://discuss.pytorch.org/t/what-is-the-best-way-to-unnormalize-a-tensor/14332)"
   ]
  },
  {
   "cell_type": "code",
   "execution_count": 22,
   "id": "3bc6d274",
   "metadata": {},
   "outputs": [
    {
     "name": "stdout",
     "output_type": "stream",
     "text": [
      "image tensor height: 480, width: 561\n"
     ]
    }
   ],
   "source": [
    "print(f\"image tensor height: {image_tensor.data.shape[1]}, width: {image_tensor.data.shape[2]}\")"
   ]
  },
  {
   "cell_type": "code",
   "execution_count": 36,
   "id": "ef71fb23",
   "metadata": {},
   "outputs": [
    {
     "data": {
      "text/plain": [
       "<matplotlib.image.AxesImage at 0x7ff12b87ac50>"
      ]
     },
     "execution_count": 36,
     "metadata": {},
     "output_type": "execute_result"
    },
    {
     "data": {
      "image/png": "[encoded data removed]",
      "text/plain": [
       "<Figure size 432x288 with 1 Axes>"
      ]
     },
     "metadata": {
      "needs_background": "light"
     },
     "output_type": "display_data"
    }
   ],
   "source": [
    "# Because image_tensor is normalized, just show as gray ignoring color ch.\n",
    "plt.imshow(image_tensor.numpy()[0], cmap='gray')"
   ]
  },
  {
   "cell_type": "markdown",
   "id": "49ad9d80",
   "metadata": {},
   "source": [
    "* X축의 값을 보면 PIL image와 비교했을 때, (3, 438, 512)에서 transform후의 image tensor의 shape가 (3, 480, 561)으로 변화된 것을 볼 수 있다. \n"
   ]
  },
  {
   "cell_type": "markdown",
   "id": "9c206e3b",
   "metadata": {},
   "source": [
    "----\n",
    "\n",
    "#### batch image tensor after 32 stride resize and padding\n",
    "\n",
    "* [Pytorch reshape tensor dimension](https://stackoverflow.com/questions/43328632/pytorch-reshape-tensor-dimension)\n",
    "* [How to add a batch dimension in my picture?](https://discuss.pytorch.org/t/how-to-add-a-batch-dimension-in-my-picture/21141/2)\n",
    "* [toch.squeeze()](https://pytorch.org/docs/stable/generated/torch.squeeze.html) - Returns a tensor with all the dimensions of input of size 1 removed."
   ]
  },
  {
   "cell_type": "code",
   "execution_count": 37,
   "id": "3cce4ad0",
   "metadata": {},
   "outputs": [
    {
     "name": "stdout",
     "output_type": "stream",
     "text": [
      "batch_imag.shape: torch.Size([1, 3, 480, 576])\n"
     ]
    },
    {
     "data": {
      "text/plain": [
       "<matplotlib.image.AxesImage at 0x7ff12b7b4550>"
      ]
     },
     "execution_count": 37,
     "metadata": {},
     "output_type": "execute_result"
    },
    {
     "data": {
      "image/png": "[encoded data removed]",
      "text/plain": [
       "<Figure size 432x288 with 1 Axes>"
      ]
     },
     "metadata": {
      "needs_background": "light"
     },
     "output_type": "display_data"
    }
   ],
   "source": [
    "# As batch image tensor located in GPU device, first copy to host memory\n",
    "batch_image = image_list.tensors.data.cpu()\n",
    "print(f\"batch_imag.shape: {batch_image.shape}\")  # of shape(1, 3, 480, 576)\n",
    "\n",
    "# remove batch dimension with squeeze()\n",
    "padded_image = batch_image.squeeze()\n",
    "\n",
    "# Because padded_iamge was normalized, just show as gray ignoring color ch.\n",
    "plt.imshow(padded_image.numpy()[0], cmap='gray')"
   ]
  },
  {
   "cell_type": "markdown",
   "id": "737b0abe",
   "metadata": {},
   "source": [
    "* X축의 우측을 보면 검정색 부분이 32 divisablity를 위해 black pixel로 패딩된 부분을 확인할 수 있다.\n",
    "* transform후의 image tensor의 shape가 (3, 480, 561)가 32 stride divisability를 위해 (1, 3, 480, 576)으로 변화된 것도 볼 수 있다.\n",
    "----"
   ]
  },
  {
   "cell_type": "markdown",
   "id": "d1fd0fe4",
   "metadata": {},
   "source": [
    "# Detection Model in Caffe"
   ]
  },
  {
   "cell_type": "markdown",
   "id": "c56331e5",
   "metadata": {},
   "source": [
    "## utility functions"
   ]
  },
  {
   "cell_type": "markdown",
   "id": "7751c3e9",
   "metadata": {},
   "source": [
    "### get_size()\n",
    "\n",
    "detection model에 맞게 입력 이미지를 resize할 크기를 결정한다. "
   ]
  },
  {
   "cell_type": "code",
   "execution_count": 24,
   "id": "fb1134b9",
   "metadata": {},
   "outputs": [],
   "source": [
    "def get_size(image, mode):\n",
    "    # mast rcnn transforms.py get_size() replica\n",
    "    \n",
    "    \"\"\"\n",
    "    Parameter\n",
    "    image : PIL image\n",
    "    mode: \"horizontal_padding\" | 'keep_ratio'\n",
    "\n",
    "    get suitable size for detection or recognition model\n",
    "    \"\"\"\n",
    "    \n",
    "    # get size of pil_image    \n",
    "    w, h =  image.size\n",
    "    #print(f\"image size w: {w}, h:{h}\")\n",
    "    \n",
    "    # output image width and height initialize\n",
    "    ow, oh = -1, -1\n",
    "    \n",
    "    # i) recognition model: 'horizontal_padding'\n",
    "    if (mode=='horizontal_padding'):\n",
    "        ow, oh = -1, -1\n",
    "        target_width = int(w * (oh/h))\n",
    "        if target_width < oh:\n",
    "            target_width = oh\n",
    "            \n",
    "        if target_width > ow:\n",
    "            target_width = ow\n",
    "        \n",
    "        ow = target_width\n",
    "        \n",
    "    # ii) detection model: 'keep_ratio'\n",
    "    elif (mode == 'keep_ratio'):\n",
    "        min_size = 480\n",
    "        max_size = 640\n",
    "        min_original_size = float(min((w,h)))\n",
    "        max_original_size = float(max((w,h)))\n",
    "        \n",
    "        # summary\n",
    "        # take smaller one from height or width, and resize smaller one to 480\n",
    "        # and larger one is resized while keeping ratio\n",
    "\n",
    "        # i) first determine max_size\n",
    "        #   max_size : min_size  = max_original_size : min_original_size  -- (1)\n",
    "        #       ? :  480  =  512 : 438\n",
    "        # from (1) max_size = max_original_size * min_size / min_orignal_size\n",
    "        #                   =  480*512/438 = 531.09 = 561\n",
    "        # max size= 561.095     \n",
    "        calc_max_size = max_original_size / min_original_size * min_size\n",
    "        max_size = min(calc_max_size, max_size)\n",
    "        # print(f\"max_size: {max_size}\")\n",
    "        \n",
    "        \n",
    "        # ii) determine min_size from the determined max_size\n",
    "        #   max_size : min_size  = max_original_size : min_original_size  -- (2)\n",
    "        #      561.095  :  ?  =  512 : 438\n",
    "        # from (2) min_size  =  max_size * min_original_size /  max_original_size\n",
    "        #                    = 561.095 * 438 /512 = 479.99 = round(479.99) = 480\n",
    "        min_size = round(max_size * min_original_size / max_original_size)\n",
    "        # print(f\"min_size: {min_size}\")\n",
    "\n",
    "        # if input image is a vertical image, i.e, height > width\n",
    "        #   ow = min_size, oh = max_size\n",
    "        # if input image is a horizontal image, i.e, width > height\n",
    "        #   ow = max_size, oh = min_size\n",
    "        ow = min_size if w < h else max_size\n",
    "\n",
    "        oh = max_size if w < h else min_size\n",
    "\n",
    "        # oh : 480, ow = 561.095\n",
    "        # int() cause round off\n",
    "        # oh : 480, ow = 561,\n",
    "        # (438, 512)  => (480, 561)   ; keep ratio = 1.168\n",
    "    return (int(oh), int(ow))"
   ]
  },
  {
   "cell_type": "markdown",
   "id": "ef8cd80e",
   "metadata": {},
   "source": [
    "----\n",
    "\n",
    "### transform_image()\n",
    "\n",
    "References:\n",
    "* [caffe.io.Transformer](http://echo.etri.re.kr:8090/display/~kimkk/caffe.io.Transformer) 컨플루언스 정리 페이지\n",
    "* https://groups.google.com/g/caffe-users/c/kVDppVZo3jQ - Understanding caffe.io.Transformer\n",
    "* http://nbviewer.ipython.org/github/BVLC/caffe/blob/master/examples/00-classification.ipynb - **Must See**\n",
    "* https://programtalk.com/python-examples/caffe.io.Transformer/ 예제 코드 모음집\n",
    "* [$CAFFE_ROOT/python/caffe/io.py](https://github.com/BVLC/caffe/blob/9b891540183ddc834a02b2bd81b31afae71b2153/python/caffe/io.py#L98) - Transformer class source\n",
    "\n",
    "PIL image에 대하여 다음과 같은 변환을 수행한다.\n",
    "\n",
    "**1. Resize**\n",
    "주어진 입력 이미지를 detection 모델의 입력으로 사용할 수 있도록, aspect ratio를 보존하면서 resize한다. resize할 크기는 get_size()함수로 결정한다. 기본적인 알고리즘은\n",
    "> 1) w, h 중 작은 값을 480으로 aspect ratio를 유지하면서 w' h'으로 resize한 후,\n",
    "> 2) w', h'중 큰 값이 640보다 크다면 640으로 aspect resize\n",
    "resize된 크기는 다시 to_image_list에서 W, H가 32의 배수가 되도록 모자라는 부분을 zero pixel로 패딩해준후 모델의 입력으로 사용한다.\n",
    "\n",
    "**2. conver to np.ndarray**\n",
    "> Normalize 처리를 위하여 이미지를 np.ndarray로 변환한다.\n",
    "\n",
    "**3. Normalize**\n",
    "> np.ndarray에 대하여 Channel Order를 RGB에서 BGR로 변경하고 픽셀값에 255를 곱해준다. 각 픽셀에 대하여 mean을 빼주고, std로 나누어 주는 normalization을 수행한다.\n",
    "> * mean은 `cfg.INPUT.PIXEL_MEAN`: `[102.9801, 115.9465, 122.7717]`으로 지정된 고정값\n",
    "> * std는 `cfg.INPUT.PIXEL_STD`: `[1.0, 1.0, 1.0]`으로 지정된 고정값\n"
   ]
  },
  {
   "cell_type": "code",
   "execution_count": null,
   "id": "900b7783",
   "metadata": {},
   "outputs": [],
   "source": [
    "def transform_image():\n",
    "    # https://programtalk.com/python-examples/caffe.io.Transformer/\n",
    "    # caffe.io.Transformer\n",
    "    "
   ]
  },
  {
   "cell_type": "markdown",
   "id": "e89ebe94",
   "metadata": {},
   "source": [
    "----\n",
    "\n",
    "### pad_image()\n",
    "\n",
    "Detection V2 모델에 사용할 수 있도록 width height를 32 divisable하게 계산한 black image를 만들고, 그위에 resize, to_tensor, normalize완료된 이미지를 오버레이한다.\n",
    "\n"
   ]
  },
  {
   "cell_type": "code",
   "execution_count": 51,
   "id": "6acd6504",
   "metadata": {},
   "outputs": [],
   "source": [
    "def pad_image(image, size_divisible = 32):\n",
    "    \"\"\"\n",
    "    Parameter\n",
    "    image: \n",
    "        ndarray of shape (3, h, w)\n",
    "    size_divisible: int\n",
    "        which multiple of width and height, default: 32\n",
    "        \n",
    "    \"\"\"\n",
    "    import math\n",
    "    \n",
    "    # calc size divisible new height and width\n",
    "    _, h, w = image.shape\n",
    "    new_h = int(math.ceil(h / size_divisible )* size_divisible)        \n",
    "    new_w = int(math.ceil(w / size_divisible )* size_divisible)        \n",
    "    \n",
    "    # create black image with size divisible\n",
    "    pad_image = np.zeros((3, new_h, new_w), dtype= np.float32)\n",
    "    \n",
    "    # overlay image on padded_image\n",
    "    pad_image[:3, : h, :w].copy(image)\n",
    "    \n",
    "    return pad_image\n",
    "    \n",
    "    "
   ]
  },
  {
   "cell_type": "markdown",
   "id": "61dce822",
   "metadata": {},
   "source": [
    "## Detection Model v2 definition with caffe.NetSpec"
   ]
  },
  {
   "cell_type": "markdown",
   "id": "3d30099a",
   "metadata": {},
   "source": [
    "## Model object Creation\n",
    "\n",
    "reference: https://gist.github.com/kyamagu/80c343a14ae4564ef79b53f0b01cd57e"
   ]
  },
  {
   "cell_type": "code",
   "execution_count": 52,
   "id": "8b074321",
   "metadata": {},
   "outputs": [],
   "source": [
    "import caffe\n",
    "from caffe import layers as L, params as P\n",
    "\n",
    "def _conv_bn_scale(bottom, nout, bias_term=False, **kwargs):\n",
    "    '''Helper to build a conv -> BN -> relu block.\n",
    "    '''\n",
    "    conv = L.Convolution(bottom, num_output=nout, bias_term=bias_term,\n",
    "                         **kwargs)\n",
    "    bn = L.BatchNorm(conv, use_global_stats=True, in_place=True)\n",
    "    scale = L.Scale(bn, bias_term=True, in_place=True)\n",
    "    return conv, bn, scale\n",
    "\n",
    "def _resnet_block(name, n, bottom, nout, branch1=False, initial_stride=2):\n",
    "    '''Basic ResNet block.\n",
    "    '''\n",
    "    if branch1:\n",
    "        res_b1 = 'res{}_branch1'.format(name)\n",
    "        bn_b1 = 'bn{}_branch1'.format(name)\n",
    "        scale_b1 = 'scale{}_branch1'.format(name)\n",
    "        n[res_b1], n[bn_b1], n[scale_b1] = _conv_bn_scale(\n",
    "            bottom, 4*nout, kernel_size=1, stride=initial_stride, pad=0)\n",
    "    else:\n",
    "        initial_stride = 1\n",
    "\n",
    "    res = 'res{}_branch2a'.format(name)\n",
    "    bn = 'bn{}_branch2a'.format(name)\n",
    "    scale = 'scale{}_branch2a'.format(name)\n",
    "    n[res], n[bn], n[scale] = _conv_bn_scale(\n",
    "        bottom, nout, kernel_size=1, stride=initial_stride, pad=0)\n",
    "    relu2a = 'res{}_branch2a_relu'.format(name)\n",
    "    n[relu2a] = L.ReLU(n[scale], in_place=True)\n",
    "    res = 'res{}_branch2b'.format(name)\n",
    "    bn = 'bn{}_branch2b'.format(name)\n",
    "    scale = 'scale{}_branch2b'.format(name)\n",
    "    n[res], n[bn], n[scale] = _conv_bn_scale(\n",
    "        n[relu2a], nout, kernel_size=3, stride=1, pad=1)\n",
    "    relu2b = 'res{}_branch2b_relu'.format(name)\n",
    "    n[relu2b] = L.ReLU(n[scale], in_place=True)\n",
    "    res = 'res{}_branch2c'.format(name)\n",
    "    bn = 'bn{}_branch2c'.format(name)\n",
    "    scale = 'scale{}_branch2c'.format(name)\n",
    "    n[res], n[bn], n[scale] = _conv_bn_scale(\n",
    "        n[relu2b], 4*nout, kernel_size=1, stride=1, pad=0)\n",
    "    res = 'res{}'.format(name)\n",
    "    if branch1:\n",
    "        n[res] = L.Eltwise(n[scale_b1], n[scale])\n",
    "    else:\n",
    "        n[res] = L.Eltwise(bottom, n[scale])\n",
    "    relu = 'res{}_relu'.format(name)\n",
    "    n[relu] = L.ReLU(n[res], in_place=True)\n",
    "    \n",
    "\n",
    "def resnet50(n, bottom):\n",
    "    '''ResNet 50 layers.\n",
    "    '''\n",
    "    n.conv1, n.bn_conv1, n.scale_conv1 = _conv_bn_scale(\n",
    "        bottom, 64, bias_term=True, kernel_size=7, pad=3, stride=2)\n",
    "    n.conv1_relu = L.ReLU(n.scale_conv1)\n",
    "    n.pool1 = L.Pooling(\n",
    "        n.conv1_relu, kernel_size=3, stride=2, pool=P.Pooling.MAX)\n",
    "\n",
    "    _resnet_block('2a', n, n.pool1, 64, branch1=True, initial_stride=1)\n",
    "    _resnet_block('2b', n, n.res2a_relu, 64)\n",
    "    _resnet_block('2c', n, n.res2b_relu, 64)\n",
    "\n",
    "    _resnet_block('3a', n, n.res2c_relu, 128, branch1=True)\n",
    "    _resnet_block('3b', n, n.res3a_relu, 128)\n",
    "    _resnet_block('3c', n, n.res3b_relu, 128)\n",
    "    _resnet_block('3d', n, n.res3c_relu, 128)\n",
    "\n",
    "    _resnet_block('4a', n, n.res3d_relu, 256, branch1=True)\n",
    "    _resnet_block('4b', n, n.res4a_relu, 256)\n",
    "    _resnet_block('4c', n, n.res4b_relu, 256)\n",
    "    _resnet_block('4d', n, n.res4c_relu, 256)\n",
    "    _resnet_block('4e', n, n.res4d_relu, 256)\n",
    "    _resnet_block('4f', n, n.res4e_relu, 256)\n",
    "\n",
    "    _resnet_block('5a', n, n.res4f_relu, 512, branch1=True)\n",
    "    _resnet_block('5b', n, n.res5a_relu, 512)\n",
    "    _resnet_block('5c', n, n.res5b_relu, 512)\n",
    "\n",
    "    n.pool5 = L.Pooling(\n",
    "        n.res5c_relu, kernel_size=7, stride=1, pool=P.Pooling.AVE)\n",
    "    \n",
    "    return n.to_proto()\n",
    "\n",
    "\n",
    "    "
   ]
  },
  {
   "cell_type": "markdown",
   "id": "3d5e6249",
   "metadata": {},
   "source": [
    "### NetSpec to proto"
   ]
  },
  {
   "cell_type": "code",
   "execution_count": 58,
   "id": "b35aafd3",
   "metadata": {},
   "outputs": [],
   "source": [
    "n = caffe.NetSpec()\n",
    "n.data = L.DummyData(shape=[dict(dim=[1, 3, 224, 224])])\n",
    "\n",
    "res50_proto = resnet50(n, n.data)"
   ]
  },
  {
   "cell_type": "code",
   "execution_count": 57,
   "id": "143e58de",
   "metadata": {},
   "outputs": [
    {
     "name": "stdout",
     "output_type": "stream",
     "text": [
      "None\n"
     ]
    }
   ],
   "source": [
    "print(str(res50_proto))"
   ]
  },
  {
   "cell_type": "code",
   "execution_count": null,
   "id": "c2fa89a3",
   "metadata": {},
   "outputs": [],
   "source": []
  },
  {
   "cell_type": "raw",
   "id": "23dc34a9",
   "metadata": {},
   "source": [
    "print(str(res50_proto))"
   ]
  },
  {
   "cell_type": "markdown",
   "id": "808a49ba",
   "metadata": {},
   "source": [
    "## Test Model with image"
   ]
  },
  {
   "cell_type": "code",
   "execution_count": null,
   "id": "498d0f08",
   "metadata": {},
   "outputs": [],
   "source": []
  }
 ],
 "metadata": {
  "kernelspec": {
   "display_name": "Python 3.6 for PyTorch and caffe",
   "language": "python",
   "name": "lomin"
  },
  "language_info": {
   "codemirror_mode": {
    "name": "ipython",
    "version": 3
   },
   "file_extension": ".py",
   "mimetype": "text/x-python",
   "name": "python",
   "nbconvert_exporter": "python",
   "pygments_lexer": "ipython3",
   "version": "3.6.7"
  }
 },
 "nbformat": 4,
 "nbformat_minor": 5
}
