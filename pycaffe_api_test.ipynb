{
 "cells": [
  {
   "cell_type": "code",
   "execution_count": 2,
   "id": "012eb3d4",
   "metadata": {},
   "outputs": [],
   "source": [
    "import caffe\n"
   ]
  },
  {
   "cell_type": "markdown",
   "id": "427643f2",
   "metadata": {},
   "source": [
    "### 사용가능한 레이어 타입 확인"
   ]
  },
  {
   "cell_type": "code",
   "execution_count": 3,
   "id": "797a024d",
   "metadata": {},
   "outputs": [
    {
     "name": "stdout",
     "output_type": "stream",
     "text": [
      "AbsVal\n",
      "Accuracy\n",
      "ArgMax\n",
      "BNLL\n",
      "BatchNorm\n",
      "BatchReindex\n",
      "Bias\n",
      "Concat\n",
      "ContrastiveLoss\n",
      "Convolution\n",
      "Crop\n",
      "Data\n",
      "Deconvolution\n",
      "Dropout\n",
      "DummyData\n",
      "ELU\n",
      "Eltwise\n",
      "Embed\n",
      "EuclideanLoss\n",
      "Exp\n",
      "Filter\n",
      "Flatten\n",
      "HDF5Data\n",
      "HDF5Output\n",
      "HingeLoss\n",
      "Im2col\n",
      "ImageData\n",
      "InfogainLoss\n",
      "InnerProduct\n",
      "Input\n",
      "LRN\n",
      "LSTM\n",
      "LSTMUnit\n",
      "Log\n",
      "MVN\n",
      "MemoryData\n",
      "MultinomialLogisticLoss\n",
      "PReLU\n",
      "Parameter\n",
      "Pooling\n",
      "Power\n",
      "Python\n",
      "RNN\n",
      "ReLU\n",
      "Reduction\n",
      "Reshape\n",
      "SPP\n",
      "Scale\n",
      "Sigmoid\n",
      "SigmoidCrossEntropyLoss\n",
      "Silence\n",
      "Slice\n",
      "Softmax\n",
      "SoftmaxWithLoss\n",
      "Split\n",
      "TanH\n",
      "Threshold\n",
      "Tile\n",
      "WindowData\n"
     ]
    }
   ],
   "source": [
    "type_list = caffe.layer_type_list()\n",
    "for ltype in type_list:\n",
    "    print(ltype)"
   ]
  },
  {
   "cell_type": "code",
   "execution_count": null,
   "id": "5d011651",
   "metadata": {},
   "outputs": [],
   "source": []
  },
  {
   "cell_type": "code",
   "execution_count": 5,
   "id": "2c510edc",
   "metadata": {},
   "outputs": [
    {
     "name": "stdout",
     "output_type": "stream",
     "text": [
      "Help on function layer_fn in module caffe.net_spec:\n",
      "\n",
      "layer_fn(*args, **kwargs)\n",
      "\n"
     ]
    }
   ],
   "source": [
    "help(caffe.layers.Data)"
   ]
  },
  {
   "cell_type": "code",
   "execution_count": null,
   "id": "c76cc36d",
   "metadata": {},
   "outputs": [],
   "source": []
  }
 ],
 "metadata": {
  "kernelspec": {
   "display_name": "Python 3.6 for PyTorch and caffe",
   "language": "python",
   "name": "lomin"
  },
  "language_info": {
   "codemirror_mode": {
    "name": "ipython",
    "version": 3
   },
   "file_extension": ".py",
   "mimetype": "text/x-python",
   "name": "python",
   "nbconvert_exporter": "python",
   "pygments_lexer": "ipython3",
   "version": "3.6.7"
  }
 },
 "nbformat": 4,
 "nbformat_minor": 5
}
