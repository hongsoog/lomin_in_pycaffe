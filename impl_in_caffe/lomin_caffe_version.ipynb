{
 "cells": [
  {
   "cell_type": "markdown",
   "id": "0fe3d5ae",
   "metadata": {},
   "source": [
    "# Detection V2 Network Defintion\n"
   ]
  },
  {
   "cell_type": "markdown",
   "id": "491a6a14",
   "metadata": {},
   "source": [
    "Detection V1 Network는 다음과 같이 구성되어 있다.\n",
    "\n",
    "* detectionv2 = backbone + rpn \n",
    "  * backbone = body (Resetn50) + FPN\n",
    "    * body = stem + layer1 + layer2 + layer3 + layer4\n",
    "    * FPN = fpn_inner2 + fpn_layer2 + fpn_inner3 + fpn_layer3 + fpn_inner4 + fpn_layer4 + top_block\n",
    "      * top_blocks = p6 + p7\n",
    "  * rpn = anchor_generator + head + box_selector_test\n",
    "      * head = cls_tower + bbox_tower + cls_logits + bbox_pre"
   ]
  },
  {
   "cell_type": "markdown",
   "id": "989661dc",
   "metadata": {},
   "source": [
    "----\n",
    "\n",
    "## backbone\n",
    "\n",
    "backbone은 기본적으로 ResNet50 을 body로 하고 FPN (Feature Pyramid Network)을 convolution layer의 feature map에 연결한 구조이다."
   ]
  },
  {
   "cell_type": "markdown",
   "id": "8e72161f",
   "metadata": {},
   "source": [
    "### body (ResNet50)\n",
    "\n",
    "body를 구성하고 있는 ResNet50은 stem + layer1 + layer2 + layer3 + layer4로 이루어진다.\n",
    "* stem은 layer0이라고도 한다.\n",
    "\n",
    "### stem 레이어\n",
    "\n",
    "* 관련 소스: [StemWithFixedBatchNormclass 소스분석](http://echo.etri.re.kr:8090/pages/viewpage.action?pageId=78087898#MaskRCNNBenchMarkPyTorch%EB%B2%84%EC%A0%84%EC%86%8C%EC%8A%A4%EC%BD%94%EB%93%9C%EB%B6%84%EC%84%9D-StemWithFixedBatchNormclass)\n",
    "\n",
    "stem 레이어는 아래와 같은 레이어들이 순서대로 연결된다.\n",
    "* convolution : conv1\n",
    "    * kernel_size: 7, stride:2, input ch:3, output ch:64, bias: Flase\n",
    "* batchnormal : bn1\n",
    "    * output ch:64\n",
    "* relu \n",
    "* maxpool2d \n",
    "    * kernel_size =3, strid=2, padding=1\n",
    "\n",
    "PyTorch 코드에서 relu와 maxpool2d는 funtional을 사용하여 forward() 내부에서 호출하기 때문에 print(model)에서는 표시되지 않는다.\n",
    "\n",
    "Lomin 소스가 기반으로 하고 있는 mask-rcnn에서 batchnormal (bn1)은 일반적인 batchnorm은 [FrozenBatchNorm2d()](https://github.com/facebookresearch/maskrcnn-benchmark/blob/master/maskrcnn_benchmark/layers/batch_norm.py)를 사용한다.\n",
    "> 즉, stem 레이어에서의 output ch:64이다.\n",
    "> BatchNorm2d where the batch statistics and the affine parameters are fixed"
   ]
  },
  {
   "cell_type": "code",
   "execution_count": 3,
   "id": "8b25ddd8",
   "metadata": {},
   "outputs": [],
   "source": [
    "import torch"
   ]
  },
  {
   "cell_type": "code",
   "execution_count": 12,
   "id": "e56c09f7",
   "metadata": {},
   "outputs": [],
   "source": [
    "mean = torch.FloatTensor([1, 2, 3, 4, 5])\n",
    "mean_after_reshape = mean.reshape(1, -1, 1, 1)"
   ]
  },
  {
   "cell_type": "code",
   "execution_count": 13,
   "id": "e1a95e9d",
   "metadata": {},
   "outputs": [
    {
     "name": "stdout",
     "output_type": "stream",
     "text": [
      "tensor([1., 2., 3., 4., 5.])\n"
     ]
    }
   ],
   "source": [
    "print(mean)"
   ]
  },
  {
   "cell_type": "code",
   "execution_count": 14,
   "id": "e765ea95",
   "metadata": {},
   "outputs": [
    {
     "name": "stdout",
     "output_type": "stream",
     "text": [
      "tensor([[[[1.]],\n",
      "\n",
      "         [[2.]],\n",
      "\n",
      "         [[3.]],\n",
      "\n",
      "         [[4.]],\n",
      "\n",
      "         [[5.]]]])\n"
     ]
    }
   ],
   "source": [
    "print(mean_after_reshape)"
   ]
  },
  {
   "cell_type": "code",
   "execution_count": 32,
   "id": "70b544b6",
   "metadata": {},
   "outputs": [],
   "source": [
    "from caffe import layers as L, params as P"
   ]
  },
  {
   "cell_type": "code",
   "execution_count": 33,
   "id": "14fdce2c",
   "metadata": {
    "jupyter": {
     "source_hidden": true
    }
   },
   "outputs": [
    {
     "name": "stdout",
     "output_type": "stream",
     "text": [
      "Help on Layers in module caffe.net_spec object:\n",
      "\n",
      "class Layers(builtins.object)\n",
      " |  A Layers object is a pseudo-module which generates functions that specify\n",
      " |  layers; e.g., Layers().Convolution(bottom, kernel_size=3) will produce a Top\n",
      " |  specifying a 3x3 convolution applied to bottom.\n",
      " |  \n",
      " |  Methods defined here:\n",
      " |  \n",
      " |  __getattr__(self, name)\n",
      " |  \n",
      " |  ----------------------------------------------------------------------\n",
      " |  Data descriptors defined here:\n",
      " |  \n",
      " |  __dict__\n",
      " |      dictionary for instance variables (if defined)\n",
      " |  \n",
      " |  __weakref__\n",
      " |      list of weak references to the object (if defined)\n",
      "\n"
     ]
    }
   ],
   "source": [
    "help(caffe.layers)\n"
   ]
  },
  {
   "cell_type": "code",
   "execution_count": 34,
   "id": "905c95ec",
   "metadata": {},
   "outputs": [],
   "source": [
    "n=caffe.NetSpec()"
   ]
  },
  {
   "cell_type": "code",
   "execution_count": 35,
   "id": "755c024c",
   "metadata": {},
   "outputs": [
    {
     "name": "stdout",
     "output_type": "stream",
     "text": [
      "Help on Layers in module caffe.net_spec object:\n",
      "\n",
      "class Layers(builtins.object)\n",
      " |  A Layers object is a pseudo-module which generates functions that specify\n",
      " |  layers; e.g., Layers().Convolution(bottom, kernel_size=3) will produce a Top\n",
      " |  specifying a 3x3 convolution applied to bottom.\n",
      " |  \n",
      " |  Methods defined here:\n",
      " |  \n",
      " |  __getattr__(self, name)\n",
      " |  \n",
      " |  ----------------------------------------------------------------------\n",
      " |  Data descriptors defined here:\n",
      " |  \n",
      " |  __dict__\n",
      " |      dictionary for instance variables (if defined)\n",
      " |  \n",
      " |  __weakref__\n",
      " |      list of weak references to the object (if defined)\n",
      "\n"
     ]
    }
   ],
   "source": []
  },
  {
   "cell_type": "code",
   "execution_count": null,
   "id": "74587a1d",
   "metadata": {},
   "outputs": [],
   "source": []
  }
 ],
 "metadata": {
  "kernelspec": {
   "display_name": "Python 3.6 for PyTorch and caffe",
   "language": "python",
   "name": "lomin"
  },
  "language_info": {
   "codemirror_mode": {
    "name": "ipython",
    "version": 3
   },
   "file_extension": ".py",
   "mimetype": "text/x-python",
   "name": "python",
   "nbconvert_exporter": "python",
   "pygments_lexer": "ipython3",
   "version": "3.6.7"
  }
 },
 "nbformat": 4,
 "nbformat_minor": 5
}
