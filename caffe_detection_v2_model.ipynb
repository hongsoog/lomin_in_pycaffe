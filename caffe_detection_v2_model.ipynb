{
 "cells": [
  {
   "cell_type": "markdown",
   "id": "1a1ec27e",
   "metadata": {},
   "source": [
    "# Prerequisites"
   ]
  },
  {
   "cell_type": "markdown",
   "id": "cfce0c85",
   "metadata": {},
   "source": [
    "## Coding Styles for Python\n",
    "\n",
    "* [PEP 8 -- Style Guide for Python Code](https://www.python.org/dev/peps/pep-0008/)\n",
    "* [python style guide in google](https://google.github.io/styleguide/pyguide.html)\n",
    "* [파이썬 docstring 스타일 가이드에 대한 정리](https://medium.com/@kkweon/%ED%8C%8C%EC%9D%B4%EC%8D%AC-doc-%EC%8A%A4%ED%83%80%EC%9D%BC-%EA%B0%80%EC%9D%B4%EB%93%9C%EC%97%90-%EB%8C%80%ED%95%9C-%EC%A0%95%EB%A6%AC-b6d27cd0a27c)\n",
    "\n",
    "----\n",
    "\n",
    "```python\n",
    "  def connect_to_next_port(self, minimum: int) -> int:\n",
    "    \"\"\"Connects to the next available port.\n",
    "\n",
    "    Args:\n",
    "      minimum: A port value greater or equal to 1024.\n",
    "\n",
    "    Returns:\n",
    "      The new minimum port.\n",
    "\n",
    "    Raises:\n",
    "      ConnectionError: If no available port is found.\n",
    "    \"\"\"\n",
    "    if minimum < 1024:\n",
    "      # Note that this raising of ValueError is not mentioned in the doc\n",
    "      # string's \"Raises:\" section because it is not appropriate to\n",
    "      # guarantee this specific behavioral reaction to API misuse.\n",
    "      raise ValueError(f'Min. port must be at least 1024, not {minimum}.')\n",
    "    port = self._find_next_open_port(minimum)\n",
    "    if not port:\n",
    "      raise ConnectionError(\n",
    "          f'Could not connect to service on port {minimum} or higher.')\n",
    "    assert port >= minimum, (\n",
    "        f'Unexpected port {port} when minimum was {minimum}.')\n",
    "    return port\n",
    "```\n",
    "\n",
    "----\n"
   ]
  },
  {
   "cell_type": "markdown",
   "id": "826ff55e",
   "metadata": {},
   "source": [
    "## References:\n",
    "\n",
    "* [How to get model info in caffe and pytorch](http://echo.etri.re.kr:8090/display/~kimkk/how+to+get+model+info+in+caffe+and+pytorch)"
   ]
  },
  {
   "cell_type": "markdown",
   "id": "a0808d50",
   "metadata": {},
   "source": [
    "# Import related modules"
   ]
  },
  {
   "cell_type": "markdown",
   "id": "7148f0ce",
   "metadata": {},
   "source": [
    "## numpy modules"
   ]
  },
  {
   "cell_type": "code",
   "execution_count": 1,
   "id": "519fc404",
   "metadata": {},
   "outputs": [],
   "source": [
    "import numpy as np\n",
    "import math"
   ]
  },
  {
   "cell_type": "markdown",
   "id": "abf23763",
   "metadata": {},
   "source": [
    "## pycaffe modules"
   ]
  },
  {
   "cell_type": "code",
   "execution_count": 2,
   "id": "cf28be7d",
   "metadata": {},
   "outputs": [],
   "source": [
    "import caffe\n",
    "from caffe import layers as L, params as P"
   ]
  },
  {
   "cell_type": "markdown",
   "id": "790b0ee2",
   "metadata": {},
   "source": [
    "## PIL modules"
   ]
  },
  {
   "cell_type": "code",
   "execution_count": 3,
   "id": "a83259fd",
   "metadata": {},
   "outputs": [],
   "source": [
    "from PIL import Image, ImageDraw\n",
    "\n",
    "import matplotlib.pyplot as plt\n",
    "%matplotlib inline"
   ]
  },
  {
   "cell_type": "markdown",
   "id": "ed907085",
   "metadata": {},
   "source": [
    "----\n",
    "\n",
    "# Input Image Trasform Functions\n",
    "\n",
    "관련 confluence페이지 \n",
    "* [Input Image Transform and to_image_list()](http://echo.etri.re.kr:8090/pages/viewpage.action?pageId=78088792)\n",
    "\n",
    "입력으로 주어지는 이미지는 PIL.Image 클래스를 사용하여 RGB모드로 오픈하며, 다음과 같은 3가지 transform을 거친다.\n",
    "이 과정은 maskrcnn_benchmark/data/transforms/transforms.py에서 구현한다. "
   ]
  },
  {
   "cell_type": "markdown",
   "id": "b5bc1828",
   "metadata": {},
   "source": [
    "\n",
    "* Resize\n",
    "\n",
    "> 주어진 입력 이미지를 detection 모델의 입력으로 사용할 수 있도록, aspect ratio를 보존하면서 resize한다.\n",
    "> resize할 크기는 get_size()함수로 결정한다. 기본적인 알고리즘은\n",
    ">  * w, h 중 작은 값을 480으로 aspect ratio를 유지하면서 w' h'으로 resize한 후,\n",
    ">  * w', h'중 큰 값이 640보다 크다면 640으로 aspect resize\n",
    ">\n",
    "> resize된 크기는 다시 to_image_list에서 W, H가 32의 배수가 되도록 모자라는 부분을 zero pixel로 패딩해준후 모델의 입력으로 >사용한다.\n",
    "\n",
    "* ToTensor\n",
    "\n",
    "> Normalize 처리를 위하여 이미지를 PIL.Image 타입에서 tensor (ndarray)로 변환하고, 픽셀값을 255로 나눠준다.\n",
    "\n",
    "* Normalize\n",
    "\n",
    "> tensor에 대하여 Channel Order를 RGB에서 BGR로 변경하고 픽셀값에 255를 곱해준다.\n",
    "> 각 픽셀에 대하여 mean을 빼주고, std로 나누어 주는 normalization을 수행한다.\n",
    "> * mean은 cfg.INPUT.PIXEL_MEAN: [102.9801, 115.9465, 122.7717]으로 지정된 고정값\n",
    "> * std는 cfg.INPUT.PIXEL_STD: [1.0, 1.0, 1.0]으로 지정된 고정값\n",
    "\n",
    "**Questions**\n",
    "* 애초에 BRG로 오픈하면 되지 않을까?\n",
    "* ToTensor에서 255로 나눠주고, Normalize에서 다시 255를 곱해주나?"
   ]
  },
  {
   "cell_type": "markdown",
   "id": "92d0c9fc",
   "metadata": {},
   "source": [
    "----\n",
    "\n",
    "## Resize\n"
   ]
  },
  {
   "cell_type": "markdown",
   "id": "6f9f48c5",
   "metadata": {},
   "source": [
    "### get_size()\n",
    "\n",
    "먼저 Resize할 크기를 결정하는 함수는 다음과 같다."
   ]
  },
  {
   "cell_type": "code",
   "execution_count": 4,
   "id": "38f591f9",
   "metadata": {},
   "outputs": [],
   "source": [
    "def get_size(pil_image, mode='keep_ratio'):\n",
    "    # mask rcnn transforms.py get_size() replica\n",
    "    \"\"\"Return suitable size for detection or recognition model\n",
    "\n",
    "    Args:\n",
    "        pil_image (PIL.Image) : PIL image opened with RGB mode (512x438=WxH)\n",
    "        mode (str) : resize mode\n",
    "            \"horizontal_padding\" | 'keep_ratio'\n",
    "\n",
    "    Returns:\n",
    "        (int, int) : tuple of (width, height) for resizing\n",
    "    \"\"\"\n",
    "    # get size of pil_image\n",
    "    w, h =  pil_image.size\n",
    "    \n",
    "    # output image width and height initialize\n",
    "    ow, oh = -1, -1\n",
    "\n",
    "    # i) recognition model: 'horizontal_padding'\n",
    "    if (mode=='horizontal_padding'):\n",
    "        ow, oh = -1, -1\n",
    "        target_width = int(w * (oh/h))\n",
    "        if target_width < oh:\n",
    "            target_width = oh\n",
    "\n",
    "        if target_width > ow:\n",
    "            target_width = ow\n",
    "\n",
    "        ow = target_width\n",
    "\n",
    "    # ii) detection model: 'keep_ratio'\n",
    "    elif (mode == 'keep_ratio'):\n",
    "        min_size = 480\n",
    "        max_size = 640\n",
    "        min_original_size = float(min((w,h)))\n",
    "        max_original_size = float(max((w,h)))\n",
    "\n",
    "        # summary\n",
    "        # take smaller one from height or width, and resize smaller one to 480\n",
    "        # and larger one is resized while keeping ratio\n",
    "\n",
    "        # i) first determine max_size\n",
    "        #   max_size : min_size  = max_original_size : min_original_size  -- (1)\n",
    "        #       ? :  480  =  512 : 438\n",
    "        # from (1) max_size = max_original_size * min_size / min_orignal_size\n",
    "        #                   =  480*512/438 = 531.09 = 561\n",
    "        # max size= 561.095\n",
    "        calc_max_size = max_original_size / min_original_size * min_size\n",
    "        max_size = min(calc_max_size, max_size)\n",
    "\n",
    "        # ii) determine min_size from the determined max_size\n",
    "        #   max_size : min_size  = max_original_size : min_original_size  -- (2)\n",
    "        #      561.095  :  ?  =  512 : 438\n",
    "        # from (2) min_size  =  max_size * min_original_size /  max_original_size\n",
    "        #                    = 561.095 * 438 /512 = 479.99 = round(479.99) = 480\n",
    "        min_size = round(max_size * min_original_size / max_original_size)\n",
    "\n",
    "        # if input image is a vertical image, i.e, height > width\n",
    "        #   ow = min_size, oh = max_size\n",
    "        # if input image is a horizontal image, i.e, width > height\n",
    "        #   ow = max_size, oh = min_size\n",
    "        ow = min_size if w < h else max_size\n",
    "\n",
    "        oh = max_size if w < h else min_size\n",
    "\n",
    "        # oh : 480, ow = 561.095\n",
    "        # int() cause round off\n",
    "        # oh : 480, ow = 561,\n",
    "        # (438, 512)  => (480, 561)   ; keep ratio = 1.168\n",
    "\n",
    "    # return target size with WXH format\n",
    "    return (int(ow), int(oh))\n"
   ]
  },
  {
   "cell_type": "markdown",
   "id": "1668c9e2",
   "metadata": {},
   "source": [
    "### pil_image_resize()\n",
    "\n",
    "resize할 크기를 결정하고 나면, 실제로 다음과 같은 함수를 통하여 PIL image를 resize한다."
   ]
  },
  {
   "cell_type": "code",
   "execution_count": 5,
   "id": "d32b9df3",
   "metadata": {},
   "outputs": [],
   "source": [
    "def pil_image_resize(pil_image):\n",
    "    \"\"\"Returns resized the PIL image using BILINEAR interpolation\n",
    "\n",
    "    Args:\n",
    "        pil_image (PIL.Image) : original PIL image to be resized\n",
    "            ex. 512x438 => 561 x 480\n",
    "\n",
    "    Returns:\n",
    "        PIL.Image : resized PIL Image\n",
    "    \"\"\"\n",
    "    # cacl height and width after resize\n",
    "    #size = get_size(pil_image, mode='keep_ratio')\n",
    "    width, height = get_size(pil_image, mode='keep_ratio')\n",
    "    \n",
    "    # do resize with BILINEAR interpolaton\n",
    "    #resized_pil_image = Image.resize(size, resample=Image.BILINEAR)\n",
    "    resized_pil_image =pil_image.resize((width,height), resample=Image.BILINEAR)\n",
    "\n",
    "    # WxH = 512x438 RGB ==> WxH = 561x480 RGB\n",
    "    return resized_pil_image\n"
   ]
  },
  {
   "cell_type": "markdown",
   "id": "ffb7a16d",
   "metadata": {},
   "source": [
    "## PIL image to numpy.ndarray conversion"
   ]
  },
  {
   "cell_type": "markdown",
   "id": "44cdcfc2",
   "metadata": {},
   "source": [
    "### to_ndarray()"
   ]
  },
  {
   "cell_type": "code",
   "execution_count": 6,
   "id": "a91f450a",
   "metadata": {},
   "outputs": [],
   "source": [
    "def to_ndarray(pil_image):\n",
    "    \"\"\"Returns numpy.ndarray converted from PIL image of RGB mode\n",
    "\n",
    "    Args:\n",
    "    pil_image (PIL.Image):  resized PIL image, 561x480 (WxH), mode=RGB\n",
    "\n",
    "    Returns:\n",
    "        ndarray of float32 : array with shape of CxHxW with pixel value range 0.0 ~ 1.0\n",
    "    \"\"\"\n",
    "    # read PIL image into np.ndarray\n",
    "    image_array = np.array(pil_image)\n",
    "\n",
    "    # pil_image.size : (w, h)\n",
    "    # pil_image.mode : \"RGB\", len(pil_image.mode) =3\n",
    "    w, h = pil_image.size\n",
    "    c = len(pil_image.mode)\n",
    "\n",
    "    # reshape 707840 into HWC (480, 561, 3) format\n",
    "    image_array = image_array.reshape(h, w, c)\n",
    "\n",
    "    # change dimension order from HWC to CHW format\n",
    "    image_array = image_array.transpose(2, 0, 1)\n",
    "\n",
    "    # change pixel value range 0 - 255 to 0.0 ~ 1.0\n",
    "    image_array = np.float32(image_array) / 255.0\n",
    "    \n",
    "    return image_array\n"
   ]
  },
  {
   "cell_type": "markdown",
   "id": "c7a55707",
   "metadata": {},
   "source": [
    "## Normalize\n",
    "\n",
    "numpy.ndarray에 대하여 Channel Order를 RGB에서 BGR로 변경하고 픽셀값에 255를 곱해준다.\n",
    "각 픽셀에 대하여 mean을 빼주고, std로 나누어 주는 normalization을 수행한다.\n",
    "\n",
    "Note that\n",
    "PIL uses RGB ch. order while OpenCV BGR ch. order\n",
    "* [https://note.nkmk.me/en/python-opencv-bgr-rgb-cvtcolor/](https://note.nkmk.me/en/python-opencv-bgr-rgb-cvtcolor/)\n",
    "\n",
    "Normalization에 사용하는 mean과 std의 값은 configuration에서 고정된 값을 사용한다.\n",
    "- mean은 cfg.INPUT.PIXEL_MEAN: [102.9801, 115.9465, 122.7717]으로 지정된 고정값\n",
    "-  std는 cfg.INPUT.PIXEL_STD: [1.0, 1.0, 1.0]으로 지정된 고정값\n"
   ]
  },
  {
   "cell_type": "markdown",
   "id": "efe99173",
   "metadata": {},
   "source": [
    "### normalize()\n",
    "\n",
    "**To Do**\n",
    ">  <span style=\"color:purple\">Inference시에 training 이미지의 channel별 mean을 빼기보다, testing 이미지의 channel 별로 mean을 구해서 빼주는게 맞지 않을까 싶다.</span>\n"
   ]
  },
  {
   "cell_type": "code",
   "execution_count": 7,
   "id": "edbc2d04",
   "metadata": {},
   "outputs": [],
   "source": [
    "def normalize(image_array):\n",
    "    \"\"\" Returns normalized ndarray of BGR ch. order\n",
    "        with configuration defined mean and std\n",
    "\n",
    "    Args:\n",
    "        image_array (np.ndarray) : array format of resized input image, RGB mode and CHW dimension order\n",
    "\n",
    "    Returns:\n",
    "       ndarray: normalized with configuration defined mean and std\n",
    "           dimension order: CHW, channel order: BGR\n",
    "    \"\"\"\n",
    "    mean = [102.9801, 115.9465, 122.7717]\n",
    "    std =  [1.0, 1.0, 1.0]\n",
    "\n",
    "    # change ch. order from RGB to BGR\n",
    "    # https://note.nkmk.me/en/python-opencv-bgr-rgb-cvtcolor/\n",
    "    image_array = image_array[[2,1,0], :, :]\n",
    "\n",
    "    # multiply 255 to each pixel value\n",
    "    image_array = image_array*255\n",
    "\n",
    "    # normalize with mean and std\n",
    "    # since std is [1.0, 1.0, 1.0], just subtract mean\n",
    "    # note that CHW shape with channel order BGR\n",
    "    image_array[0, :, :] = image_array[0, :, :] - mean[0]\n",
    "    image_array[1, :, :] = image_array[1, :, :] - mean[1]\n",
    "    image_array[2, :, :] = image_array[2, :, :] - mean[2]\n",
    "    \n",
    "\n",
    "    return image_array\n"
   ]
  },
  {
   "cell_type": "markdown",
   "id": "73461ba1",
   "metadata": {},
   "source": [
    "----\n",
    "\n",
    "## Zero padding for 32 divisiblity\n",
    "\n",
    "Transform을 통하여 ndarray로 변환된 이미지 데이타(```image_array````)는 최종적으로 height $H$와 width $W$가 32의 배수가 되도록 해주어야 하는데, 이때는 resize를 하지 않고, 추가된 영역을 zero image로 패딩해준다.\n",
    "\n",
    "* 이미지 데이타의 크기에서 32의 배수가 되는 height $H'$와 width $W'$을 다음과 같이 계산하고\n",
    "  * $H' = \\lceil H/32 \\rceil \\times 32 $\n",
    "  * $W' = \\lceil W/32 \\rceil \\times 32 $\n",
    "* $3 \\times H'  \\times W'$의 zero image (```padded_image_array```)를 생성하고,\n",
    "* ```padded_image_array```의 ```[0:3, 0:H, 0:W]``` 영역위로  $3 \\times H \\times W$ ```image_array```의 값으로 덮어쓴다."
   ]
  },
  {
   "cell_type": "markdown",
   "id": "9edd7642",
   "metadata": {},
   "source": [
    "### zero_padding()"
   ]
  },
  {
   "cell_type": "code",
   "execution_count": 8,
   "id": "158a2710",
   "metadata": {},
   "outputs": [],
   "source": [
    "def zero_padding(image_array, size_divisible = 32):\n",
    "    \"\"\"Returns batched padded array with new width/height with 32 divisible and pad with zero pixels\n",
    "\n",
    "    Args:\n",
    "        image_array (np.ndarray) : image array of CHW dimension order and RGB channel order\n",
    "            ndarray of shape format (3, H, W), RGB channel order\n",
    "        size_divisible (int, default:32) : which multiple of width and height\n",
    "\n",
    "    Returns:\n",
    "        ndarray of shape [1, 3, H', W']:\n",
    "            batched image array of shape (1, 3, H', W'), H' and W' is multiple of 32\n",
    "            increase region filled with zeros and batch dimension added at axis 0\n",
    "    \"\"\"\n",
    "    # calc size divisible new height and width\n",
    "    c, h, w = image_array.shape\n",
    "        \n",
    "    new_h = int(np.ceil(h / size_divisible )* size_divisible)\n",
    "    new_w = int(np.ceil(w / size_divisible )* size_divisible)\n",
    "\n",
    "          \n",
    "    # create black image with size divisible\n",
    "    padded_image_array = np.zeros((3, new_h, new_w), dtype= np.float32)\n",
    "\n",
    "    # overlay image_array on padded_image\n",
    "    padded_image_array[:c, :h, :w] = image_array\n",
    "    \n",
    "    # add batch dimension into image_array\n",
    "    # (3, H, W) => (1, 3, H, W)    \n",
    "    padded_image_array = np.expand_dims(padded_image_array, axis=0)\n",
    "    \n",
    "    return padded_image_array"
   ]
  },
  {
   "cell_type": "markdown",
   "id": "903d2c70",
   "metadata": {},
   "source": [
    "----\n",
    "\n",
    "## 동작 일치성 테스트"
   ]
  },
  {
   "cell_type": "markdown",
   "id": "3ab19e19",
   "metadata": {},
   "source": [
    "### input image"
   ]
  },
  {
   "cell_type": "code",
   "execution_count": 9,
   "id": "9d3efa1d",
   "metadata": {},
   "outputs": [],
   "source": [
    "image_file_path = \"./sample_images/detection/1594202471809.jpg\"\n",
    "pil_image = Image.open(image_file_path).convert('RGB')"
   ]
  },
  {
   "cell_type": "code",
   "execution_count": 10,
   "id": "cfa52970",
   "metadata": {},
   "outputs": [
    {
     "data": {
      "text/plain": [
       "(512, 438)"
      ]
     },
     "execution_count": 10,
     "metadata": {},
     "output_type": "execute_result"
    }
   ],
   "source": [
    "pil_image.size"
   ]
  },
  {
   "cell_type": "code",
   "execution_count": 11,
   "id": "e4c46e6c",
   "metadata": {},
   "outputs": [
    {
     "data": {
      "text/plain": [
       "<matplotlib.image.AxesImage at 0x7fae57dffac8>"
      ]
     },
     "execution_count": 11,
     "metadata": {},
     "output_type": "execute_result"
    },
    {
     "data": {
      "image/png": "[encoded data removed]",
      "text/plain": [
       "<Figure size 432x288 with 1 Axes>"
      ]
     },
     "metadata": {
      "needs_background": "light"
     },
     "output_type": "display_data"
    }
   ],
   "source": [
    "plt.imshow(pil_image)"
   ]
  },
  {
   "cell_type": "code",
   "execution_count": 12,
   "id": "28c00070",
   "metadata": {},
   "outputs": [],
   "source": [
    "# PIL image resize\n",
    "resized_pil_image=pil_image_resize(pil_image)"
   ]
  },
  {
   "cell_type": "code",
   "execution_count": 13,
   "id": "52a72c5d",
   "metadata": {},
   "outputs": [
    {
     "data": {
      "text/plain": [
       "(561, 480)"
      ]
     },
     "execution_count": 13,
     "metadata": {},
     "output_type": "execute_result"
    }
   ],
   "source": [
    "resized_pil_image.size"
   ]
  },
  {
   "cell_type": "markdown",
   "id": "ce2faf16",
   "metadata": {},
   "source": [
    "### resized image"
   ]
  },
  {
   "cell_type": "code",
   "execution_count": 14,
   "id": "ed887b9a",
   "metadata": {},
   "outputs": [
    {
     "data": {
      "text/plain": [
       "<matplotlib.image.AxesImage at 0x7fae57d2c0f0>"
      ]
     },
     "execution_count": 14,
     "metadata": {},
     "output_type": "execute_result"
    },
    {
     "data": {
      "image/png": "[encoded data removed]",
      "text/plain": [
       "<Figure size 432x288 with 1 Axes>"
      ]
     },
     "metadata": {
      "needs_background": "light"
     },
     "output_type": "display_data"
    }
   ],
   "source": [
    "plt.imshow(resized_pil_image)"
   ]
  },
  {
   "cell_type": "code",
   "execution_count": 15,
   "id": "662c4748",
   "metadata": {},
   "outputs": [],
   "source": [
    "# PIL image to np.ndarray\n",
    "image_array = to_ndarray(resized_pil_image)"
   ]
  },
  {
   "cell_type": "code",
   "execution_count": 16,
   "id": "553ad31d",
   "metadata": {},
   "outputs": [
    {
     "data": {
      "text/plain": [
       "(3, 480, 561)"
      ]
     },
     "execution_count": 16,
     "metadata": {},
     "output_type": "execute_result"
    }
   ],
   "source": [
    "image_array.shape"
   ]
  },
  {
   "cell_type": "markdown",
   "id": "57aa4b66",
   "metadata": {},
   "source": [
    "### ndarrayed image check"
   ]
  },
  {
   "cell_type": "code",
   "execution_count": 17,
   "id": "53ab3a19",
   "metadata": {},
   "outputs": [
    {
     "data": {
      "text/plain": [
       "array([[[1., 1., 1., ..., 1., 1., 1.],\n",
       "        [1., 1., 1., ..., 1., 1., 1.],\n",
       "        [1., 1., 1., ..., 1., 1., 1.],\n",
       "        ...,\n",
       "        [1., 1., 1., ..., 1., 1., 1.],\n",
       "        [1., 1., 1., ..., 1., 1., 1.],\n",
       "        [1., 1., 1., ..., 1., 1., 1.]],\n",
       "\n",
       "       [[1., 1., 1., ..., 1., 1., 1.],\n",
       "        [1., 1., 1., ..., 1., 1., 1.],\n",
       "        [1., 1., 1., ..., 1., 1., 1.],\n",
       "        ...,\n",
       "        [1., 1., 1., ..., 1., 1., 1.],\n",
       "        [1., 1., 1., ..., 1., 1., 1.],\n",
       "        [1., 1., 1., ..., 1., 1., 1.]],\n",
       "\n",
       "       [[1., 1., 1., ..., 1., 1., 1.],\n",
       "        [1., 1., 1., ..., 1., 1., 1.],\n",
       "        [1., 1., 1., ..., 1., 1., 1.],\n",
       "        ...,\n",
       "        [1., 1., 1., ..., 1., 1., 1.],\n",
       "        [1., 1., 1., ..., 1., 1., 1.],\n",
       "        [1., 1., 1., ..., 1., 1., 1.]]], dtype=float32)"
      ]
     },
     "execution_count": 17,
     "metadata": {},
     "output_type": "execute_result"
    }
   ],
   "source": [
    "image_array"
   ]
  },
  {
   "cell_type": "code",
   "execution_count": 41,
   "id": "ffbc05dc",
   "metadata": {},
   "outputs": [
    {
     "name": "stdout",
     "output_type": "stream",
     "text": [
      "ndarray tmp_img.shape (H, W, C): (480, 561, 3)\n",
      "PIL tmp_img.size (W, H): (561, 480)\n"
     ]
    },
    {
     "data": {
      "text/plain": [
       "<matplotlib.image.AxesImage at 0x7fae57316780>"
      ]
     },
     "execution_count": 41,
     "metadata": {},
     "output_type": "execute_result"
    },
    {
     "data": {
      "image/png": "[encoded data removed]",
      "text/plain": [
       "<Figure size 432x288 with 1 Axes>"
      ]
     },
     "metadata": {
      "needs_background": "light"
     },
     "output_type": "display_data"
    }
   ],
   "source": [
    "# Make deep copy\n",
    "tmp_img = image_array.copy()\n",
    "\n",
    "# pixel value range 0.0~1.0 to 0.0~255.0\n",
    "tmp_img *=  255\n",
    "\n",
    "\n",
    "# change dimension order from CHW to HWC for dispaly\n",
    "tmp_img = tmp_img.transpose(1, 2, 0)\n",
    "\n",
    "# chnage float32 to uint8\n",
    "tmp_img = tmp_img.astype(np.uint8)\n",
    "print(f\"ndarray tmp_img.shape (H, W, C): {tmp_img.shape}\")\n",
    "\n",
    "# conver image array to PIL.Image\n",
    "tmp_img = Image.fromarray(tmp_img, 'RGB')\n",
    "\n",
    "print(f\"PIL tmp_img.size (W, H): {tmp_img.size}\")\n",
    "plt.imshow(tmp_img)"
   ]
  },
  {
   "cell_type": "markdown",
   "id": "8df76cfc",
   "metadata": {},
   "source": [
    "### normalized image"
   ]
  },
  {
   "cell_type": "code",
   "execution_count": 19,
   "id": "fa7da85b",
   "metadata": {},
   "outputs": [],
   "source": [
    "# normalize with mean and std\n",
    "# mean and std is defined in configuration\n",
    "normalized_image_array = normalize(image_array)"
   ]
  },
  {
   "cell_type": "code",
   "execution_count": 36,
   "id": "b3540268",
   "metadata": {},
   "outputs": [
    {
     "name": "stdout",
     "output_type": "stream",
     "text": [
      "tmp_img_array.shape (H, W, C): (480, 561, 3)\n",
      "tmp_img.size (W, H): (561, 480)\n"
     ]
    },
    {
     "data": {
      "text/plain": [
       "<matplotlib.image.AxesImage at 0x7fae574b8278>"
      ]
     },
     "execution_count": 36,
     "metadata": {},
     "output_type": "execute_result"
    },
    {
     "data": {
      "image/png": "[encoded data removed]",
      "text/plain": [
       "<Figure size 432x288 with 1 Axes>"
      ]
     },
     "metadata": {
      "needs_background": "light"
     },
     "output_type": "display_data"
    }
   ],
   "source": [
    "# shape CxHxW, ch. order BGR, pixel value range: -122.77 ~ 152.01\n",
    "# normalized with mean and std\n",
    "mean = [102.9801, 115.9465, 122.7717]\n",
    "std =  [1.0, 1.0, 1.0]\n",
    "\n",
    "# Make deep copy !!\n",
    "tmp_img = normalized_image_array.copy()\n",
    "\n",
    "# unnormalized to 0. ~ 255.0\n",
    "tmp_img[0, :, :] = tmp_img[0, :, :] + mean[0]\n",
    "tmp_img[1, :, :] = tmp_img[1, :, :] + mean[1]\n",
    "tmp_img[2, :, :] = tmp_img[2, :, :] + mean[2]\n",
    "\n",
    "# change ch. order from BGR to RGB\n",
    "# https://note.nkmk.me/en/python-opencv-bgr-rgb-cvtcolor/\n",
    "tmp_img = tmp_img[[2,1,0], :, :]\n",
    "\n",
    "# change dimension order from CHW to HWC for dispaly\n",
    "tmp_img = tmp_img.transpose(1, 2, 0)\n",
    "\n",
    "# flaot 0.0~255.0 to 0 ~ 255\n",
    "tmp_img_array = tmp_img.astype(np.uint8)\n",
    "\n",
    "print(f\"tmp_img_array.shape (H, W, C): {tmp_img_array.shape}\")\n",
    "\n",
    "# conver image array to PIL.Image\n",
    "tmp_img = Image.fromarray(tmp_img_array, 'RGB')\n",
    "print(f\"tmp_img.size (W, H): {tmp_img.size}\")\n",
    "plt.imshow(tmp_img)"
   ]
  },
  {
   "cell_type": "markdown",
   "id": "b8474f81",
   "metadata": {},
   "source": [
    "### zero padded image"
   ]
  },
  {
   "cell_type": "code",
   "execution_count": 21,
   "id": "6b944d10",
   "metadata": {},
   "outputs": [],
   "source": [
    "batch_image_array = zero_padding(normalized_image_array, size_divisible = 32)\n"
   ]
  },
  {
   "cell_type": "raw",
   "id": "9878e2ba",
   "metadata": {},
   "source": [
    "def zero_padding(image_array, size_divisible = 32):\n",
    "    \"\"\"Returns batched padded array with new width/height with 32 divisible and pad with zero pixels\n",
    "\n",
    "    Args:\n",
    "        image_array (np.ndarray) : image array of CHW dimension order and RGB channel order\n",
    "            ndarray of shape format (3, H, W), RGB channel order\n",
    "        size_divisible (int, default:32) : which multiple of width and height\n",
    "\n",
    "    Returns:\n",
    "        ndarray of shape [1, 3, H', W']:\n",
    "            batched image array of shape (1, 3, H', W'), H' and W' is multiple of 32\n",
    "            increase region filled with zeros and batch dimension added at axis 0\n",
    "    \"\"\"\n",
    "    # calc size divisible new height and width\n",
    "    h, w, c = image_array.shape\n",
    "        \n",
    "    new_h = int(np.ceil(h / size_divisible )* size_divisible)\n",
    "    new_w = int(np.ceil(w / size_divisible )* size_divisible)\n",
    "   \n",
    "    # create black image with size divisible\n",
    "    padded_image_array = np.zeros((new_h, new_w, ), dtype= np.float32)\n",
    "\n",
    "    # overlay image_array on padded_image\n",
    "    padded_image_array[:c, :h, :w] = tmp\n",
    "    \n",
    "    # add batch dimension\n",
    "    # (3, H, W) => (1, 3, H, W)    \n",
    "    padded_image_array = np.expand_dims(padded_image_array, axis=0)\n",
    "    \n",
    "    return padded_image_array"
   ]
  },
  {
   "cell_type": "code",
   "execution_count": 34,
   "id": "5e3b31f9",
   "metadata": {},
   "outputs": [
    {
     "name": "stdout",
     "output_type": "stream",
     "text": [
      "zero_padded.size: (576, 480)\n"
     ]
    },
    {
     "data": {
      "text/plain": [
       "<matplotlib.image.AxesImage at 0x7fae5756ecc0>"
      ]
     },
     "execution_count": 34,
     "metadata": {},
     "output_type": "execute_result"
    },
    {
     "data": {
      "image/png": "[encoded data removed]",
      "text/plain": [
       "<Figure size 432x288 with 1 Axes>"
      ]
     },
     "metadata": {
      "needs_background": "light"
     },
     "output_type": "display_data"
    }
   ],
   "source": [
    "size_divisible = 32\n",
    "\n",
    "h, w, c = tmp_img_array.shape\n",
    "     \n",
    "new_h = int(np.ceil(h / size_divisible )* size_divisible)\n",
    "new_w = int(np.ceil(w / size_divisible )* size_divisible)\n",
    "\n",
    "# create black image with size divisible\n",
    "zero_padded = np.zeros((new_h, new_w, c), dtype= np.uint8)\n",
    "\n",
    "# overlay image_array on padded_image\n",
    "zero_padded[:h, :w, :c] = tmp_img_array\n",
    "\n",
    "# conver image array to PIL.Image\n",
    "zero_padded = Image.fromarray(zero_padded, 'RGB')\n",
    "print(f\"zero_padded.size: {zero_padded.size}\")\n",
    "plt.imshow(zero_padded)"
   ]
  },
  {
   "cell_type": "markdown",
   "id": "05a53f4e",
   "metadata": {},
   "source": [
    "----\n",
    "\n",
    "###  Transform 동작 일치성 확인\n",
    "* [numpy.array_equal](https://numpy.org/doc/stable/reference/generated/numpy.array_equal.html)\n",
    "* [numpy.array_equiv](https://numpy.org/doc/stable/reference/generated/numpy.array_equiv.html)\n",
    "* [numpy.allclose](https://numpy.org/doc/stable/reference/generated/numpy.allclose.html)\n",
    "\n",
    "check with Pytorch code `detection_model_debug.py` saved `./npy_save/transformed_tensor.npy` and current `normalized_image_array` variable\n",
    "```python \n",
    "image_tensor = self.transforms(image)\n",
    "\n",
    "import numpy as np\n",
    "np.save(\"./npy_save/transformed_tensor.npy\", image_tensor)\n",
    "```\n"
   ]
  },
  {
   "cell_type": "code",
   "execution_count": 23,
   "id": "ac7f6f71",
   "metadata": {},
   "outputs": [],
   "source": [
    "transformed_tensor = np.load(\"./npy_save/transformed_tensor.npy\")\n"
   ]
  },
  {
   "cell_type": "code",
   "execution_count": 24,
   "id": "b70483d7",
   "metadata": {},
   "outputs": [
    {
     "name": "stdout",
     "output_type": "stream",
     "text": [
      "(3, 480, 561) float32\n"
     ]
    }
   ],
   "source": [
    "print(transformed_tensor.shape, transformed_tensor.dtype)\n"
   ]
  },
  {
   "cell_type": "code",
   "execution_count": 25,
   "id": "1302dca8",
   "metadata": {},
   "outputs": [
    {
     "name": "stdout",
     "output_type": "stream",
     "text": [
      "(3, 480, 561) float32\n"
     ]
    }
   ],
   "source": [
    "print(normalized_image_array.shape, normalized_image_array.dtype)"
   ]
  },
  {
   "cell_type": "code",
   "execution_count": 26,
   "id": "ab8e1da3",
   "metadata": {},
   "outputs": [
    {
     "data": {
      "text/plain": [
       "True"
      ]
     },
     "execution_count": 26,
     "metadata": {},
     "output_type": "execute_result"
    }
   ],
   "source": [
    "np.allclose(transformed_tensor, normalized_image_array)"
   ]
  },
  {
   "cell_type": "code",
   "execution_count": 27,
   "id": "04111fb8",
   "metadata": {},
   "outputs": [
    {
     "data": {
      "text/plain": [
       "True"
      ]
     },
     "execution_count": 27,
     "metadata": {},
     "output_type": "execute_result"
    }
   ],
   "source": [
    "np.array_equal(transformed_tensor, normalized_image_array)"
   ]
  },
  {
   "cell_type": "code",
   "execution_count": 28,
   "id": "b50140f1",
   "metadata": {},
   "outputs": [
    {
     "data": {
      "text/plain": [
       "True"
      ]
     },
     "execution_count": 28,
     "metadata": {},
     "output_type": "execute_result"
    }
   ],
   "source": [
    "np.array_equiv(transformed_tensor, normalized_image_array)"
   ]
  },
  {
   "cell_type": "markdown",
   "id": "6111ef01",
   "metadata": {},
   "source": [
    "----\n",
    "\n",
    "### Padded Image 일치성 확인\n",
    "* [numpy.array_equal](https://numpy.org/doc/stable/reference/generated/numpy.array_equal.html)\n",
    "* [numpy.array_equiv](https://numpy.org/doc/stable/reference/generated/numpy.array_equiv.html)\n",
    "* [numpy.allclose](https://numpy.org/doc/stable/reference/generated/numpy.allclose.html)\n",
    "\n",
    "check with Pytorch code `detection_model_debug.py` saved `./npy_save/padded_tensor.npy` and current `batch_image_array` variable\n",
    "```python \n",
    "image_list = to_image_list(image_tensor, self.cfg.DATALOADER.SIZE_DIVISIBILITY).to(self.device)\n",
    "np.save(\"./npy_save/padded_tensor.npy\", image_list.tensors.cpu())\n",
    "```\n",
    "\n"
   ]
  },
  {
   "cell_type": "code",
   "execution_count": 29,
   "id": "f00ea084",
   "metadata": {},
   "outputs": [],
   "source": [
    "batch_image_array = zero_padding(normalized_image_array, size_divisible = 32)"
   ]
  },
  {
   "cell_type": "code",
   "execution_count": 30,
   "id": "e4fb2c65",
   "metadata": {},
   "outputs": [
    {
     "data": {
      "text/plain": [
       "(1, 3, 480, 576)"
      ]
     },
     "execution_count": 30,
     "metadata": {},
     "output_type": "execute_result"
    }
   ],
   "source": [
    "batch_image_array.shape"
   ]
  },
  {
   "cell_type": "code",
   "execution_count": 31,
   "id": "eb7fb645",
   "metadata": {},
   "outputs": [],
   "source": [
    "padded_tensor = np.load(\"./npy_save/padded_tensor.npy\")"
   ]
  },
  {
   "cell_type": "code",
   "execution_count": 32,
   "id": "aeb2585b",
   "metadata": {},
   "outputs": [
    {
     "data": {
      "text/plain": [
       "(1, 3, 480, 576)"
      ]
     },
     "execution_count": 32,
     "metadata": {},
     "output_type": "execute_result"
    }
   ],
   "source": [
    "padded_tensor.shape"
   ]
  },
  {
   "cell_type": "code",
   "execution_count": 33,
   "id": "3949355d",
   "metadata": {},
   "outputs": [
    {
     "data": {
      "text/plain": [
       "True"
      ]
     },
     "execution_count": 33,
     "metadata": {},
     "output_type": "execute_result"
    }
   ],
   "source": [
    "np.array_equal(padded_tensor, batch_image_array)"
   ]
  },
  {
   "cell_type": "markdown",
   "id": "3826c94d",
   "metadata": {},
   "source": [
    "---\n",
    "# Caffe Model Functions\n",
    "\n",
    "Detection model은 다음과 같은 구성요소로 이루어져 있다.\n",
    "* model.backbone\n",
    "  * model.backbone.body : ResNet50 (5 stages)\n",
    "  * model.fpn : feature pyramid network\n",
    "* model.rpn : region proposal net\n",
    "\n",
    "전체적인 구조는 [http://echo.etri.re.kr:8090/display/~kimkk/detection+model+v2+structure](http://echo.etri.re.kr:8090/display/~kimkk/detection+model+v2+structure)를 참고한다.\n"
   ]
  },
  {
   "cell_type": "markdown",
   "id": "2685ca51",
   "metadata": {},
   "source": [
    "----\n",
    "```java\n",
    "(base) kimkk@alpha ~/lomin $ vi detection_model_v2_structure_with_comments.txt\n",
    "\n",
    "// ------------------------------------------------------------------------------------------------------------------------\n",
    "// Note\n",
    "// This is just structure of detection model v2, its structure does not imply any order of layers.\n",
    "// In this structure analysis, some layers those not include learnable parameters, such as ReLU or maxpool are hidden.\n",
    "// ------------------------------------------------------------------------------------------------------------------------\n",
    "\n",
    "(lomin) kimkk@alpha ~/lomin $ vi model_structure.txt\n",
    "\n",
    "GenerallizedRCNN    \"model\"\n",
    "  │\n",
    "  ├─── backbone     \"model.backbone\"\n",
    "  │     │\n",
    "  │     ├─── body  \"model.backbone.body\"\n",
    "  │     │     ├── stem   \"model.backbone.body.stem\"\n",
    "  │     │     │    │   related source: maskrcnn_benchmark/modelling/backbone/resenet.py StemWithFixedBatchNorm class\n",
    "  │     │     │    │   --> conv1 ->  bn1 (FronzenBatchNorm2d : bn -> scale ) -> relu -> max_pool2d\n",
    "  │     │     │    │\n",
    "  │     │     │    ├── conv1  \"model.backbone.body.stem.conv1\",  // def: Conv2d(in_channels=3, out_channels=64, kernel_size=(7, 7), stride=(2, 2), padding=(3, 3), bias=False)]\n",
    "  │     │     │    └── bn1    \"model.backbone.body.stem.bn1\",    // def: FrozenBatchNorm2d() : bn -> scale\n",
    "  │     │     │\n",
    "  │     │     ├── layer1 \"model.backbone.body.layer1\"\n",
    "  │     │     │    │\n",
    "  │     │     │    │    related source: maskrcnn_benchmark/modelling/backbone/resenet.py BottleneckWithFixedBatchNorm class\n",
    "  │     │     │    │        + ---------------------------------------> downnsample -----------------+\n",
    "  │     │     │    │        ^                                                                       |\n",
    "  │     │     │    │        │                                                                       V\n",
    "  │     │     │    │    --> + -> conv1 -> bn1 -> relu -> conv2 -> bn2 -> relue -> conv3 -> bn3 ->  Add  -> relu\n",
    "  │     │     │    │\n",
    "  │     │     │    ├─── 0   \"model.backbone.body.layer1.0\"\n",
    "  │     │     │    │    ├── downsample \"model.backbone.body.layer1.0.downsample\"\n",
    "  │     │     │    │    │    │\n",
    "  │     │     │    │    │    ├── 0     \"model.backbone.body.layer1.0.downsample.0\",   // def: Conv2d(in_channels=64, out_channels=256, kernel_size=(1, 1), stride=(1, 1), bias=False) x\n",
    "  │     │     │    │    │    └── 1     \"model.backbone.body.layer1.0.downsample.1\",   // def: FrozenBatchNorm2d() : bn -> scale -> relu\n",
    "  │     │     │    │    ├── conv1      \"model.backbone.body.layer1.0.conv1\",          // def: Conv2d(in_channels=64, out_channels=64, kernel_size=(1, 1), stride=(1, 1), bias=False)\n",
    "  │     │     │    │    ├── bn1        \"model.backbone.body.layer1.0.bn1\",            // def: FrozenBatchNorm2d() : bn -> scale -> relu\n",
    "  │     │     │    │    ├── conv2      \"model.backbone.body.layer1.0.conv2\",          // def: Conv2d(in_channels=64, out_channels=64, kernel_size=(3, 3), stride=(1, 1), padding=(1, 1), bias=False)\n",
    "  │     │     │    │    ├── bn2        \"model.backbone.body.layer1.0.bn2\",            // def: FrozenBatchNorm2d() : bn -> scale -> relu\n",
    "  │     │     │    │    ├── conv3      \"model.backbone.body.layer1.0.conv3\",          // def: Conv2d(in_channels=64, out_channels=256, kernel_size=(1, 1), stride=(1, 1), bias=False)\n",
    "  │     │     │    │    └── bn3        \"model.backbone.body.layer1.0.bn3\",            // def: FrozenBatchNorm2d() : bn -> scale -> relu\n",
    "  │     │     │    │\n",
    "  │     │     │    │    --> conv1 -> bn1 -> relu -> conv2 -> bn2 -> relue -> conv3 -> bn3 -> relu\n",
    "  │     │     │    │\n",
    "  │     │     │    ├─── 1   \"model.backbone.body.layer1.1\"\n",
    "  │     │     │    │    ├── conv1      \"model.backbone.body.layer1.1.conv1\",          // def: Conv2d(in_channels=256, out_channels=64, kernel_size=(1, 1), stride=(1, 1), bias=False)\n",
    "  │     │     │    │    ├── bn1        \"model.backbone.body.layer1.1.bn1\",            // def: FrozenBatchNorm2d() : bn -> scale -> relu\n",
    "  │     │     │    │    ├── conv2      \"model.backbone.body.layer1.1.conv2\",          // def: Conv2d(in_channels=64,  out_channels=64, kernel_size=(3, 3), stride=(1, 1), padding=(1, 1), bias=False)\n",
    "  │     │     │    │    ├── bn2        \"model.backbone.body.layer1.1.bn1\",            // def: FrozenBatchNorm2d() : bn -> scale -> relu\n",
    "  │     │     │    │    ├── conv3      \"model.backbone.body.layer1.1.conv3\",          // def: Conv2d(in_channels=64,  out_channels=256, kernel_size=(1, 1), stride=(1, 1), bias=False)\n",
    "  │     │     │    │    └── bn3        \"model.backbone.body.layer1.1.bn3\",            // def: FrozenBatchNorm2d() : bn -> scale -> relu\n",
    "  │     │     │    │\n",
    "  │     │     │    │    --> conv1 -> bn1 -> relu -> conv2 -> bn2 -> relue -> conv3 -> bn3 -> relu\n",
    "  │     │     │    │\n",
    "  │     │     │    └─── 2   \"model.backbone.body.layer1.2\"\n",
    "  │     │     │         ├── conv1      \"model.backbone.body.layer1.2.conv1\",          // def: Conv2d(in_channels=256, out_channels=64, kernel_size=(1, 1), stride=(1, 1), bias=False)\n",
    "  │     │     │         ├── bn1        \"model.backbone.body.layer1.2.bn1\",            // def: FrozenBatchNorm2d() : bn -> scale -> relu\n",
    "  │     │     │         ├── conv2      \"model.backbone.body.layer1.2.conv2\",          // def: Conv2d(in_channels=64,  out_channels=64, kernel_size=(3, 3), stride=(1, 1), padding=(1, 1), bias=False)\n",
    "  │     │     │         ├── bn2        \"model.backbone.body.layer1.2.bn2\",            // def: FrozenBatchNorm2d() : bn -> scale -> relu\n",
    "  │     │     │         ├── conv3      \"model.backbone.body.layer1.2.conv3\",          // def: Conv2d(in_channels=64,  out_channels=256, kernel_size=(1, 1), stride=(1, 1), bias=False)\n",
    "  │     │     │         └── bn3        \"model.backbone.body.layer1.2.conv2\",          // def: FrozenBatchNorm2d() : bn -> scale -> relu\n",
    "  │     │     │\n",
    "  │     │     ├── layer2 \"model.backbone.body.layer2\"\n",
    "  │     │     │    │\n",
    "  │     │     │    ├─── 0   \"model.backbone.body.layer2.0\"\n",
    "  │     │     │    │    ├── downsample  \"model.backbone.body.layer2.0.downsample\"\n",
    "  │     │     │    │    │    │\n",
    "  │     │     │    │    │    ├── 0      \"model.backbone.body.layer2.0.downsample.0\" , // def: Conv2d(in_channels=256, out_channels=512, kernel_size=(1, 1), stride=(2, 2), bias=False)\n",
    "  │     │     │    │    │    └── 1      \"model.backbone.body.layer2.0.downsample.1\",  // def: FrozenBatchNorm2d() : bn -> scale -> relu\n",
    "  │     │     │    │    ├── conv1       \"model.backbone.body.layer2.0.conv1\",         // def: Conv2d(in_channels=256, out_channels=128, kernel_size=(1, 1), stride=(2, 2), bias=False)\n",
    "  │     │     │    │    ├── bn1         \"model.backbone.body.layer2.0.bn1\",           // def: FrozenBatchNorm2d() : bn -> scale -> relu\n",
    "  │     │     │    │    ├── conv2       \"model.backbone.body.layer2.0.conv2\",         // def: Conv2d(in_channels=128, out_channels=128, kernel_size=(3, 3), stride=(1, 1), padding=(1, 1), bias=False)\n",
    "  │     │     │    │    ├── bn2         \"model.backbone.body.layer2.0.bn2\",,          // def: FrozenBatchNorm2d() : bn -> scale -> relu\n",
    "  │     │     │    │    ├── conv3       \"model.backbone.body.layer2.0.conv3\",         // def: Conv2d(in_channels=128, out_channels=512, kernel_size=(1, 1), stride=(1, 1), bias=False)\n",
    "  │     │     │    │    └── bn3         \"model.backbone.body.layer2.0.bn3\",           // def: FrozenBatchNorm2d() : bn -> scale -> relu\n",
    "  │     │     │    │\n",
    "  │     │     │    ├─── 1   \"model.backbone.body.layer2.1\"\n",
    "  │     │     │    │    ├── conv1       \"model.backbone.body.layer2.1.conv1\",         // def: Conv2d(in_channels=512, out_channels=128, kernel_size=(1, 1), stride=(1, 1), bias=False)\n",
    "  │     │     │    │    ├── bn1         \"model.backbone.body.layer2.1.bn1\",           // def: FrozenBatchNorm2d() : bn -> scale -> relu\n",
    "  │     │     │    │    ├── conv2       \"model.backbone.body.layer2.1.conv2\",         // def: Conv2d(in_channels=128, out_channels=128, kernel_size=(3, 3), stride=(1, 1), padding=(1, 1), bias=False)\n",
    "  │     │     │    │    ├── bn2         \"model.backbone.body.layer2.1.bn2\",           // def: FrozenBatchNorm2d() : bn -> scale -> relu\n",
    "  │     │     │    │    ├── conv3       \"model.backbone.body.layer2.1.conv3\",         // def: Conv2d(in_channels=128, out_channels=512, kernel_size=(1, 1), stride=(1, 1), bias=False)\n",
    "  │     │     │    │    └── bn3         \"model.backbone.body.layer2.1.bn3\",           // def: FrozenBatchNorm2d() : bn -> scale -> relu\n",
    "  │     │     │    │\n",
    "  │     │     │    ├─── 2   \"model.backbone.body.layer2.2\"\n",
    "  │     │     │    │    ├── conv1       \"model.backbone.body.layer2.2.conv1\",         // def: Conv2d(in_channels=512, out_channels=128, kernel_size=(1, 1), stride=(1, 1), bias=False)\n",
    "  │     │     │    │    ├── bn1         \"model.backbone.body.layer2.2.bn1\",           // def: FrozenBatchNorm2d() : bn -> scale -> relu\n",
    "  │     │     │    │    ├── conv2       \"model.backbone.body.layer2.2.conv2\",         // def: Conv2d(in_channels=128, out_channels=128, kernel_size=(3, 3), stride=(1, 1), padding=(1, 1), bias=False)\n",
    "  │     │     │    │    ├── bn2         \"model.backbone.body.layer2.2.bn2\",           // def: FrozenBatchNorm2d() : bn -> scale -> relu\n",
    "  │     │     │    │    ├── conv3       \"model.backbone.body.layer2.2.conv3\",         // def: Conv2d(in_channels=128, out_channels=512, kernel_size=(1, 1), stride=(1, 1), bias=False)\n",
    "  │     │     │    │    └── bn3         \"model.backbone.body.layer2.2.bn3\",           // def: FrozenBatchNorm2d() : bn -> scale -> relu\n",
    "  │     │     │    │\n",
    "  │     │     │    └─── 3 \"model.backbone.body.layer2.3\"\n",
    "  │     │     │         ├── conv1       \"model.backbone.body.layer2.3.conv1\",         // def: Conv2d(in_channels=512, out_channels=128, kernel_size=(1, 1), stride=(1, 1), bias=False)\n",
    "  │     │     │         ├── bn1         \"model.backbone.body.layer2.3.bn1\",           // def: FrozenBatchNorm2d() : bn -> scale -> relu\n",
    "  │     │     │         ├── conv2       \"model.backbone.body.layer2.3.conv2\",         // def: Conv2d(in_channels=128, out_channels=128, kernel_size=(3, 3), stride=(1, 1), padding=(1, 1), bias=False)\n",
    "  │     │     │         ├── bn2         \"model.backbone.body.layer2.3.bn2\",           // def: FrozenBatchNorm2d() : bn -> scale -> relu\n",
    "  │     │     │         ├── conv3       \"model.backbone.body.layer2.3.conv3\",         // def: Conv2d(in_channels=128, out_channels=512, kernel_size=(1, 1), stride=(1, 1), bias=False)\n",
    "  │     │     │         └── bn3         \"model.backbone.body.layer2.3.bn3\",           // def: FrozenBatchNorm2d() : bn -> scale -> relu \"==> C2, Input to FPN\"\n",
    "  │     │     │\n",
    "  │     │     ├── layer3 \"model.backbone.body.layer3\"\n",
    "  │     │     │    │\n",
    "  │     │     │    ├─── 0 \"model.backbone.body.layer3.0\"\n",
    "  │     │     │    │    ├── downsample \"model.backbone.body.layer3.0.downsamples\"\n",
    "  │     │     │    │    │    │\n",
    "  │     │     │    │    │    ├── 0      \"model.backbone.body.layer3.0.downsamples.0\", // def: Conv2d(in_channels=512, out_channels=1024, kernel_size=(1, 1), stride=(2, 2), bias=False)\n",
    "  │     │     │    │    │    └── 1      \"model.backbone.body.layer3.0.downsamples.0\", // def: FrozenBatchNorm2d() : bn -> scale -> relu\n",
    "  │     │     │    │    ├── conv1       \"model.backbone.body.layer3.0.conv1\",         // def: Conv2d(in_channels=512, out_channels=256, kernel_size=(1, 1), stride=(2, 2), bias=False)\n",
    "  │     │     │    │    ├── bn1         \"model.backbone.body.layer3.0.bn1\",           // def: # FrozenBatchNorm2d() : bn -> scale -> relu\n",
    "  │     │     │    │    ├── conv2       \"model.backbone.body.layer3.0.conv2\",         // def: Conv2d(in_channels=256, out_channels=256, kernel_size=(3, 3), stride=(1, 1), padding=(1, 1), bias=False)\n",
    "  │     │     │    │    ├── bn2         \"model.backbone.body.layer3.0.bn2\",           // def: FrozenBatchNorm2d() : bn -> scale -> relu\n",
    "  │     │     │    │    ├── conv3       \"model.backbone.body.layer3.0.conv3\",         // def: Conv2d(in_channels=256, out_channels=1024, kernel_size=(1, 1), stride=(1, 1), bias=False)\n",
    "  │     │     │    │    └── bn3         \"model.backbone.body.layer3.0.bn3\",           // def: FrozenBatchNorm2d() : bn -> scale -> relu\n",
    "  │     │     │    │\n",
    "  │     │     │    ├─── 1 \"model.backbone.body.layer3.1\"\n",
    "  │     │     │    │    ├── conv1       \"model.backbone.body.layer3.1.conv1\",         // def: Conv2d(in_channels=1024, out_channels=256, kernel_size=(1, 1), stride=(1, 1), bias=False)\n",
    "  │     │     │    │    ├── bn1         \"model.backbone.body.layer3.1.bn1\",           // def: FrozenBatchNorm2d() : bn -> scale -> relu\n",
    "  │     │     │    │    ├── conv2       \"model.backbone.body.layer3.1.conv2\",         // def: Conv2d(in_channels=256,  out_channels=256, kernel_size=(3, 3), stride=(1, 1), padding=(1, 1), bias=False)\n",
    "  │     │     │    │    ├── bn2         \"model.backbone.body.layer3.1.bn2\",           // def: FrozenBatchNorm2d() : bn -> scale -> relu\n",
    "  │     │     │    │    ├── conv3       \"model.backbone.body.layer3.1.conv3\",         // def: Conv2d(in_channels=256,  out_channels=1024, kernel_size=(1, 1), stride=(1, 1), bias=False)\n",
    "  │     │     │    │    └── bn3         \"model.backbone.body.layer3.1.bn3\",           // def: FrozenBatchNorm2d() : bn -> scale -> relu\n",
    "  │     │     │    │\n",
    "  │     │     │    ├─── 2 \"model.backbone.body.layer3.2\"\n",
    "  │     │     │    │    ├── conv1       \"model.backbone.body.layer3.2.conv1\",         // def: Conv2d(in_channels=1024, out_channels=256, kernel_size=(1, 1), stride=(1, 1), bias=False)\n",
    "  │     │     │    │    ├── bn1         \"model.backbone.body.layer3.2.bn1\",           // def: FrozenBatchNorm2d() : bn -> scale -> relu\n",
    "  │     │     │    │    ├── conv2       \"model.backbone.body.layer3.2.conv2\",         // def: Conv2d(in_channels=256,  out_channels=256, kernel_size=(3, 3), stride=(1, 1), padding=(1, 1), bias=False)\n",
    "  │     │     │    │    ├── bn2         \"model.backbone.body.layer3.2.bn2\",           // def: FrozenBatchNorm2d() : bn -> scale -> relu\n",
    "  │     │     │    │    ├── conv3       \"model.backbone.body.layer3.2.conv3\",         // def: Conv2d(in_channels=256,  out_channels=1024, kernel_size=(1, 1), stride=(1, 1), bias=False)\n",
    "  │     │     │    │    └── bn3         \"model.backbone.body.layer3.2.bn3\",           // def: FrozenBatchNorm2d() : bn -> scale -> relu\n",
    "  │     │     │    │\n",
    "  │     │     │    ├─── 3 \"model.backbone.body.layer3.3\"\n",
    "  │     │     │    │    ├── conv1       \"model.backbone.body.layer3.3.conv1\",         // def: Conv2d(in_channels=1024, out_channels=256, kernel_size=(1, 1), stride=(1, 1), bias=False)\n",
    "  │     │     │    │    ├── bn1         \"model.backbone.body.layer3.3.bn1\",           // def: FrozenBatchNorm2d() : bn -> scale -> relu\n",
    "  │     │     │    │    ├── conv2       \"model.backbone.body.layer3.3.conv2\",         // def: Conv2d(in_channels=256,  out_channels=256, kernel_size=(3, 3), stride=(1, 1), padding=(1, 1), bias=False)\n",
    "  │     │     │    │    ├── bn2         \"model.backbone.body.layer3.3.bn2\",           // def: FrozenBatchNorm2d() : bn -> scale -> relu\n",
    "  │     │     │    │    ├── conv3       \"model.backbone.body.layer3.3.conv3\",         // def: Conv2d(in_channels=256,  out_channels=1024, kernel_size=(1, 1), stride=(1, 1), bias=False)\n",
    "  │     │     │    │    └── bn3         \"model.backbone.body.layer3.3.bn3\",           // def: FrozenBatchNorm2d() : bn -> scale -> relu\n",
    "  │     │     │    │\n",
    "  │     │     │    ├─── 4 \"model.backbone.body.layer3.4\"\n",
    "  │     │     │    │    ├── conv1       \"model.backbone.body.layer3.4.conv1\",         // def: Conv2d(in_channels=1024, out_channels=256, kernel_size=(1, 1), stride=(1, 1), bias=False)\n",
    "  │     │     │    │    ├── bn1         \"model.backbone.body.layer3.4.bn1\",           // def: FrozenBatchNorm2d() : bn -> scale -> relu\n",
    "  │     │     │    │    ├── conv2       \"model.backbone.body.layer3.4.conv2\",         // def: Conv2d(in_channels=256,  out_channels=256, kernel_size=(3, 3), stride=(1, 1), padding=(1, 1), bias=False)\n",
    "  │     │     │    │    ├── bn2         \"model.backbone.body.layer3.4.bn2\",           // def: FrozenBatchNorm2d() : bn -> scale -> relu\n",
    "  │     │     │    │    ├── conv3       \"model.backbone.body.layer3.4.conv3\",         // def: Conv2d(in_channels=256,  out_channels=1024, kernel_size=(1, 1), stride=(1, 1), bias=False)\n",
    "  │     │     │    │    └── bn3         \"model.backbone.body.layer3.4.bn3\",           // def: FrozenBatchNorm2d() : bn -> scale -> relu\n",
    "  │     │     │    │\n",
    "  │     │     │    └─── 5 \"model.backbone.body.layer3.5\"\n",
    "  │     │     │         ├── conv1       \"model.backbone.body.layer3.5.conv1\",         // def: Conv2d(in_channels=1024, out_channels=256, kernel_size=(1, 1), stride=(1, 1), bias=False)\n",
    "  │     │     │         ├── bn1         \"model.backbone.body.layer3.5.bn1\",           // def: FrozenBatchNorm2d() : bn -> scale -> relu\n",
    "  │     │     │         ├── conv2       \"model.backbone.body.layer3.5.conv2\",         // def: Conv2d(in_channels=256,  out_channels=256, kernel_size=(3, 3), stride=(1, 1), padding=(1, 1), bias=False)\n",
    "  │     │     │         ├── bn2         \"model.backbone.body.layer3.5.bn2\",           // def: FrozenBatchNorm2d() : bn -> scale -> relu\n",
    "  │     │     │         ├── conv3       \"model.backbone.body.layer3.5.conv3\",         // def: Conv2d(in_channels=256,  out_channels=1024, kernel_size=(1, 1), stride=(1, 1), bias=False)\n",
    "  │     │     │         └── bn3         \"model.backbone.body.layer3.5.bn3\",           // def: FrozenBatchNorm2d() : bn -> scale -> relu \"==> C3 : Input to FPN\"\n",
    "  │     │     │\n",
    "  │     │     └── layer4 \"model.backbone.body.layer4\"\n",
    "  │     │          │\n",
    "  │     │          ├─── 0 \"model.backbone.body.layer4.0\"\n",
    "  │     │          │    ├── downsample  \"model.backbone.body.layer4.0.downsample\"\n",
    "  │     │          │    │   │\n",
    "  │     │          │    │   ├── 0       \"model.backbone.body.layer4.0.downsample.0\",  // def: Conv2d(in_channels=1024, out_channels=2048, kernel_size=(1, 1), stride=(2, 2), bias=False)\n",
    "  │     │          │    │   └── 1       \"model.backbone.body.layer4.0.downsample.1\",  // def: FrozenBatchNorm2d() : bn -> scale -> relu\n",
    "  │     │          │    ├── conv1       \"model.backbone.body.layer4.0.conv1\",         // def: Conv2d(in_channels=1024, out_channels=512, kernel_size=(1, 1), stride=(2, 2), bias=False)\n",
    "  │     │          │    ├── bn1         \"model.backbone.body.layer4.0.bn1\",           // def: FrozenBatchNorm2d() : bn -> scale -> relu\n",
    "  │     │          │    ├── conv2       \"model.backbone.body.layer4.0.conv2\",         // def: Conv2d(in_channels=512,  out_channels=512, kernel_size=(3, 3), stride=(1, 1), padding=(1, 1), bias=False)\n",
    "  │     │          │    ├── bn2         \"model.backbone.body.layer4.0.bn2\",           // def: FrozenBatchNorm2d() : bn -> scale -> relu\n",
    "  │     │          │    ├── conv3       \"model.backbone.body.layer4.0.conv3\",         // def: Conv2d(in_channels=512,  out_channels=2048, kernel_size=(1, 1), stride=(1, 1), bias=False)\n",
    "  │     │          │    └── bn3         \"model.backbone.body.layer4.0.bn3\",           // def: FrozenBatchNorm2d() : bn -> scale -> relu\n",
    "  │     │          │\n",
    "  │     │          ├─── 1 \"model.backbone.body.layer4.1\"\n",
    "  │     │          │    ├── conv1       \"model.backbone.body.layer4.1.conv1\",         // def: Conv2d(in_channels=2048, out_channels=512, kernel_size=(1, 1), stride=(1, 1), bias=False)\n",
    "  │     │          │    ├── bn1         \"model.backbone.body.layer4.1.bn1\",           // def: FrozenBatchNorm2d() : bn -> scale -> relu\n",
    "  │     │          │    ├── conv2       \"model.backbone.body.layer4.1.conv2\",         // def: Conv2d(in_channels=512,  out_channels=512, kernel_size=(3, 3), stride=(1, 1), padding=(1, 1), bias=False)\n",
    "  │     │          │    ├── bn2         \"model.backbone.body.layer4.1.bn2\",           // def: FrozenBatchNorm2d() : bn -> scale -> relu\n",
    "  │     │          │    ├── conv3       \"model.backbone.body.layer4.1.conv3\",         // def: Conv2d(in_channels=512,  out_channels=2048, kernel_size=(1, 1), stride=(1, 1), bias=False)\n",
    "  │     │          │    └── bn3         \"model.backbone.body.layer4.1.bn3\",           // def: FrozenBatchNorm2d() : bn -> scale -> relu\n",
    "  │     │          │\n",
    "  │     │          └─── 2 \"model.backbone.body.layer4.2\"\n",
    "  │     │               ├── conv1       \"model.backbone.body.layer4.2.conv1\",         // def: Conv2d(in_channels=2048, out_channels=512, kernel_size=(1, 1), stride=(1, 1), bias=False)\n",
    "  │     │               ├── bn1         \"model.backbone.body.layer4.2.bn1\",           // def: FrozenBatchNorm2d() : bn -> scale -> relu\n",
    "  │     │               ├── conv2       \"model.backbone.body.layer4.2.conv2\",         // def: Conv2d(in_channels=512,  out_channels=512, kernel_size=(3, 3), stride=(1, 1), padding=(1, 1), bias=False)\n",
    "  │     │               ├── bn2         \"model.backbone.body.layer4.2.bn2\",           // def: FrozenBatchNorm2d() : bn -> scale -> relu\n",
    "  │     │               ├── conv3       \"model.backbone.body.layer4.2.conv3\",         // def: Conv2d(in_channels=512,  out_channels=2048, kernel_size=(1, 1), stride=(1, 1), bias=False)\n",
    "  │     │               └── bn3         \"model.backbone.body.layer4.2.bn3\",           // def: FrozenBatchNorm2d() : bn -> scale -> relu \"==> C4 : Input to FPN\"\n",
    "  │     │\n",
    "  │     └─── fpn \"model.backbone.fpn\"\n",
    "  │           ├── fpn_inner2            \"model.backbone.fpn.fpn_inner2\",              // def: Conv2d(in_channels=512,  out_channels=1024, kernel_size=(1, 1), stride=(1, 1))\n",
    "  │           ├── fpn_layer2            \"model.backbone.fpn.fpn_layer2\",              // def: Conv2d(in_channels=1024, out_channels=1024, kernel_size=(3, 3), stride=(1, 1), padding=(1, 1))\n",
    "  │           │\n",
    "  │           ├── fpn_inner3            \"model.backbone.fpn.fpn_inner3\",              // def: Conv2d(in_channels=1024, out_channels=1024, kernel_size=(1, 1), stride=(1, 1))\n",
    "  │           ├── fpn_layer3            \"model.backbone.fpn.fpn_layer3\",              // def: Conv2d(in_channels=1024, out_channels=1024, kernel_size=(3, 3), stride=(1, 1), padding=(1, 1))\n",
    "  │           │\n",
    "  │           ├── fpn_inner4            \"model.backbone.fpn.fpn_inner4\",              // def: Conv2d(in_channels=2048, out_channels=1024, kernel_size=(1, 1), stride=(1, 1))\n",
    "  │           ├── fpn_layer4            \"model.backbone.fpn.fpn_layer4\",              // def: Conv2d(in_channels=1024, out_channels=1024, kernel_size=(3, 3), stride=(1, 1), padding=(1, 1))\n",
    "  │           │\n",
    "  │           └── top_blocks \"model.backbone.fpn.topblocks\"\n",
    "  │                 │\n",
    "  │                 ├─── p6             \"model.backbone.fpn.topblocks.p6\",            // def: Conv2d(in_channels=2048, out_channels=1024, kernel_size=(3, 3), stride=(2, 2), padding=(1, 1))\n",
    "  │                 └─── p7             \"model.backbone.fpn.topblocks.p7\",            // def: Conv2d(in_channels=1024, out_channels=1024, kernel_size=(3, 3), stride=(2, 2), padding=(1, 1))\n",
    "  │\n",
    "  └─── rpn          \"model.rpn\"\n",
    "        │\n",
    "        ├─── anchor_generator \"model.rpn.anchor_generator\"\n",
    "        │           │\n",
    "        │           └─── cell_anchors   \"model.rpn.anchor_generator.cell_achors\",     // def: BufferList()\n",
    "        │\n",
    "        ├─── head  \"model.rpn.head\"\n",
    "        │           │\n",
    "        │           ├─── cls_tower      \"model.rpn.head.cls_tower\",\n",
    "        │           │     ├─── 0        \"model.rpn.head.cls_tower.0\",                 // def: Conv2d(in_channels=1024, out_channels=1024, kernel_size=(3, 3), stride=(1, 1), padding=(1, 1))\n",
    "        │           │     ├─── 1        \"model.rpn.head.cls_tower.1\",                 // def: ReLU()\n",
    "        │           │     ├─── 2        \"model.rpn.head.cls_tower.2\",                 // def: Conv2d(in_channels=1024, out_channels=1024, kernel_size=(3, 3), stride=(1, 1), padding=(1, 1))\n",
    "        │           │     ├─── 3        \"model.rpn.head.cls_tower.3\",                 // def: ReLU()\n",
    "        │           │     ├─── 4        \"model.rpn.head.cls_tower.4\",                 // def: Conv2d(in_channels=1024, out_channels=1024, kernel_size=(3, 3), stride=(1, 1), padding=(1, 1)) ReLU()\n",
    "        │           │     ├─── 5        \"model.rpn.head.cls_tower.5\",                 // def: ReLU()\n",
    "        │           │     ├─── 6        \"model.rpn.head.cls_tower.6\",                 // def: Conv2d(in_channels=1024, out_channels=1024, kernel_size=(3, 3), stride=(1, 1), padding=(1, 1))\n",
    "        │           │     └─── 7        \"model.rpn.head.cls_tower.7\",                 // def: ReLU()\n",
    "        │           │\n",
    "        │           ├─── bbox_tower     \"model.rpn.head.bbox_tower\"\n",
    "        │           │     ├─── 0        \"model.rpn.head.bbox_tower.0\",                // def: Conv2d(in_channels=1024, out_channels=1024, kernel_size=(3, 3), stride=(1, 1), padding=(1, 1))\n",
    "        │           │     ├─── 1        \"model.rpn.head.bbox_tower.1\",                // def: ReLU()\n",
    "        │           │     ├─── 2        \"model.rpn.head.bbox_tower.2\",                // def: Conv2d(in_channels=1024, out_channels=1024, kernel_size=(3, 3), stride=(1, 1), padding=(1, 1))\n",
    "        │           │     ├─── 3        \"model.rpn.head.bbox_tower.3\",                // def: ReLU()\n",
    "        │           │     ├─── 4        \"model.rpn.head.bbox_tower.4\",                // def: Conv2d(in_channels=1024, out_channels=1024, kernel_size=(3, 3), stride=(1, 1), padding=(1, 1)) ReLU()\n",
    "        │           │     ├─── 5        \"model.rpn.head.bbox_tower.5\",                // def: ReLU()\n",
    "        │           │     ├─── 6        \"model.rpn.head.bbox_tower.6\",                // def: Conv2d(in_channels=1024, out_channels=1024, kernel_size=(3, 3), stride=(1, 1), padding=(1, 1))\n",
    "        │           │     └─── 7        \"model.rpn.head.bbox_tower.7\",                // def: ReLU()\n",
    "        │           │\n",
    "        │           ├─── cls_logits     \"model.rpn.head.cls_logits\",                  // def: Conv2d(in_channels=1024, out_channels=9, kernel_size=(3, 3), stride=(1, 1), padding=(1, 1))\n",
    "        │           │\n",
    "        │           └─── bbox_pred      \"model.rpn.head.bbox_pre\",                    // def: Conv2d(in_channels=1024, out_channels=36, kernel_size=(3, 3), stride=(1, 1), padding=(1, 1))\n",
    "        │\n",
    "        └─── box_selector_test \"model.rpn.box_selector_test\",                         // def: RetinaNetPostProcessor()\n",
    "\n",
    "```"
   ]
  },
  {
   "cell_type": "markdown",
   "id": "f0c4d7cc",
   "metadata": {},
   "source": [
    "----\n",
    "\n",
    "## Backbone Resnet 50 Build\n",
    "Original Code Source\n",
    "* [https://gist.github.com/kyamagu/80c343a14ae4564ef79b53f0b01cd57e](https://gist.github.com/kyamagu/80c343a14ae4564ef79b53f0b01cd57e)\n",
    "* [https://gist.github.com/rezoo/a1c8d1459b222fc5658f](https://gist.github.com/rezoo/a1c8d1459b222fc5658f)"
   ]
  },
  {
   "cell_type": "markdown",
   "id": "51d1c25a",
   "metadata": {},
   "source": [
    "----\n",
    "\n",
    "### Common Conv-BN-Relu Block\n",
    "\n",
    "mask rcnn에서 사용하는 FrozenBatchNorm2d 방식으로 구현할 것.\n",
    "* [Why FrozenBatchNorm2d in ResNet?](http://echo.etri.re.kr:8090/pages/viewpage.action?pageId=78088692)\n",
    "* https://github.com/facebookresearch/maskrcnn-benchmark/issues/267\n",
    "* [Batch Normalization 설명 및 구현](http://echo.etri.re.kr:8090/pages/viewpage.action?pageId=78088844)\n",
    "\n",
    "**Caffe BatchNorm vs Torch BatchNorm2d**\n",
    "\n",
    "* [During test phase, the output of Batch Normalization layer is not equal to (input-mean)/sqrt(var + eps)?](https://github.com/BVLC/caffe/issues/4885)\n",
    "> `net.params['bn_1'][0].data` : mean  \n",
    "> `net.params['bn_1'][1].data` : variance   \n",
    "> `net.params['bn_1'][2].data` : scores a scale factor, which I should divide from each mean and variance at this layer.    \n",
    "\n",
    "So in Caffe, the output of BN layer calculated by: \n",
    "\n",
    "$\n",
    "\\begin{aligned}\n",
    "\\frac{\\frac{ \\text{input} - \\text{mean} }{ \\text{scale_factor} }}{\\sqrt { \\frac{ \\text{var }}{ \\text{scale_factor } } + \\epsilon}}\n",
    "\\end{aligned}\n",
    "$\n",
    "\n",
    "batchnorm 없이 scale 레이어로만해도  될듯...\n",
    "\n",
    "**Batch Norm Layer:**  \n",
    "* $\\gamma$ --> Var (1)   \n",
    "* $\\beta$  --> mean (0)   \n",
    "* $mean$  --> moving average fraction (=1)   \n",
    "\n",
    "**Scale Layer:**\n",
    "* scale --> 논문에서의 $\\gamma$   \n",
    "* bias  --> 논문에서의 $\\beta$   \n",
    "\n",
    "----\n",
    "\n",
    "```python\n",
    "# Copyright (c) Facebook, Inc. and its affiliates. All Rights Reserved.\n",
    "import torch\n",
    "from torch import nn\n",
    " \n",
    " \n",
    "class FrozenBatchNorm2d(nn.Module):\n",
    "    \"\"\"\n",
    "    BatchNorm2d where the batch statistics and the affine parameters\n",
    "    are fixed\n",
    "    \"\"\"\n",
    " \n",
    "    def __init__(self, n):\n",
    "        super(FrozenBatchNorm2d, self).__init__()\n",
    "        self.register_buffer(\"weight\", torch.ones(n))\n",
    "        self.register_buffer(\"bias\", torch.zeros(n))\n",
    "        self.register_buffer(\"running_mean\", torch.zeros(n))\n",
    "        self.register_buffer(\"running_var\", torch.ones(n))\n",
    " \n",
    "    def forward(self, x):\n",
    "        # Cast all fixed parameters to half() if necessary\n",
    "        if x.dtype == torch.float16:\n",
    "            self.weight = self.weight.half()\n",
    "            self.bias = self.bias.half()\n",
    "            self.running_mean = self.running_mean.half()\n",
    "            self.running_var = self.running_var.half()\n",
    " \n",
    "        scale = self.weight * self.running_var.rsqrt()\n",
    "        bias = self.bias - self.running_mean * scale\n",
    "        scale = scale.reshape(1, -1, 1, 1)\n",
    "        bias = bias.reshape(1, -1, 1, 1)\n",
    "        return x * scale + bias\n",
    "```\n",
    "----"
   ]
  },
  {
   "cell_type": "markdown",
   "id": "ba567c87",
   "metadata": {},
   "source": [
    "\n",
    "#### conv_bn_scale()\n",
    "\n",
    "Resnet Stage의 sublayer를 구성하는 다음과 같은 building block을 생성한다.\n",
    "* [Conv2d()](https://pytorch.org/docs/stable/generated/torch.nn.Conv2d.html) +  [FrozenBatchNorm2d()](https://github.com/facebookresearch/maskrcnn-benchmark/blob/57eec25b75144d9fb1a6857f32553e1574177daf/maskrcnn_benchmark/layers/batch_norm.py#L6) + [ReLu()](https://pytorch.org/docs/stable/generated/torch.nn.ReLU.html#torch.nn.ReLU)"
   ]
  },
  {
   "cell_type": "code",
   "execution_count": null,
   "id": "f9487003",
   "metadata": {},
   "outputs": [],
   "source": [
    "def conv_bn_scale(bottom, nout, bias_term=False, **kwargs):\n",
    "    '''\n",
    "    build a Conv -> BN -> Scale block\n",
    "    \n",
    "        param: bottom : input to this conv/bn/scale block\n",
    "        type:  bottom : \n",
    "        param: nout   : num of oputs in Convolution Layer\n",
    "        type:  uint \n",
    "        param: bias_term : bias term used in Scale Layer\n",
    "        type: bool : default False\n",
    "        return: top of conv, bn, scale\n",
    "        rtype: \n",
    "        \n",
    "    '''\n",
    "    conv = L.Convolution(bottom, num_output=nout, bias_term=bias_term, **kwargs)\n",
    "    \n",
    "    # https://github.com/facebookresearch/maskrcnn-benchmark/blob/master/maskrcnn_benchmark/layers/batch_norm.py\n",
    "    bn = L.BatchNorm(conv, use_global_stats=True, in_place=True)\n",
    "    scale = L.Scale(bn, bias_term=True, in_place=True)\n",
    "    return conv, bn, scale"
   ]
  },
  {
   "cell_type": "markdown",
   "id": "f62e54d3",
   "metadata": {},
   "source": [
    "----\n",
    "\n",
    "### Resnet Stage Buid\n",
    "\n",
    "```conv_bn_scale()``` 함수를 사용하여 다음과 같이 Resnet의 Stage를 구성하는 sublayer들을 생성하는 ```resnet_stage_sublayer()```를 정의한다.\n",
    "\n",
    "\n",
    "**Overview diagram**\n",
    "\n",
    "```js\n",
    "             +------> [ *_downsample_0 -- *_downsample_1 --- *_downsample_scale ] -----------+\n",
    "             |                                                                               |\n",
    "    bottom --+---------> [ *_conv1 --- *_bn1 --- *_scale1 --- *_relu1 ] ----+                |\n",
    "             |                                                              |                | \n",
    "             |     +--------------------------------------------------------+                |\n",
    "             |     |                                                                         |\n",
    "             |     +---> [ *_conv2 --- *_bn2 --- *_scale2 --- *_relu2 ] ----+                |\n",
    "             |                                                              |                | if downsample == True\n",
    "             |     +--------------------------------------------------------+                | \n",
    "             |     |                                                                         V\n",
    "             |     +---> [ *_conv3 --- *_bn3 --- *_scale3 -------------------------> [ *_res: Eltwise ] ----> *__res_relu :ReLu\n",
    "             |                                                                                ^\n",
    "             |                                                                                | \n",
    "             |                                                                                | if downsample == False\n",
    "             +--------------------------------------------------------------------------------+\n",
    "```"
   ]
  },
  {
   "cell_type": "markdown",
   "id": "cba33201",
   "metadata": {},
   "source": [
    "#### resnet_stage_sublayer()\n",
    "\n",
    "Resnet caffe codefrom\n",
    "* [https://gist.github.com/kyamagu/80c343a14ae4564ef79b53f0b01cd57e](https://gist.github.com/kyamagu/80c343a14ae4564ef79b53f0b01cd57e)\n",
    "* [https://gist.github.com/rezoo/a1c8d1459b222fc5658f](https://gist.github.com/rezoo/a1c8d1459b222fc5658f)\n"
   ]
  },
  {
   "cell_type": "raw",
   "id": "a76f4ee6",
   "metadata": {
    "jupyter": {
     "source_hidden": true
    }
   },
   "source": [
    "def residual_block(name, n, bottom, nout, branch1=False, initial_stride=2):\n",
    "    '''\n",
    "    function for building Basic Resnet Block\n",
    "    \n",
    "        param: name : residual block name\n",
    "        type:  string\n",
    "        param: n: NetSpec object\n",
    "        type: caffe.NetSpec\n",
    "        param: bottom : input to this residual block\n",
    "        type: \n",
    "        param: nout : num. of out ch.\n",
    "        type:\n",
    "        param: branch1 : whether or not to include of subsample at beginning of this residula block? \n",
    "               if BottleNeck architecutre used, set True (default: False)\n",
    "        type: bool\n",
    "        param: initial_stride: stride used in branch2a and branc2b. note that branch3b stride is always 1.\n",
    "        type: uint\n",
    "    '''\n",
    "       \n",
    "    # branch1\n",
    "    if branch1:\n",
    "        res_b1 = 'res{}_branch1'.format(name)\n",
    "        bn_b1 = 'bn{}_branch1'.format(name)\n",
    "        scale_b1 = 'scale{}_branch1'.format(name)\n",
    "        n[res_b1], n[bn_b1], n[scale_b1] = _conv_bn_scale(\n",
    "            bottom, 4 * nout, kernel_size=1, stride=initial_stride, pad=0)\n",
    "    else:\n",
    "        initial_stride = 1\n",
    "\n",
    "    # branch2a\n",
    "    res = 'res{}_branch2a'.format(name)\n",
    "    bn = 'bn{}_branch2a'.format(name)\n",
    "    scale = 'scale{}_branch2a'.format(name)\n",
    "    n[res], n[bn], n[scale] = _conv_bn_scale(\n",
    "        bottom, nout, kernel_size=1, stride=initial_stride, pad=0)\n",
    "    relu2a = 'res{}_branch2a_relu'.format(name)\n",
    "    n[relu2a] = L.ReLU(n[scale], in_place=True)\n",
    "    \n",
    "    # branch2b\n",
    "    res = 'res{}_branch2b'.format(name)\n",
    "    bn = 'bn{}_branch2b'.format(name)\n",
    "    scale = 'scale{}_branch2b'.format(name)\n",
    "    n[res], n[bn], n[scale] = _conv_bn_scale(\n",
    "        n[relu2a], nout, kernel_size=3, stride=1, pad=1)\n",
    "    relu2b = 'res{}_branch2b_relu'.format(name)\n",
    "    n[relu2b] = L.ReLU(n[scale], in_place=True)\n",
    "    \n",
    "    # branch2c\n",
    "    res = 'res{}_branch2c'.format(name)\n",
    "    bn = 'bn{}_branch2c'.format(name)\n",
    "    scale = 'scale{}_branch2c'.format(name)\n",
    "    n[res], n[bn], n[scale] = _conv_bn_scale(\n",
    "        n[relu2b], 4 * nout, kernel_size=1, stride=1, pad=0)\n",
    "    \n",
    "    # res{}\n",
    "    res = 'res{}'.format(name)\n",
    "    if branch1:\n",
    "        n[res] = L.Eltwise(n[scale_b1], n[scale])\n",
    "    else:\n",
    "        n[res] = L.Eltwise(bottom, n[scale])\n",
    "    relu = 'res{}_relu'.format(name)\n",
    "    n[relu] = L.ReLU(n[res], in_place=True)\n",
    "\n"
   ]
  },
  {
   "cell_type": "raw",
   "id": "728caa84",
   "metadata": {
    "jupyter": {
     "source_hidden": true
    }
   },
   "source": [
    "def resnet_block(stage_name, sublayer_num, n, bottom, nout, downsample_branch=False, initial_stride=2):\n",
    "    '''function for building Basic Resnet Block\n",
    "    \n",
    "    Prameters:\n",
    "       layer_num  : layer number as ? in \"backbone_body_layer?\"\n",
    "       sub_num    : sublayer number as # in \"backbone_body_layer?_#\"\n",
    "       n          : NetSpec object\n",
    "       bottom     : input to this residual block\n",
    "       nout       : num. of out ch.\n",
    "       downsample :  inclusion of subsample at beginning of this residula block? \n",
    "                     if BottleNeck architecutre used, set True (default: False)\\\n",
    "                  \n",
    "       initial_stride: stride used in branch2a and branc2b. note that branch3b stride is always 1.\n",
    "       \n",
    "       \n",
    "    Overview diagram:\n",
    "    \n",
    "             +------> [ *_downsample_0 -- *_downsample_1 --- *_downsample_scale ] -----------+\n",
    "             |                                                                               |\n",
    "    bottom --+---------> [ *_conv1 --- *_bn1 --- *_scale1 --- *_relu1 ] ----+                |\n",
    "             |                                                              |                | \n",
    "             |     +--------------------------------------------------------+                |\n",
    "             |     |                                                                         |\n",
    "             |     +---> [ *_conv2 --- *_bn2 --- *_scale2 --- *_relu2 ] ----+                |\n",
    "             |                                                              |                | if downsample == True\n",
    "             |     +--------------------------------------------------------+                | \n",
    "             |     |                                                                         V\n",
    "             |     +---> [ *_conv3 --- *_bn3 --- *_scale3 -------------------------> [ *_res: Eltwise ] ----> *__res_relu :ReLu\n",
    "             |                                                                                ^\n",
    "             |                                                                                | \n",
    "             |                                                                                | if downsample == False\n",
    "             +--------------------------------------------------------------------------------+\n",
    "    '''\n",
    "    \n",
    "    \n",
    "    prefix =f'backbone_body_layer{stage_name}_{sublayer_num}'\n",
    "    \n",
    "    #-----------------------------------------------------------------\n",
    "    # input downsampling layer at the begining of every layer[0-4]\n",
    "    #------------------------------------------------------------------\n",
    "    # In pytorch model,\n",
    "    # backbone.body.laye{layer_num}.{sublayer_num}.downsample_0\n",
    "    # backbone.body.layer{layer_num}.{sublayer_num}.downsample_1\n",
    "    #------------------------------------------------------------------\n",
    "    if downsample_branch:\n",
    "        # downsample at first layer in resnet block\n",
    "        downsample_0 = f'{prefix}_downsample_0'\n",
    "        downsample_1 =  f'{prefix}_downsample_1'\n",
    "        downsample_scale = f'{prefix}_downsample_scale'\n",
    "        n[downsample_0], n[downsample_1], n[downsample_scale] = _conv_bn_scale(\n",
    "            bottom, 4 * nout, kernel_size=1, stride=initial_stride, pad=0)\n",
    "    else:\n",
    "        initial_stride = 1\n",
    "\n",
    "    #------------------------------------------------------------------\n",
    "    # In pytorch model,\n",
    "    # backbone.body.layer{layer_num}.{sublayer_num}.conv1 \n",
    "    # backbone.body.layer{layer_num}.{sublayer_num}.bn1\n",
    "    # backbone.body.layer{layer_num}.{sublayer_num}.scale1\n",
    "    # backbone.body.layer{layer_num}.{sublayer_num}.relu1\n",
    "    #------------------------------------------------------------------\n",
    "    conv1 = f'{prefix}_conv1'\n",
    "    bn1 = f'{prefix}_bn1'\n",
    "    scale1 = f'{prefix}_scale1'\n",
    "    \n",
    "    n[conv1], n[bn1], n[scale1] = _conv_bn_scale(\n",
    "        bottom, nout, kernel_size=1, stride=initial_stride, pad=0)\n",
    "    \n",
    "    relu1 = f'{prefix}_relu1'\n",
    "    n[relu1] = L.ReLU(n[scale1], in_place=True)\n",
    "    \n",
    "    #------------------------------------------------------------------\n",
    "    # In pytorch model,\n",
    "    # backbone.body.layer{layer_num}.{sublayer_num}.conv2 \n",
    "    # backbone.body.layer{layer_num}.{sublayer_num}.bn2\n",
    "    # backbone.body.layer{layer_num}.{sublayer_num}.scale2\n",
    "    # backbone.body.layer{layer_num}.{sublayer_num}.relu2\n",
    "    #------------------------------------------------------------------\n",
    "    conv2 = f'{prefix}_conv2'\n",
    "    bn2 = f'{prefix}_bn2'\n",
    "    scale2 = f'{prefix}_scale2'\n",
    "    \n",
    "    n[conv2], n[bn2], n[scale2] = _conv_bn_scale(\n",
    "        n[relu1], nout, kernel_size=3, stride=1, pad=1)\n",
    "    \n",
    "    relu2 = f'{prefix}_relu2'\n",
    "    n[relu2] = L.ReLU(n[scale2], in_place=True)\n",
    "        \n",
    "    #------------------------------------------------------------------\n",
    "    # In pytorch model,\n",
    "    # backbone.body.layer{layer_num}.{sublayer_num}.conv3 \n",
    "    # backbone.body.layer{layer_num}.{sublayer_num}.bn3\n",
    "    # backbone.body.layer{layer_num}.{sublayer_num}.scale3\n",
    "    #------------------------------------------------------------------\n",
    "    con3 = f'{prefix}_conv3'\n",
    "    bn3 = f'{prefix}_bn3'\n",
    "    scale3 = f'{prefix}_scale3'\n",
    "    \n",
    "    n[conv3], n[bn3], n[scale3] = _conv_bn_scale(\n",
    "        n[relu22], 4 * nout, kernel_size=1, stride=1, pad=0)\n",
    "    \n",
    "    #---------------------------------------\n",
    "    # skip connection processing\n",
    "    #---------------------------------------\n",
    "    eltwise = f'{prefix}_eltwise'\n",
    "    \n",
    "    if downsample_branch:\n",
    "        n[eltwise] = L.Eltwise(n[downsample_scale], n[scale3])\n",
    "    else:\n",
    "        n[eltwise] = L.Eltwise(bottom, n[scale3])\n",
    "    \n",
    "    #---------------------------------------\n",
    "    # last relu \n",
    "    # backbone.body.layer{layer_num}.{sublayer_num}.relu\n",
    "    #---------------------------------------\n",
    "    relu = f'{prefix}_relu'.format(name)\n",
    "    n[relu] = L.ReLU(n[res], in_place=True)"
   ]
  },
  {
   "cell_type": "code",
   "execution_count": null,
   "id": "2acce838",
   "metadata": {},
   "outputs": [],
   "source": [
    "def resnet_stage_sublayer(layer_name, sublayer_num, n, bottom, nout, downsample_branch=False, initial_stride=2):\n",
    "    '''function for building Basic Resnet Stage\n",
    "       stage 0 (stem), stage 1, stage 2, stage 3 and stage 4\n",
    "\n",
    "    Prameters:\n",
    "       layer_num  : layer number as ? in \"backbone_body_layer?\"\n",
    "       sub_num    : sublayer number as # in \"backbone_body_layer?_#\"\n",
    "       n          : NetSpec object\n",
    "       bottom     : input to this residual block\n",
    "       nout       : num. of out ch.\n",
    "       downsample :  inclusion of subsample at beginning of this residula block?\n",
    "                     if BottleNeck architecutre used, set True (default: False)\\\n",
    "\n",
    "       initial_stride: stride used in branch2a and branc2b. note that branch3b stride is always 1.\n",
    "\n",
    "\n",
    "    Overview diagram:\n",
    "\n",
    "             +------> [ *_downsample_0 -- *_downsample_1 --- *_downsample_scale ] -----------+\n",
    "             |                                                                               |\n",
    "    bottom --+---------> [ *_conv1 --- *_bn1 --- *_scale1 --- *_relu1 ] ----+                |\n",
    "             |                                                              |                |\n",
    "             |     +--------------------------------------------------------+                |\n",
    "             |     |                                                                         |\n",
    "             |     +---> [ *_conv2 --- *_bn2 --- *_scale2 --- *_relu2 ] ----+                |\n",
    "             |                                                              |                | if downsample == True\n",
    "             |     +--------------------------------------------------------+                |\n",
    "             |     |                                                                         V\n",
    "             |     +---> [ *_conv3 --- *_bn3 --- *_scale3 -------------------------> [ *_res: Eltwise ] ----> *__res_relu :ReLu\n",
    "             |                                                                                ^\n",
    "             |                                                                                |\n",
    "             |                                                                                | if downsample == False\n",
    "             +--------------------------------------------------------------------------------+\n",
    "    '''\n",
    "    prefix = f'{layer_name}_{sublayer_num}'\n",
    "\n",
    "    # -----------------------------------------------------------------\n",
    "    # input downsampling layer at the begining of every layer[0-4]\n",
    "    # ------------------------------------------------------------------\n",
    "    # In pytorch model,\n",
    "    # backbone.body.laye{layer_num}.{sublayer_num}.downsample_0\n",
    "    # backbone.body.layer{layer_num}.{sublayer_num}.downsample_1\n",
    "    # ------------------------------------------------------------------\n",
    "    if downsample_branch:\n",
    "        # downsample at first layer in resnet block\n",
    "        downsample_conv = f'{prefix}_downsample_0'\n",
    "        downsample_bn = f'{prefix}_downsample_1'\n",
    "        downsample_scale = f'{prefix}_downsample_scale'\n",
    "        n[downsample_conv], n[downsample_bn], n[downsample_scale] = \\\n",
    "            conv_bn_scale( bottom, 4*nout, kernel_size=1, stride=initial_stride, pad=0)\n",
    "    else:\n",
    "        initial_stride = 1\n",
    "\n",
    "    # ------------------------------------------------------------------\n",
    "    # In pytorch model,\n",
    "    # backbone.body.layer{layer_num}.{sublayer_num}.conv1\n",
    "    # backbone.body.layer{layer_num}.{sublayer_num}.bn1\n",
    "    # backbone.body.layer{layer_num}.{sublayer_num}.scale1\n",
    "    # backbone.body.layer{layer_num}.{sublayer_num}.relu1\n",
    "    # ------------------------------------------------------------------\n",
    "    conv1 = f'{prefix}_conv1'\n",
    "    bn1 = f'{prefix}_bn1'\n",
    "    scale1 = f'{prefix}_scale1'\n",
    "\n",
    "    n[conv1], n[bn1], n[scale1] = \\\n",
    "        conv_bn_scale( bottom, nout, kernel_size=1, stride=initial_stride, pad=0)\n",
    "\n",
    "    relu1 = f'{prefix}_relu1'\n",
    "    n[relu1] = L.ReLU(n[scale1], in_place=True)\n",
    "\n",
    "    # ------------------------------------------------------------------\n",
    "    # In pytorch model,\n",
    "    # backbone.body.layer{layer_num}.{sublayer_num}.conv2\n",
    "    # backbone.body.layer{layer_num}.{sublayer_num}.bn2\n",
    "    # backbone.body.layer{layer_num}.{sublayer_num}.scale2\n",
    "    # backbone.body.layer{layer_num}.{sublayer_num}.relu2\n",
    "    # ------------------------------------------------------------------\n",
    "    conv2 = f'{prefix}_conv2'\n",
    "    bn2 = f'{prefix}_bn2'\n",
    "    scale2 = f'{prefix}_scale2'\n",
    "\n",
    "    n[conv2], n[bn2], n[scale2] = \\\n",
    "        conv_bn_scale( n[relu1], nout, kernel_size=3, stride=1, pad=1)\n",
    "\n",
    "    relu2 = f'{prefix}_relu2'\n",
    "    n[relu2] = L.ReLU(n[scale2], in_place=True)\n",
    "\n",
    "    # ------------------------------------------------------------------\n",
    "    # In pytorch model,\n",
    "    # backbone.body.layer{layer_num}.{sublayer_num}.conv3\n",
    "    # backbone.body.layer{layer_num}.{sublayer_num}.bn3\n",
    "    # backbone.body.layer{layer_num}.{sublayer_num}.scale3\n",
    "    # ------------------------------------------------------------------\n",
    "    conv3 = f'{prefix}_conv3'\n",
    "    bn3 = f'{prefix}_bn3'\n",
    "    scale3 = f'{prefix}_scale3'\n",
    "\n",
    "    n[conv3], n[bn3], n[scale3] = \\\n",
    "        conv_bn_scale( n[relu2], 4 * nout, kernel_size=1, stride=1, pad=0)\n",
    "\n",
    "    # ---------------------------------------\n",
    "    # skip connection processing\n",
    "    # ---------------------------------------\n",
    "    eltwise = f'{prefix}_eltwise'\n",
    "\n",
    "    if downsample_branch:\n",
    "        n[eltwise] = L.Eltwise(n[downsample_scale], n[scale3])\n",
    "    else:\n",
    "        n[eltwise] = L.Eltwise(bottom, n[scale3])\n",
    "\n",
    "    # ---------------------------------------\n",
    "    # last relu\n",
    "    # backbone.body.layer{layer_num}.{sublayer_num}.relu\n",
    "    # ---------------------------------------\n",
    "    relu = f'{prefix}_relu'\n",
    "    n[relu] = L.ReLU(n[eltwise], in_place=True)\n"
   ]
  },
  {
   "cell_type": "markdown",
   "id": "f2559984",
   "metadata": {},
   "source": [
    "----\n",
    "\n",
    "## RPN (Region Proposal Net)"
   ]
  },
  {
   "cell_type": "markdown",
   "id": "bfb38d0a",
   "metadata": {},
   "source": [
    "### cls_tower_logit()"
   ]
  },
  {
   "cell_type": "code",
   "execution_count": null,
   "id": "1668571b",
   "metadata": {},
   "outputs": [],
   "source": [
    "def cls_tower_logits(bottom, nout=9, bias_term=True, **kwargs):\n",
    "    '''Builds cls_tower_logits in form of [conv => relu]x4 + conv block.\n",
    "       all conv layer uses kernel:3, stride: 1, pad: 1\n",
    "\n",
    "       Params:\n",
    "          bottom (blob) : input to cls tower logits\n",
    "          nout (uint) : num. of outputs in cls logit (last conv layer)\n",
    "          bias_trerm (bool) : use bias term or not in conv layer\n",
    "    '''\n",
    "\n",
    "    # cls tower: 4 times repetition of [conv => relu]\n",
    "    conv1 = L.Convolution(bottom, num_output=1024, bias_term=bias_term, **kwargs)\n",
    "    relu1 = L.ReLU(conv1, in_place=True)\n",
    "\n",
    "    conv2 = L.Convolution(relu1, num_output=1024, bias_term=bias_term, **kwargs)\n",
    "    relu2 = L.ReLU(conv2, in_place=True)\n",
    "\n",
    "    conv3 = L.Convolution(relu2, num_output=1024, bias_term=bias_term, **kwargs)\n",
    "    relu3 = L.ReLU(conv3, in_place=True)\n",
    "\n",
    "    conv4 = L.Convolution(relu3, num_output=1024, bias_term=bias_term, **kwargs)\n",
    "    relu4 = L.ReLU(conv4, in_place=True)\n",
    "\n",
    "    # cl_logits with nout=9\n",
    "    cls_logits = L.Convolution(relu4, num_output=nout, **kwargs, bias_term=bias_term)\n",
    "\n",
    "    return conv1, relu1, conv2, relu2, conv3, relu3, conv4, relu4, cls_logits\n"
   ]
  },
  {
   "cell_type": "markdown",
   "id": "bfc3fdcd",
   "metadata": {},
   "source": [
    "### bbox_tower_pred()"
   ]
  },
  {
   "cell_type": "code",
   "execution_count": null,
   "id": "27964cd8",
   "metadata": {},
   "outputs": [],
   "source": [
    "def bbox_tower_pred(bottom, nout=36, bias_term=True, **kwargs):\n",
    "    '''Builds build a bbox_tower_pred in form of [conv => relu]x4 + conv block.\n",
    "       all conv layer uses kernel:3, stride: 1, pad: 1\n",
    "\n",
    "       Params:\n",
    "          bottom (blob) : input to cls tower logits\n",
    "          nout (uint) : num. of outputs in cls logit (last conv layer)\n",
    "          bias_trerm (bool) : use bias term or not in conv layer\n",
    "    '''\n",
    "    # bbox_tower: 4 times repetition of [conv => relut]\n",
    "    conv1 = L.Convolution(bottom, num_output=1024, bias_term=bias_term, **kwargs)\n",
    "    relu1 = L.ReLU(conv1, in_place=True)\n",
    "\n",
    "    conv2 = L.Convolution(relu1, num_output=1024, bias_term=bias_term, **kwargs)\n",
    "    relu2 = L.ReLU(conv2, in_place=True)\n",
    "\n",
    "    conv3 = L.Convolution(relu2, num_output=1024, bias_term=bias_term, **kwargs)\n",
    "    relu3 = L.ReLU(conv3, in_place=True)\n",
    "\n",
    "    conv4 = L.Convolution(relu3, num_output=1024, bias_term=bias_term, **kwargs)\n",
    "    relu4 = L.ReLU(conv4, in_place=True)\n",
    "\n",
    "    # bbox_pred with nout=36\n",
    "    bbox_pred = L.Convolution(relu4, num_output=nout, bias_term=bias_term, **kwargs)\n",
    "\n",
    "    return conv1, relu1, conv2, relu2, conv3, relu3, conv4, relu4, bbox_pred\n",
    "\n"
   ]
  },
  {
   "cell_type": "markdown",
   "id": "6806e151",
   "metadata": {},
   "source": [
    "----\n",
    "\n",
    "## Detection V2 Nework Build\n",
    "\n"
   ]
  },
  {
   "cell_type": "markdown",
   "id": "122d21b7",
   "metadata": {},
   "source": [
    "###  detection_network_v2_spec()"
   ]
  },
  {
   "cell_type": "code",
   "execution_count": null,
   "id": "bf74927c",
   "metadata": {},
   "outputs": [],
   "source": [
    "#--------------------------------------------------\n",
    "# detection_network v2 model structure\n",
    "# model := backbone + rpn (region proposal network)\n",
    "# backbone := body + fpn (feature pyramid network)\n",
    "# body := resnet 50\n",
    "#--------------------------------------------------\n",
    "def detection_network_v2_spec(n, bottom):\n",
    "    '''Build Backbone with ResNet50 + FPN\n",
    "\n",
    "    Params:\n",
    "    n (caffe.NetSpec) : NetSpec instance\n",
    "    bottom (blob) : innput to detection network\n",
    "\n",
    "    '''\n",
    "    # keep list of feature maps in stage ofrder\n",
    "    features = []\n",
    "\n",
    "\n",
    "    # ************************************************\n",
    "    # 1. model.backbone\n",
    "    # ************************************************\n",
    "    # backbone := body + fpn\n",
    "    # ************************************************\n",
    "\n",
    "\n",
    "    # =================================================================\n",
    "    # 1.1 model.backbone.body\n",
    "    # body = stem (layer 0) +  layer 1 + layer 2 + layer 3 + layer 4\n",
    "    # =================================================================\n",
    "\n",
    "    prefix = \"backbone_body\"\n",
    "    # -------------------------------------\n",
    "    # 1.1.0 model.backbone.body.stem (layer0)\n",
    "    # sublayer: conv1,  bn1, scale, relu, maxpool\n",
    "    # -------------------------------------\n",
    "    layer = f'{prefix}_stem_'\n",
    "\n",
    "    n[layer + 'conv1'], n[layer + 'bn1'], n[layer + 'scale'] = conv_bn_scale(bottom, 64, bias_term=False,\n",
    "                                                                              kernel_size=7, pad=3, stride=2)\n",
    "    n[layer + 'relu'] = L.ReLU(n[layer + 'scale'], in_place=True)\n",
    "    n[layer + 'maxpool'] = L.Pooling(n[layer + 'relu'], kernel_size=3, stride=2, pool=P.Pooling.MAX)\n",
    "\n",
    "    # -------------------------------------\n",
    "    # 1.1.1 model.backbone.body.layer1\n",
    "    # sublayer: 0, 1, 2\n",
    "    # -------------------------------------\n",
    "    pre_layer = layer\n",
    "    layer = f'{prefix}_layer1'\n",
    "\n",
    "    resnet_stage_sublayer(layer, '0', n, n[pre_layer + 'maxpool'], 64, downsample_branch=True, initial_stride=1)\n",
    "\n",
    "    #resnet_stage_sublayer(layer_name, sublayer_num, n, bottom, nout, downsample_branch=False, initial_stride=2):\n",
    "    resnet_stage_sublayer(layer, '1', n, n[layer + '_0_relu'], 64)\n",
    "    resnet_stage_sublayer(layer, '2', n, n[layer + '_1_relu'], 64)\n",
    "\n",
    "    # feature C1\n",
    "    features.append(n[layer + '_2_relu'])\n",
    "\n",
    "    # -------------------------------------\n",
    "    # 1.1.2 model.backbone.body.layer2 (stage 2)\n",
    "    # sublayer: 0, 1, 2, 3\n",
    "    # -------------------------------------\n",
    "    pre_layer = layer\n",
    "    layer = f'{prefix}_layer2'\n",
    "\n",
    "    resnet_stage_sublayer(layer, '0', n, n[pre_layer + '_2_relu'], 128, downsample_branch=True)\n",
    "    resnet_stage_sublayer(layer, '1', n, n[layer + '_0_relu'], 128)\n",
    "    resnet_stage_sublayer(layer, '2', n, n[layer + '_1_relu'], 128)\n",
    "    resnet_stage_sublayer(layer, '3', n, n[layer + '_2_relu'], 128)\n",
    "\n",
    "    # feature C2\n",
    "    features.append(n[layer + '_3_relu'])\n",
    "\n",
    "    # -------------------------------------\n",
    "    # 1.1.3 model.backbone.body.layer3 (stage 3)\n",
    "    # sublayer: 0, 1, 2, 3, 4, 5\n",
    "    # -------------------------------------\n",
    "    pre_layer = layer\n",
    "    layer = f'{prefix}_layer3'\n",
    "\n",
    "    resnet_stage_sublayer(layer, '0', n, n[pre_layer + '_3_relu'], 256, downsample_branch=True)\n",
    "    resnet_stage_sublayer(layer, '1', n, n[layer + '_0_relu'], 256)\n",
    "    resnet_stage_sublayer(layer, '2', n, n[layer + '_1_relu'], 256)\n",
    "    resnet_stage_sublayer(layer, '3', n, n[layer + '_2_relu'], 256)\n",
    "    resnet_stage_sublayer(layer, '4', n, n[layer + '_3_relu'], 256)\n",
    "    resnet_stage_sublayer(layer, '5', n, n[layer + '_4_relu'], 256)\n",
    "\n",
    "    # feature C3\n",
    "    features.append(n[layer + '_5_relu'])\n",
    "\n",
    "    # -------------------------------------\n",
    "    # 1.1.4 model.backbone.body.layer4 (stage 4)\n",
    "    # sublayer: 0, 1, 2\n",
    "    # -------------------------------------\n",
    "    pre_layer = layer\n",
    "    layer = f'{prefix}_layer4'\n",
    "\n",
    "    resnet_stage_sublayer(layer, '0', n, n[pre_layer + '_5_relu'], 512, downsample_branch=True)\n",
    "    resnet_stage_sublayer(layer, '1', n, n[layer + '_0_relu'], 512)\n",
    "    resnet_stage_sublayer(layer, '2', n, n[layer + '_1_relu'], 512)\n",
    "\n",
    "    # feature C4\n",
    "    features.append(n[layer + '_2_relu'])\n",
    "\n",
    "    C1, C2, C3, C4 = features\n",
    "\n",
    "    # =================================================================\n",
    "    # 1.2 model.backbone.fpn\n",
    "    # =================================================================\n",
    "    fpn_results = []\n",
    "    prefix = \"backbone_fpn\"\n",
    "\n",
    "    # -------------------------------------\n",
    "    # 1.2.1 model.backbone.fpn_inner4\n",
    "    # -------------------------------------\n",
    "    layer = f'{prefix}_inner4'\n",
    "    last_inner = n[layer] = L.Convolution(C4, num_output=1024, kernel_size=1, stride=1)\n",
    "\n",
    "    # -------------------------------------\n",
    "    # 1.2.2 model.backbone.fpn_layer4\n",
    "    # -------------------------------------\n",
    "    layer = f'{prefix}_layer4'\n",
    "    n[layer] = L.Convolution(last_inner, num_output=1024, kernel_size=3, stride=1, pad=1)\n",
    "\n",
    "    # featuer pyramid feature P4 append\n",
    "    # P4 = conv (conv (C4))\n",
    "    fpn_results.append(n[layer])\n",
    "\n",
    "    # -------------------------------------\n",
    "    # 1.2.3 model.backbone.fpn_inner3_upsample\n",
    "    # -------------------------------------\n",
    "    layer = f'{prefix}_inner3_upsample' # inner3__upsample\n",
    "    inner3_upsample = n[layer] = L.Deconvolution(last_inner,\n",
    "                               convolution_param\n",
    "                               = dict(num_output=1024, kernel_size=4, stride=2, pad=1,\n",
    "                                      weight_filler=dict(type ='bilinear'),\n",
    "                                      bias_term=False))\n",
    "\n",
    "    # -------------------------------------\n",
    "    # 1.2.4 model.backbone.fpn_inner3_lateral\n",
    "    # -------------------------------------\n",
    "    layer = f'{prefix}_inner3_lateral'\n",
    "    inner3_lateral = n[layer] = L.Convolution(C3, num_output=1024, kernel_size=1, stride=1)\n",
    "\n",
    "    # -------------------------------------\n",
    "    # 1.2.5 model.backbone.fpn_inner3_lateral_sum\n",
    "    # -------------------------------------\n",
    "    layer = f'{prefix}_inner3_lateral_sum' # P3\n",
    "    last_inner = n[layer] = L.Eltwise(inner3_lateral,  inner3_upsample)\n",
    "\n",
    "    # -------------------------------------\n",
    "    # 1.2.6 model.backbone.fpn_layer3\n",
    "    # -------------------------------------\n",
    "    layer = f'{prefix}_layer3'\n",
    "    n[layer] = L.Convolution(last_inner, num_output=1024, kernel_size=3, stride=1, pad=1)\n",
    "\n",
    "    # feature pyramid P3 insert at idx 0\n",
    "    # P3 = unsample(P4) + conv(conv(C3))\n",
    "    fpn_results.insert(0, n[layer])\n",
    "\n",
    "    # -------------------------------------\n",
    "    # 1.2.7 model.backbone.fpn_inner2_upsample\n",
    "    # -------------------------------------\n",
    "    layer = f'{prefix}_inner2_upsample' # inner2__upsample\n",
    "    inner2_upsample = n[layer] = L.Deconvolution(last_inner,\n",
    "                               convolution_param\n",
    "                               = dict(num_output=1024, kernel_size=4, stride=2, pad=1,\n",
    "                                      weight_filler=dict(type ='bilinear'),\n",
    "                                      bias_term=False))\n",
    "\n",
    "    # -------------------------------------\n",
    "    # 1.2.8 model.backbone.fpn_inner3_lateral\n",
    "    # -------------------------------------\n",
    "    layer = f'{prefix}_inner2_lateral'\n",
    "    inner2_lateral = n[layer] = L.Convolution(C2, num_output=1024, kernel_size=1, stride=1)\n",
    "\n",
    "    # -------------------------------------\n",
    "    # 1.2.9 model.backbone.fpn_inner2_lateral_sum\n",
    "    # -------------------------------------\n",
    "    layer = f'{prefix}_inner2_lateral_sum' # P3\n",
    "    last_inner = n[layer] = L.Eltwise(inner2_lateral,  inner2_upsample)\n",
    "\n",
    "    # -------------------------------------\n",
    "    # 1.2.10 model.backbone.fpn_layer2\n",
    "    # -------------------------------------\n",
    "    layer = f'{prefix}_layer2'\n",
    "    n[layer] = L.Convolution(last_inner, num_output=1024, kernel_size=3, stride=1, pad=1)\n",
    "\n",
    "    # feature pyramid P2 insert at idx 0\n",
    "    # P2 = unsample(P3) + conv(conv(C2))\n",
    "    fpn_results.insert(0, n[layer])\n",
    "\n",
    "\n",
    "    # -------------------------------------\n",
    "    # 1.2.11 model.fpn.top_blocks\n",
    "    # -------------------------------------\n",
    "\n",
    "    # -------------------------------------\n",
    "    # 1.2.11.1 model.fpn.top_blocks.p6\n",
    "    # -------------------------------------\n",
    "    prefix = \"backbone_fpn_topblocks\"\n",
    "    layer = f'{prefix}_p6'\n",
    "    n[layer] = L.Convolution(C4, num_output=1024, kernel_size=3, stride=2, pad=1)\n",
    "\n",
    "    # feature pyramid P6 append at end\n",
    "    # P6 = (conv(C4)) ?\n",
    "    fpn_results.append(n[layer])\n",
    "\n",
    "    P6_relu = n[layer + 'relu'] = L.ReLU(n[layer], in_place=True)\n",
    "\n",
    "    # -------------------------------------\n",
    "    # 1.2.11.2 model.fpn.top_blocks.p7\n",
    "    # -------------------------------------\n",
    "\n",
    "    layer = f'{prefix}_p7'\n",
    "    n[layer] = L.Convolution(P6_relu, num_output=1024, kernel_size=3, stride=2, pad=1)\n",
    "\n",
    "    # feature pyramid P6 append at end\n",
    "    # P7 = (conv(P6))\n",
    "    fpn_results.append(n[layer])\n",
    "\n",
    "    # fpn_results = [P2, P3, P4, P6, P7]\n",
    "    # P2 shape: (1, 1024, 60, 72)\n",
    "    # P3 shape: (1, 1024, 30, 36)\n",
    "    # P4 shape: (1, 1024, 15, 18)\n",
    "    # P6 shape: (1, 1024,  8,  9)\n",
    "    # P7 shape: (1, 1024,  4,  5)\n",
    "\n",
    "\n",
    "    # ************************************************\n",
    "    # 2 model.rpn\n",
    "    # rpn := head\n",
    "    # head := cls_tower  => cls_logits\n",
    "    #       bbox_tower => bbox_pred\n",
    "    # ************************************************\n",
    "    logits = []\n",
    "    bbox_reg = []\n",
    "    for idx, p_num in enumerate([2,3,4,6,7]):\n",
    "\n",
    "        bottom = fpn_results[idx]\n",
    "\n",
    "        # cls_tower + cls_logits\n",
    "        prefix = f\"rpn_head_cls_tower_p{p_num}\"\n",
    "        cls_tower_conv1 = f'{prefix}_0'\n",
    "        cls_tower_relu1 = f'{prefix}_1'\n",
    "        cls_tower_conv2 = f'{prefix}_2'\n",
    "        cls_tower_relu2 = f'{prefix}_3'\n",
    "        cls_tower_conv3 = f'{prefix}_4'\n",
    "        cls_tower_relu3 = f'{prefix}_5'\n",
    "        cls_tower_conv4 = f'{prefix}_6'\n",
    "        cls_tower_relu4 = f'{prefix}_7'\n",
    "        cls_logits = f'rpn_head_cls_logits_p{p_num}'\n",
    "\n",
    "        n[cls_tower_conv1], n[cls_tower_relu1], n[cls_tower_conv2], n[cls_tower_relu2], \\\n",
    "        n[cls_tower_conv3], n[cls_tower_relu3], n[cls_tower_conv4], n[cls_tower_relu4], \\\n",
    "        n[cls_logits] = cls_tower_logits(bottom=bottom, nout=9, kernel_size=3, stride=1, pad =1 )\n",
    "\n",
    "        logits.append(n[cls_logits])\n",
    "\n",
    "        # bbox_tower + bbox_pred\n",
    "        prefix = f\"rpn_head_bbox_tower_p{p_num}\"\n",
    "        bbox_tower_conv1 = f'{prefix}_0'\n",
    "        bbox_tower_relu1 = f'{prefix}_1'\n",
    "        bbox_tower_conv2 = f'{prefix}_2'\n",
    "        bbox_tower_relu2 = f'{prefix}_3'\n",
    "        bbox_tower_conv3 = f'{prefix}_4'\n",
    "        bbox_tower_relu3 = f'{prefix}_5'\n",
    "        bbox_tower_conv4 = f'{prefix}_6'\n",
    "        bbox_tower_relu4 = f'{prefix}_7'\n",
    "        bbox_pred = f'rpn_head_bbox_pred_p{p_num}'\n",
    "\n",
    "        n[bbox_tower_conv1], n[bbox_tower_relu1], n[bbox_tower_conv2], n[bbox_tower_relu2], \\\n",
    "        n[bbox_tower_conv3], n[bbox_tower_relu3], n[bbox_tower_conv4], n[bbox_tower_relu4], \\\n",
    "        n[bbox_pred] = bbox_tower_pred(bottom=bottom, nout=36, kernel_size=3, stride=1, pad=1)\n",
    "\n",
    "        bbox_reg.append(n[bbox_pred])\n",
    "\n",
    "    return n.to_proto()\n",
    "\n"
   ]
  },
  {
   "cell_type": "markdown",
   "id": "4e5231d7",
   "metadata": {},
   "source": [
    "-----\n",
    "\n",
    "### Logis and Bbopx regs"
   ]
  },
  {
   "cell_type": "markdown",
   "id": "7d525174",
   "metadata": {},
   "source": [
    "#### logits_and_bbox_regs()"
   ]
  },
  {
   "cell_type": "code",
   "execution_count": null,
   "id": "47800232",
   "metadata": {},
   "outputs": [],
   "source": [
    "def logits_and_bbox_regs(network):\n",
    "    pass\n",
    "\n"
   ]
  },
  {
   "cell_type": "markdown",
   "id": "95ddb983",
   "metadata": {},
   "source": [
    "-----\n",
    "\n",
    "### Anchor Generation"
   ]
  },
  {
   "cell_type": "markdown",
   "id": "4ba696f9",
   "metadata": {},
   "source": [
    "#### anchor_generate()"
   ]
  },
  {
   "cell_type": "code",
   "execution_count": null,
   "id": "7930a141",
   "metadata": {},
   "outputs": [],
   "source": [
    "def anchor_generate(image_list, feature_maps):\n",
    "    pass\n"
   ]
  },
  {
   "cell_type": "markdown",
   "id": "6a9ab7b4",
   "metadata": {},
   "source": [
    "-----\n",
    "\n",
    "### Box Generation"
   ]
  },
  {
   "cell_type": "markdown",
   "id": "ffc2c601",
   "metadata": {},
   "source": [
    "#### box_generate\n"
   ]
  },
  {
   "cell_type": "code",
   "execution_count": null,
   "id": "a86ede18",
   "metadata": {},
   "outputs": [],
   "source": [
    "def box_generate(anchors, objectness, rpn_box_regression):\n",
    "    pass\n"
   ]
  },
  {
   "cell_type": "markdown",
   "id": "df516d93",
   "metadata": {},
   "source": [
    "----\n",
    "\n",
    "## 동작 테스트"
   ]
  },
  {
   "cell_type": "markdown",
   "id": "8d318b24",
   "metadata": {},
   "source": [
    "### NetSpect instantiation"
   ]
  },
  {
   "cell_type": "code",
   "execution_count": null,
   "id": "e71dd252",
   "metadata": {},
   "outputs": [],
   "source": [
    "#------------------------------------------------------\n",
    "# 1. detection network v2 spec preparation\n",
    "#------------------------------------------------------\n",
    "nw_spec = caffe.NetSpec()\n"
   ]
  },
  {
   "cell_type": "markdown",
   "id": "9ec1f84b",
   "metadata": {},
   "source": [
    "### input image transform"
   ]
  },
  {
   "cell_type": "markdown",
   "id": "7f7bb0fe",
   "metadata": {},
   "source": [
    "#### image file loading into PIL.Image with RGB mode"
   ]
  },
  {
   "cell_type": "code",
   "execution_count": null,
   "id": "18708a67",
   "metadata": {},
   "outputs": [],
   "source": [
    "img_file = \"./sample_images/detection/1594202471809.jpg\"\n",
    "img = Image.open(img_file).convert('RGB')\n",
    "pil_image.size"
   ]
  },
  {
   "cell_type": "markdown",
   "id": "9004221e",
   "metadata": {},
   "source": [
    "#### resize PIL.Image"
   ]
  },
  {
   "cell_type": "code",
   "execution_count": null,
   "id": "f1ffb643",
   "metadata": {},
   "outputs": [],
   "source": [
    "# PIL image resize\n",
    "resized_img=pil_image_resize(img)\n",
    "print(f\"resized_img.size (WxH): {resized_img.size}\\nresized_img.mode: {resized_img.mode}\")\n",
    "\n",
    "pvalues = resized_img.getextrema()\n",
    "\n",
    "#print(f\"pvalues: {pvalues}\")\n",
    "for c, p in zip(\"RGB\", pvalues):\n",
    "    print(f\"{c} ch. min/max pixel value: {p[0]}, {p[1]}\")"
   ]
  },
  {
   "cell_type": "markdown",
   "id": "8913e466",
   "metadata": {},
   "source": [
    "#### PIL.Image to ndarray"
   ]
  },
  {
   "cell_type": "code",
   "execution_count": null,
   "id": "06e3f61d",
   "metadata": {},
   "outputs": [],
   "source": [
    "# PIL image to np.ndarray\n",
    "img_arr = to_ndarray(resized_img)\n",
    "print(f\"img_arr.shape (CxHxW): {img_arr.shape}, ch. order in C dimension is RGB\")\n",
    "print(f\"img_arr.dtype: {img_arr.dtype}\")\n",
    "\n",
    "for c, c_i in zip(\"RGB\", range(3)):\n",
    "    print(f\"{c} ch. min/max value: {img_arr[c_i].min()}, {img_arr[c_i].max()}\")"
   ]
  },
  {
   "cell_type": "markdown",
   "id": "49edacf9",
   "metadata": {},
   "source": [
    "#### Normaization\n",
    "\n",
    "Normalization시 ch. 순서를 RGB에서 BGR로 바꾸고, 각 원소의 값에 255를 다시 곱해주고, 다음과 같은 파라메터를 사용하여 normalize한다.\n",
    "* mean = [102.9801, 115.9465, 122.7717]\n",
    "*std = [1.0, 1.0, 1.0]\n"
   ]
  },
  {
   "cell_type": "code",
   "execution_count": null,
   "id": "56f67b14",
   "metadata": {},
   "outputs": [],
   "source": [
    "# normalize with mean and std\n",
    "# mean and std is defined in configuration\n",
    "img_arr = normalize(img_arr)\n",
    "\n",
    "print(f\"img_arr.shape (CxHxW): {img_arr.shape}, ch. order in C dimension is GBR\")\n",
    "print(f\"img_arr.dtype: {img_arr.dtype}\")\n",
    "\n",
    "for c, c_i in zip(\"GBR\", range(3)):\n",
    "    print(f\"{c} ch. min/max value: {img_arr[c_i].min()}, {img_arr[c_i].max()}\")"
   ]
  },
  {
   "cell_type": "markdown",
   "id": "7bda47ef",
   "metadata": {},
   "source": [
    "#### Zero Padding\n",
    "\n",
    "이미지의 width, height를 32의 배수가 되는 크기의 black background에 overlay하고, batch 채널을 추가\n",
    "* CHW ==> NCHW, Ch. order: BGR"
   ]
  },
  {
   "cell_type": "code",
   "execution_count": null,
   "id": "2d59de88",
   "metadata": {},
   "outputs": [],
   "source": [
    "batched_arr = zero_padding(img_arr, size_divisible = 32)\n",
    "print(f\"batched_arr.shape (NxCxHxW): {batched_arr.shape}, ch. order in C dimension is GBR\")\n",
    "print(f\"batched_arr.dtype: {img_arr.dtype}\")\n"
   ]
  },
  {
   "cell_type": "markdown",
   "id": "55ac3a94",
   "metadata": {},
   "source": [
    "----\n",
    "### Set Shape of Data Input in Detection Network Spec\n",
    "\n",
    "referece:\n",
    "* [How to present ndarray to trained caffe net in python?](https://stackoverflow.com/questions/55843935/how-to-present-ndarray-to-trained-caffe-net-in-python)\n",
    "* [Passing captured video frame (numpy array object) from webcam feed to caffe model](https://stackoverflow.com/questions/39998038/passing-captured-video-frame-numpy-array-object-from-webcam-feed-to-caffe-mode)\n",
    "* [pyCaffe Tools, Examples and Resources - David Stutz](https://davidstutz.de/pycaffe-tools-examples-and-resources/#testing)- Testing section\n",
    "* [(How to create Data layer in caffe?](https://stackoverflow.com/questions/42500383/how-to-create-data-layer-in-caffe)\n"
   ]
  },
  {
   "cell_type": "code",
   "execution_count": null,
   "id": "732bd47d",
   "metadata": {},
   "outputs": [],
   "source": [
    "#detection_network_spec.data = L.DummyData(shape=[dict(dim=[1, 3, 480, 576])])\n",
    "\n",
    "nw_spec.data = L.DummyData(shape=[dict(dim=[1, 3, 480, 576])])"
   ]
  },
  {
   "cell_type": "markdown",
   "id": "87db08db",
   "metadata": {},
   "source": [
    "----\n",
    "\n",
    "### Network Spec prototxt Generation"
   ]
  },
  {
   "cell_type": "code",
   "execution_count": null,
   "id": "0ffaa3ee",
   "metadata": {},
   "outputs": [],
   "source": [
    "prototxt = detection_network_v2_spec(nw_spec, nw_spec.data)"
   ]
  },
  {
   "cell_type": "markdown",
   "id": "9cbd5f8a",
   "metadata": {},
   "source": [
    "----\n",
    "\n",
    "### Saving prototxt\n",
    "\n"
   ]
  },
  {
   "cell_type": "code",
   "execution_count": null,
   "id": "294539da",
   "metadata": {},
   "outputs": [],
   "source": [
    "prototxt_file = './detection_v2.prototxt'\n",
    "\n",
    "with open(prototxt_file, 'w') as f:\n",
    "    f.write(str(prototxt))\n",
    "    \n",
    "print(f\"{prototxt_file} written ....\")\n"
   ]
  },
  {
   "cell_type": "code",
   "execution_count": null,
   "id": "15624a3c",
   "metadata": {},
   "outputs": [],
   "source": [
    "!cat ./detection_v2.prototxt"
   ]
  },
  {
   "cell_type": "markdown",
   "id": "2dc375fb",
   "metadata": {},
   "source": [
    "----\n",
    "\n",
    "### Detection Network Instantiation for Test\n",
    "\n",
    "파일로 저장된 detection network v2 spec용 prototxt 파일을 읽어서, test용 Detection Network 인스턴스를 생성한다.\n"
   ]
  },
  {
   "cell_type": "code",
   "execution_count": null,
   "id": "1732f1a4",
   "metadata": {},
   "outputs": [],
   "source": [
    " detection_nw = caffe.Net(prototxt_file, caffe.TEST)\n"
   ]
  },
  {
   "cell_type": "markdown",
   "id": "1a37cc50",
   "metadata": {},
   "source": [
    "**caffe.Net class**\n",
    "\n",
    "refrence: [How to get model inform in caffe and pytorch](http://echo.etri.re.kr:8090/display/~kimkk/how+to+get+model+info+in+caffe+and+pytorch)\n",
    "> defined in `_caffe.so`\n",
    "\n",
    "* [caffe.Net example codes in programtalk.com](https://programtalk.com/python-examples/caffe.Net/)\n",
    "* [caffe.Net example codes in programcrrek.com](https://www.programcreek.com/python/example/83289/caffe.Net)\n",
    "* [pycaffe_doc.ipynb](./pycaffe_doc.ipynb)\n",
    "\n",
    "파이썬 코드로 `caffe.Net` 클래스를 생성할 때, 네트워크는 `.prototxt` 파일에 정의된 네트워크 정의를 사용하여 빌드된다. \n",
    "> 네트워크의 모든 파라메터 (weight + bias) 정보가 저장된 `.caffemodel` 파일을 로드할 때,  `*.caffemodel`에 명시된 모든 레이어들은 prototext 로 정의된 레이어들과 name을 통하여 매칭된다.   \n",
    "> **i) `.prototxt` 파일상에서 정의된 레이어가 `.caffemodel` 파일에 존재하는 경우,**   \n",
    "> * 레이어의 파라메터 (weight + bias, etc.) shape까지 매칭되는 경우, 매칭되는 레이어로 복사된다.    \n",
    "> * 레이어의 파라메터 shape 매칭에 실패하는 경우, shape mismatch 관련 에러 메시지를 발생시킨다.    \n",
    ">\n",
    "> **ii) `.prototxt` 파일상에서 정의된 레이어가 `.caffemodel` 파일에 존재하지 않는 경우,**\n",
    "> * `.prototxt` 파일에서 지정한 내용에 따라 해당 레이어의 파라메터를 초기화한다. 일반적으로 랜덤 값으로 초기화한다.    \n",
    "> * `.caffemodel` 파일에는 있지만, `prototxt` 파일에서 명시되지 않은 모든 레이어의 경우 무시한다.    \n",
    "* source : [What if the model does not match the network config?](https://groups.google.com/g/caffe-users/c/eCygJO2LG30/m/67KqcA-tAwAJ)\n",
    "\n",
    "caffe.Net() 함수를 통하여 로딩한 네트워크를 저장한 Net 클래스 인스턴스인 net 의 attribute를 통하여 사용하여 네트워크의 정보들을 확인할 수있다.\n",
    "\n",
    "* Input layer들의 이름은 ```print(net.inputs)``` 을 통하여 확인할 수 있다.\n",
    "\n",
    "----\n",
    "\n",
    "그외에도 net 오브젝트에는 다음과 같은 3개의  ordered dict가 포함되어 있다.\n",
    "\n",
    "* **caffe.Net.blobs** \n",
    "* **caffe.Net.params**\n",
    "* **caffe.Net.layer_dict**\n",
    "\n",
    "----\n",
    "\n",
    "**caffe.Net.blobs : input and intermediate results**\n",
    "\n",
    "net.blobs는 입력 데이타와 입력 데이타가 레이어들을 따라 계산된 결과를 저장하는 텐서들에 대한 딕셔너리로 다음과 같이 해당 레이어의 top 필드에 사용한 이름을 key로 사용하여 텐서를 접근할 수 있다.\n",
    "* net.blobs['data'] : shape가 (1, 1, 100, 100)인 입력 데이타 텐서\n",
    "* net.blobs['conv']: ‘conv’ (1, 3, 96, 96)를 통하여 계산된 결과 텐서로 0으로 초기화된다.\n",
    "\n",
    "아래와 같은 코드를 통하여 전체 입력 텐서로부터 각 레이어들에서 계산된 결과를 저장한 텐서들의 전체 sahpe 정보를 확인할 수 있다.\n",
    "```python\n",
    "[(k, v.data.shape) for k, v in net.blobs.items()]\n",
    "```\n",
    "----\n",
    "\n",
    "**caffe.Net.params: learned parameters**\n",
    "\n",
    "net.params는 트레이닝을 통하여 학습되는 파라메터를 가지는 learnable layers의 weights와 bias 정보를 저장하는 텐서들에 대한 딕셔너리로, 해당 레이어의 top 필드에 사용한 이름을 key로 사용하여 [weght, bias] 리스트를 접근할 수 있다.\n",
    "* net.params['conv'][0] : \"conv\" 레이어의 shape가 (3, 1, 5, 5)인 weight 텐서\n",
    "* net.params['conv'][1] : conv\" 레이어의 shape가 (3, )인 bias 텐서\n",
    "\n",
    "weight와 bias는 각각 .prototxt  파일의 \"conv‘ 레이어 설정에서 weight_filler 와 bias_filler 필드에 지정된 알고리즘과 설정값으로 초기화된다.\n",
    "\n",
    "아래와 같은 코드를 통하여 네트워크 모델내의 모든 learlable layer에 대하여 weight와 bias의 shape를 확인할 수 있다.\n",
    "```python\n",
    "[(k, v[0].data.shape, v[1].data.shape) for k, v in net.params.items()]\n",
    "```\n",
    "\n",
    "**Blobs**은 mode (CPU, GPU)에 따라 결정되는 디바이스상의 메모리에 대한 abstraction object (aka Tensor)로 실제 데이타는 data  필드에 저장되므로, 'conv` 레이어에 대한 데이타는 다음과 같이 접근할 수 있다.\n",
    "```python\n",
    "print net.blobs['conv'].data.shape\n",
    "```\n",
    "* data  필드에는 해당 데이타의 shape 정보를 포함하는 shape attribute가 있다.\n",
    "\n",
    "----\n",
    "\n",
    "**caffe.Net.layer_dict**\n",
    "\n",
    "네트워크의 bottom에서 top, 즉 input to ouput에 대한 정보를 가지고 있는 Ordered Dict로 레이어의 이름을 key로 사용한다.\n",
    "```python\n",
    "# net is instace of caffe.Net class\n",
    "for idx, layer_name in enumerate(net.layer_dict):\n",
    "    print(f\"-----------------------------\")\n",
    "    print(f\"layer index: {idx}\")\n",
    "    print(f\"-----------------------------\")\n",
    "    print(f\"layer name: {layer_name}\")\n",
    "    print(f\"layer type: {caffe_network.layer_dict[layer_name].type}\")\n",
    "    print(f\"blobs:\")\n",
    "    for blob in caffe_network.layer_dict[layer_name].blobs:\n",
    "        print(f\"\\t{blob}\")\n",
    "        print(f\"\\tblob.channels: {blob.channels}\")\n",
    "        print(f\"\\tblob.data.shape: {blob.data.shape}\")\n",
    "        print(\"\")\n",
    "```"
   ]
  },
  {
   "cell_type": "markdown",
   "id": "50ba9fe6",
   "metadata": {},
   "source": [
    "#### check layer in Detection Network for Test"
   ]
  },
  {
   "cell_type": "code",
   "execution_count": null,
   "id": "4275162a",
   "metadata": {},
   "outputs": [],
   "source": [
    "help(caffe.Net)"
   ]
  },
  {
   "cell_type": "code",
   "execution_count": null,
   "id": "fbfffc5d",
   "metadata": {},
   "outputs": [],
   "source": [
    "help(caffe._caffe.Blob)"
   ]
  },
  {
   "cell_type": "code",
   "execution_count": null,
   "id": "d2d3b3d8",
   "metadata": {},
   "outputs": [],
   "source": [
    "for l in detection_nw.layers:\n",
    "    print(f\"l type: {l.type}\")\n",
    "    print(f\"l blobs: {l.blobs}\")"
   ]
  },
  {
   "cell_type": "markdown",
   "id": "0846df5e",
   "metadata": {},
   "source": [
    "----\n",
    "\n",
    "**caffe.Net.inputs: Network level input**\n",
    "\n",
    "Network 수준에서의 input에 대한 정보"
   ]
  },
  {
   "cell_type": "code",
   "execution_count": null,
   "id": "ec7f1305",
   "metadata": {},
   "outputs": [],
   "source": [
    "detection_nw.inputs"
   ]
  },
  {
   "cell_type": "markdown",
   "id": "e1dbd1fd",
   "metadata": {},
   "source": [
    "----\n",
    "\n",
    "**caffe.Net.outputs: Network level outputs**\n",
    "\n",
    "Network 수준에서의 outputs에 대한 정보"
   ]
  },
  {
   "cell_type": "code",
   "execution_count": null,
   "id": "1e612a86",
   "metadata": {},
   "outputs": [],
   "source": [
    "detection_nw.outputs"
   ]
  },
  {
   "cell_type": "markdown",
   "id": "247cd7d0",
   "metadata": {},
   "source": [
    "----\n",
    "\n",
    "**caffe.Net.params: learned parameters**\n",
    "\n",
    "caffe.Net.params는 트레이닝을 통하여 학습되는 파라메터를 가지는 learnable layers의 weights와 bias 정보를 저장하는 텐서들에 대한 딕셔너리로, 해당 레이어의 top 필드에 사용한 이름을 key로 사용하여 [weght, bias] 리스트를 접근할 수 있다.\n",
    "* net.params['conv'][0] : \"conv\" 레이어의 shape가 (3, 1, 5, 5)인 weight 텐서\n",
    "* net.params['conv'][1] : conv\" 레이어의 shape가 (3, )인 bias 텐서\n",
    "\n",
    "\n",
    "----\n",
    "\n",
    "**caffe.Net.blobs : input and itermediate resutls**\n",
    "\n",
    "caffe.Net.blobs는 입력 데이타와 입력 데이타가 레이어들을 따라 계산된 결과를 저장하는 텐서들에 대한 딕셔너리로 다음과 같이 해당 레이어의 top 필드에 사용한 이름을 key로 사용하여 텐서를 접근할 수 있다.\n",
    "\n",
    "net.blobs['data'] : shape가 (1, 1, 100, 100)인 입력 데이타 텐서\n",
    "net.blobs['conv']: ‘conv’ (1, 3, 96, 96)를 통하여 계산된 결과 텐서로 0으로 초기화된다.\n",
    "\n",
    "\n",
    "아래와 같은 코드를 통하여 전체 입력 텐서로부터 각 레이어들에서 계산된 결과를 저장한 텐서들의 전체 sahpe 정보를 확인할 수 있다.\n",
    "```python\n",
    "[(k, v.data.shape) for k, v in net.blobs.items()]\n",
    "```"
   ]
  },
  {
   "cell_type": "markdown",
   "id": "7529d248",
   "metadata": {},
   "source": [
    "\n",
    "----\n",
    "\n",
    "**caffe.Net.blob_loss_weights**\n",
    "\n",
    "An OrderedDict (bottom to top, i.e., input to output) of network\n",
    "blob loss weights indexed by name"
   ]
  },
  {
   "cell_type": "code",
   "execution_count": null,
   "id": "b777debe",
   "metadata": {},
   "outputs": [],
   "source": [
    "detection_nw.blob_loss_weights"
   ]
  },
  {
   "cell_type": "markdown",
   "id": "d0f52bd8",
   "metadata": {},
   "source": [
    "----\n",
    "\n",
    "**layer information**"
   ]
  },
  {
   "cell_type": "code",
   "execution_count": null,
   "id": "e665ee6f",
   "metadata": {},
   "outputs": [],
   "source": [
    "k_list = list(detection_nw.params.keys())\n",
    "\n",
    "for idx, layer_name in enumerate(detection_nw.layer_dict):\n",
    "    print(f\"\\n-----------------------------\")\n",
    "    print(f\"layer index: {idx}\")\n",
    "    print(f\"layer name: '{layer_name}''\")\n",
    "    print(f\"layer type: '{detection_nw.layers[idx].type}' \")\n",
    "        \n",
    "    if layer_name in k_list:\n",
    "        params = detection_nw.params[layer_name]\n",
    "        print(f\"{len(params)} learnable parameters in ''{detection_nw.layers[idx].type}' type\")\n",
    "        \n",
    "        for i, p in enumerate(params):\n",
    "            #print(f\"\\tparams[{i}]: {p}\")\n",
    "            #print(f\"\\tparams[{i}] CxHxW: {p.channels}x{p.height}x{p.width}\")\n",
    "            print(f\"\\tp[{i}]: {p.data.shape} of {p.data.dtype}\")\n",
    "            print(f\"\\tp.data.dtype: {p.data.dtype}\")\n",
    "            \n",
    "            \n",
    "            #for j, v in enumerate(p.shape):\n",
    "            #    print(f\"\\t\\tp[{j}]: {v}\")\n",
    "                \n",
    "            #print(f\"\\tparams[{i}]: {p.data}\")\n",
    "    else:\n",
    "        print(f\"no learnable parameters in '{layer_name}' of '{detection_nw.layers[idx].type}' type'\")\n",
    "                \n",
    "        \"\"\"\n",
    "        weight = detection_nw.params[layer_name][0]\n",
    "        bias = detection_nw.params[layer_name][1]\n",
    "        print(f\"\\weight of shape: {weight.shape}\")\n",
    "        print(f\"\\bias of shape: {bias.shape}\")\n",
    "        print(\"\")\n",
    "        \"\"\"\n",
    "        \n",
    "        "
   ]
  },
  {
   "cell_type": "code",
   "execution_count": null,
   "id": "7f9c7ff6",
   "metadata": {},
   "outputs": [],
   "source": [
    "help(detection_nw.params)"
   ]
  },
  {
   "cell_type": "code",
   "execution_count": null,
   "id": "8fe1d54d",
   "metadata": {},
   "outputs": [],
   "source": [
    "k_list = list(detection_nw.params.keys())\n",
    "for k in k_list:\n",
    "    print(k)"
   ]
  },
  {
   "cell_type": "markdown",
   "id": "b997adbd",
   "metadata": {},
   "source": []
  },
  {
   "cell_type": "markdown",
   "id": "1c31dd6b",
   "metadata": {},
   "source": [
    "----\n",
    "\n",
    "# PyTorch Detection V2 model Load"
   ]
  },
  {
   "cell_type": "code",
   "execution_count": null,
   "id": "e7747637",
   "metadata": {},
   "outputs": [],
   "source": [
    "def pytorch_model_load():\n",
    "\n",
    "    from maskrcnn_benchmark.config import cfg\n",
    "\n",
    "    # detection model conf and weight file names\n",
    "    detect_model = {\n",
    "        \"v1\":\n",
    "            {\n",
    "                \"config_file\": \"config_det_v1_200723_001_180k.yaml\",\n",
    "                \"weight_file\": \"model_det_v1_200723_001_180k.pth\"\n",
    "\n",
    "            },\n",
    "        \"v2\":\n",
    "            {\n",
    "                \"config_file\": \"config_det_v2_200924_002_180k.yaml\",\n",
    "                \"weight_file\": \"model_det_v2_200924_002_180k.pth\"\n",
    "            }\n",
    "    }\n",
    "\n",
    "    # model version\n",
    "    version = \"v2\"\n",
    "\n",
    "    # test image file path\n",
    "    image_file_path = \"./sample_images/detection/1594202471809.jpg\"\n",
    "\n",
    "    config_file = os.path.join('./model/detection', detect_model[version][\"config_file\"])\n",
    "    weight_file = os.path.join('./model/detection', detect_model[version][\"weight_file\"])\n",
    "\n",
    "    is_recognition = False\n",
    "    # clone project level config and merge with experiment config\n",
    "    cfg = cfg.clone()\n",
    "    cfg.merge_from_file(config_file)\n",
    "\n",
    "    cfg = cfg.clone()\n",
    "    device = torch.device(cfg.MODEL.DEVICE)\n",
    "\n",
    "    model = build_detection_model(cfg)\n",
    "    model.to(device)\n",
    "\n",
    "    # set to evaluation mode for interference\n",
    "    model.eval()\n",
    "\n",
    "    checkpointer = DetectronCheckpointer(cfg, model, save_dir='/dev/null')\n",
    "    _ = checkpointer.load(weight_file)\n",
    "\n",
    "    # build_transforms defined in maskrcnn_benchmark.data.transforms/*.py\n",
    "    transforms = build_transforms(cfg, is_recognition)\n",
    "    cpu_device = torch.device(\"cpu\")\n",
    "    score_thresh = cfg.TEST.SCORE_THRESHOLD\n",
    "    return model, transforms\n",
    "\n",
    "\n",
    "def load_weights_and_biases(caffe_network, pytorch_network):\n",
    "    # print pytorch_network blobs\n",
    "\n",
    "    # print caffe_network blobs : outputs of every layers\n",
    "    \"\"\"\n",
    "    print(f\"len(caffe_network.blobs: {len(caffe_network.blobs)}\")\n",
    "    for k, v in caffe_network.blobs.items():\n",
    "        print(k, v.data.shape)\n",
    "    \"\"\"\n",
    "\n",
    "    # print caffe_network layers\n",
    "\n",
    "    # print caffe_network params : learnable parameter (wights, biases)\n",
    "    \"\"\"\n",
    "    print(f\"len(caffe_network.params): {len(caffe_network.params)}\")\n",
    "    for k, v in caffe_network.params.items():\n",
    "        # v[0] : weights\n",
    "        # v[1] : biases\n",
    "        print(f\"layer_name: {k} \")\n",
    "        for idx, value in enumerate(v):\n",
    "            print(f\"\\tv[{idx}].data.shape: {value.data.shape}\")\n",
    "\n",
    "        #print(f\"\\tweights.shape:{v[0].data.shape}\")\n",
    "        #print(f\"\\tbias.shape: {v[1].data.shape}\")\n",
    "    \"\"\"\n",
    "    pass\n",
    "\n"
   ]
  },
  {
   "cell_type": "code",
   "execution_count": null,
   "id": "97cd0034",
   "metadata": {},
   "outputs": [],
   "source": []
  }
 ],
 "metadata": {
  "kernelspec": {
   "display_name": "Python 3.6 for PyTorch and caffe",
   "language": "python",
   "name": "lomin"
  },
  "language_info": {
   "codemirror_mode": {
    "name": "ipython",
    "version": 3
   },
   "file_extension": ".py",
   "mimetype": "text/x-python",
   "name": "python",
   "nbconvert_exporter": "python",
   "pygments_lexer": "ipython3",
   "version": "3.6.7"
  },
  "toc-autonumbering": true,
  "toc-showmarkdowntxt": true
 },
 "nbformat": 4,
 "nbformat_minor": 5
}
