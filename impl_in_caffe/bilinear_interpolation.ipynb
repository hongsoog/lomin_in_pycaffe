{
 "cells": [
  {
   "cell_type": "markdown",
   "id": "8d957414",
   "metadata": {},
   "source": [
    "# bilinear interpolation of 2D image with scipy.ndimage\n",
    "\n",
    "Reference:\n",
    "* [scipy.ndimage.zoom()](https://docs.scipy.org/doc/scipy/reference/generated/scipy.ndimage.zoom.html)\n",
    "* [Resampling a numpy array representing an image - stackoverflow](https://stackoverflow.com/questions/13242382/resampling-a-numpy-array-representing-an-image)"
   ]
  },
  {
   "cell_type": "code",
   "execution_count": 2,
   "id": "9df44cf4",
   "metadata": {},
   "outputs": [],
   "source": [
    "import numpy as np\n",
    "import scipy.ndimage\n"
   ]
  },
  {
   "cell_type": "code",
   "execution_count": 4,
   "id": "0b08f891",
   "metadata": {},
   "outputs": [],
   "source": [
    "x = np.arange(9).reshape(3,3)"
   ]
  },
  {
   "cell_type": "code",
   "execution_count": 6,
   "id": "57c6caca",
   "metadata": {},
   "outputs": [
    {
     "name": "stdout",
     "output_type": "stream",
     "text": [
      "original array:\n",
      " [[0 1 2]\n",
      " [3 4 5]\n",
      " [6 7 8]]\n"
     ]
    }
   ],
   "source": [
    "print(f\"original array:\\n {x}\")"
   ]
  },
  {
   "cell_type": "code",
   "execution_count": 8,
   "id": "a544ca8a",
   "metadata": {},
   "outputs": [
    {
     "name": "stdout",
     "output_type": "stream",
     "text": [
      "Resampled by a factor of 2 with nearest interpolation:\n",
      " [[0 0 1 1 2 2]\n",
      " [0 0 1 1 2 2]\n",
      " [3 3 4 4 5 5]\n",
      " [3 3 4 4 5 5]\n",
      " [6 6 7 7 8 8]\n",
      " [6 6 7 7 8 8]]\n"
     ]
    }
   ],
   "source": [
    "print(f'Resampled by a factor of 2 with nearest interpolation:\\n {scipy.ndimage.zoom(x, 2, order=0)}')"
   ]
  },
  {
   "cell_type": "code",
   "execution_count": 10,
   "id": "8ea8684d",
   "metadata": {},
   "outputs": [
    {
     "name": "stdout",
     "output_type": "stream",
     "text": [
      "Resampled by a factor of 2 with bilinear interpolation:\n",
      " [[0 0 1 1 2 2]\n",
      " [1 2 2 2 3 3]\n",
      " [2 3 3 4 4 4]\n",
      " [4 4 4 5 5 6]\n",
      " [5 5 6 6 6 7]\n",
      " [6 6 7 7 8 8]]\n"
     ]
    }
   ],
   "source": [
    "print(f'Resampled by a factor of 2 with bilinear interpolation:\\n {scipy.ndimage.zoom(x, 2, order=1)}')"
   ]
  },
  {
   "cell_type": "code",
   "execution_count": 11,
   "id": "7ed0ec17",
   "metadata": {},
   "outputs": [
    {
     "name": "stdout",
     "output_type": "stream",
     "text": [
      "Resampled by a factor of 2 with cubic interpolation:\n",
      " [[0 0 1 1 2 2]\n",
      " [1 1 1 2 2 3]\n",
      " [2 2 3 3 4 4]\n",
      " [4 4 5 5 6 6]\n",
      " [5 6 6 7 7 7]\n",
      " [6 6 7 7 8 8]]\n"
     ]
    }
   ],
   "source": [
    "print(f'Resampled by a factor of 2 with cubic interpolation:\\n {scipy.ndimage.zoom(x, 2, order=3)}')"
   ]
  },
  {
   "cell_type": "code",
   "execution_count": null,
   "id": "46b5d5d3",
   "metadata": {},
   "outputs": [],
   "source": []
  }
 ],
 "metadata": {
  "kernelspec": {
   "display_name": "Python 3.6 for PyTorch and caffe",
   "language": "python",
   "name": "lomin"
  },
  "language_info": {
   "codemirror_mode": {
    "name": "ipython",
    "version": 3
   },
   "file_extension": ".py",
   "mimetype": "text/x-python",
   "name": "python",
   "nbconvert_exporter": "python",
   "pygments_lexer": "ipython3",
   "version": "3.6.7"
  }
 },
 "nbformat": 4,
 "nbformat_minor": 5
}
